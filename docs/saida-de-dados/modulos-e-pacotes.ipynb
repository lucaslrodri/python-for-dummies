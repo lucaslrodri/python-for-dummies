{
 "cells": [
  {
   "cell_type": "markdown",
   "metadata": {},
   "source": [
    "# Módulo e pacotes"
   ]
  },
  {
   "cell_type": "markdown",
   "metadata": {},
   "source": [
    "\n",
    "## Importando módulos\n",
    "\n",
    "O python possui muitas funções e operadores que nativa da própria linguagem de programação  como os operadores básicos (+,-,\\*,/), potenciação (\\*\\*) impressão de valores (`print()`,`.format()`), e etc. \n",
    "\n",
    "No entanto, há algumas **funcionalidades** que você irá precisar para produzir seu código, mas que **não tem nativamente** na linguagem Python, podemos então importar tais funcionalidades para o nosso trabalho como módulos. \n",
    "\n",
    "Agora vejam a definição de módulo segundo um trecho da a própria documentação do Python:\n",
    "\n",
    "> Módulos são um **conjunto** de **códigos como funções, classes, variáveis, etc**. Se você estiver fazendo um programa e ele se tornar muito grande, difícil de ler e se situar nele, é uma boa prática dividi-lo em arquivos menores, para facilitar a manutenção. Também é preferível usar um arquivo separado para uma função que você escreveria em vários programas diferentes, para não copiar a definição de função em cada um deles.\n",
    ">\n",
    "> Para permitir isso, o Python tem uma maneira de **colocar as definições em um arquivo** e então usá-las em um script ou em uma execução interativa do interpretador. **Tal arquivo é chamado de módulo**; definições de um módulo podem ser importadas para outros módulos, ou para o módulo principal.\n",
    "\n",
    "### Importando um módulo\n",
    "\n",
    "Para o nosso primeiro exemplo vamos importar o módulo **math**, um módulo que estende o Python com algumas funcionalidades matemáticas.\n",
    "\n",
    "Execute a célula abaixo:"
   ]
  },
  {
   "cell_type": "code",
   "execution_count": 1,
   "metadata": {},
   "outputs": [],
   "source": [
    "import math # Nesta linha eu estou importando o módulo math"
   ]
  },
  {
   "cell_type": "markdown",
   "metadata": {},
   "source": [
    "Feito isso, tente escrever o seguinte código e aperte `Tab`:"
   ]
  },
  {
   "cell_type": "raw",
   "metadata": {},
   "source": [
    "math."
   ]
  },
  {
   "cell_type": "markdown",
   "metadata": {},
   "source": [
    "Você verá todas as **funções** e **constantes (instâncias)** deste pacote, como mostra na Figura abaixo:\n",
    "\n",
    "![Tab módulos](https://cursopythonufac.github.io/notebooks/cap3/images/tab_modulos.png)"
   ]
  },
  {
   "cell_type": "markdown",
   "metadata": {},
   "source": [
    "Agora apague a célula acima e vamos aprender a calcular a raiz quadrada. Para isso utilize a função `sqrt()` do módulo `math`."
   ]
  },
  {
   "cell_type": "code",
   "execution_count": 2,
   "metadata": {},
   "outputs": [
    {
     "name": "stdout",
     "output_type": "stream",
     "text": [
      "A raiz quadrada de 4 é 2.0\n"
     ]
    }
   ],
   "source": [
    "num = 4\n",
    "raiz = math.sqrt(num) # A função sqrt() do módulo 'math' calcula a raiz quadrada \n",
    "print(f\"A raiz quadrada de {num} é {raiz}\")"
   ]
  },
  {
   "cell_type": "markdown",
   "metadata": {},
   "source": [
    "> **Dica:**\n",
    ">\n",
    "> Teste o exemplo acima com alguns valores, como 5, 4, 3, 2, etc."
   ]
  },
  {
   "cell_type": "markdown",
   "metadata": {},
   "source": [
    "Agora vamos arredondar o resultado da raiz utilizando a função `ceil()`."
   ]
  },
  {
   "cell_type": "code",
   "execution_count": 3,
   "metadata": {},
   "outputs": [
    {
     "name": "stdout",
     "output_type": "stream",
     "text": [
      "A raiz quadrada arredondada de 7 é 3\n"
     ]
    }
   ],
   "source": [
    "num = 7\n",
    "raiz = math.sqrt(num) # A função sqrt() do módulo 'math' calcula a raiz quadrada \n",
    "arredondar = math.ceil(raiz) # A função ceil() arredonda para cima um determinado valor\n",
    "print(f\"A raiz quadrada arredondada de {num} é {arredondar}\")"
   ]
  },
  {
   "cell_type": "markdown",
   "metadata": {},
   "source": [
    "> **Dica:**\n",
    ">\n",
    "> Teste os exemplos acima com alguns valores, como 5, 4, 3, 2, etc."
   ]
  },
  {
   "cell_type": "markdown",
   "metadata": {},
   "source": [
    "**Tarefa:**"
   ]
  },
  {
   "cell_type": "markdown",
   "metadata": {},
   "source": [
    "Vamos praticar com uma constante. Procure a constante `pi` no módulo Math e execute:"
   ]
  },
  {
   "cell_type": "markdown",
   "metadata": {},
   "source": [
    "**Tarefa**:\n",
    "\n",
    "Crie um código que aceite um ângulo em graus como entrada, e imprima na tela o seu correspondente em radianos, o seu seno, cosseno e tangente."
   ]
  },
  {
   "cell_type": "markdown",
   "metadata": {},
   "source": [
    "> **Observação:** Utilize a função `radians()` para fazer a conversão de graus para radianos diretamente.\n",
    "\n",
    "> **Dica:** Utilize as funções `sin()`, `cos()`, `tan()` para calcular o seno cosseno e tangente."
   ]
  },
  {
   "cell_type": "markdown",
   "metadata": {},
   "source": [
    "A saída do programa deve ser parecida com isso:\n",
    "\n",
    "```\n",
    "O ângulo 45° vale 0.79 rad, tem o seno 0.71, cosseno 0.71 e tangente 1\n",
    "```"
   ]
  },
  {
   "cell_type": "markdown",
   "metadata": {},
   "source": [
    "> **Dica:**\n",
    ">\n",
    "> Teste o exemplo acima com os ângulos 0, 30, 45, 60 e 90."
   ]
  },
  {
   "cell_type": "markdown",
   "metadata": {},
   "source": [
    "### Documentação do math\n",
    "\n",
    "Praticamente todo módulo ou pacote do Python tem uma documentação disponível na internet. O módulo `math` é um módulo **built-in**, ou seja, ele é um módulo que já vem junto com o Python. Para estes módulos podemos olhar a própria documentação do Python. Essa documentação está disponível no menu `Help>Python Reference` ou no próprio [site do python](https://www.python.org/), na parte de **Docs**. \n",
    "\n",
    "![Site do Python](https://cursopythonufac.github.io/notebooks/cap3/images/python_images.png)"
   ]
  },
  {
   "cell_type": "markdown",
   "metadata": {},
   "source": [
    "No caso do módulo de matemática, podemos utilizar o seguinte módulo direto:\n",
    "\n",
    "https://docs.python.org/3/library/math.html\n",
    "\n",
    "Lá podemos encontrar explicações detalhadas de todas as funções e constantes do módulo `math`.\n",
    "\n",
    "**Tarefa:** \n",
    "\n",
    "Buscando na documentação do módulo `math`, crie um programa capaz de calcular as seguintes expressões:\n",
    "\n",
    "- $e^x$\n",
    "- $x!$\n",
    "- $\\log_{10}(x+1)$\n",
    "- $(\\pi+e)^x$\n",
    "\n",
    "Considere $x=4$."
   ]
  },
  {
   "cell_type": "markdown",
   "metadata": {},
   "source": [
    "> **Observação:** Teste usar a função `pow()` no lugar do operador `**`."
   ]
  },
  {
   "cell_type": "markdown",
   "metadata": {},
   "source": [
    "A saída deve ser parecida com essa:\n",
    "\n",
    "```\n",
    "Para o valor de x:  1\n",
    "e^1=2.72\n",
    "1!=1\n",
    "log10(1+1)!=0.30\n",
    "(pi+e)^1!=5.86\n",
    "```"
   ]
  },
  {
   "cell_type": "markdown",
   "metadata": {},
   "source": [
    "### from ... import ...\n",
    "\n",
    "É muito chato toda vez que for utilizar alguma funcionalidade da função math, ter que escrever `math.` no início. Através da sintaxe:\n",
    "\n",
    "```python\n",
    "from [módulo] import [função1], [função2], [constante1], [etc]\n",
    "```"
   ]
  },
  {
   "cell_type": "markdown",
   "metadata": {},
   "source": [
    "Podemos incluir somente as funções e constantes que desejamos trabalhar e eliminamos a necessidade de utilizar `math.` no início. Veja o exemplo:\n",
    "\n",
    "> ```python\n",
    "> from math import pi\n",
    "> pi\n",
    "> ```\n",
    ">\n",
    "> 3.141592653589793"
   ]
  },
  {
   "cell_type": "markdown",
   "metadata": {},
   "source": [
    "Vejamos um exemplo de como calcular o fatorial:"
   ]
  },
  {
   "cell_type": "code",
   "execution_count": 4,
   "metadata": {},
   "outputs": [
    {
     "name": "stdout",
     "output_type": "stream",
     "text": [
      "O fatorial de 5 é 120.\n"
     ]
    }
   ],
   "source": [
    "# Utilizando import\n",
    "import math \n",
    "numero = 5\n",
    "fat = math.factorial(numero)\n",
    "print(f\"O fatorial de {numero} é {fat}.\")"
   ]
  },
  {
   "cell_type": "markdown",
   "metadata": {},
   "source": [
    "Percebemos agora, a maneira mais simples de importar um módulo, que é simplesmente digitando `import` e o nome do módulo logo em seguida. Na hora de chamar a função `factorial`precisamos especificar que ela pertence ao módulo em questão, por isso a chamamos com `math.factorial()`.  \n",
    "\n",
    "Agora suponha que iremos usar apenas a função `factorial`, sem usar as outras funções do módulo de matemática, a outra forma de faze-lo é:"
   ]
  },
  {
   "cell_type": "code",
   "execution_count": 5,
   "metadata": {},
   "outputs": [
    {
     "name": "stdout",
     "output_type": "stream",
     "text": [
      "O fatorial de 5 é 120.\n"
     ]
    }
   ],
   "source": [
    "# Utilizando from import\n",
    "from math import factorial\n",
    "numero = 5\n",
    "fat = factorial(numero)\n",
    "print(f\"O fatorial de {numero} é {fat}.\")"
   ]
  },
  {
   "cell_type": "markdown",
   "metadata": {},
   "source": [
    "**Tarefa:** \n",
    "\n",
    "Refaça a tarefa abaixo importando todas as funções necessárias utilizando a notação `from` `import`\n",
    "\n",
    "> Crie um código que aceite um ângulo em graus como entrada, e imprima na tela o seu correspondente em radianos, o seu seno, cosseno e tangente."
   ]
  },
  {
   "cell_type": "markdown",
   "metadata": {},
   "source": [
    "### from ... import *\n",
    "\n",
    "Caso não soubermos as funções que iremos utilizar, ou se iremos utilizar muitas funções de um determinado módulo, podemos importar todas as funções deste módulo utilizando a notação:\n",
    "\n",
    "```python\n",
    "from [módulo] import *\n",
    "```"
   ]
  },
  {
   "cell_type": "code",
   "execution_count": 6,
   "metadata": {},
   "outputs": [
    {
     "name": "stdout",
     "output_type": "stream",
     "text": [
      "O seno de 120° é 2.1\n"
     ]
    }
   ],
   "source": [
    "from math import *\n",
    "ang_graus = 120\n",
    "ang_rad = ang_graus*pi/180 #Observe que estamos utilizando a constante pi\n",
    "print(f\"O seno de {ang_graus}° é {ang_rad:.2g}\")"
   ]
  },
  {
   "cell_type": "markdown",
   "metadata": {},
   "source": [
    "`import *` é **prático**! Mas **tome cuidado**!\n",
    "\n",
    "Segue alguns motivos para **não usar** o `import *`:\n",
    "\n",
    "- Seu código não fica legível\n",
    "- Não fica implícito no código da onde vem aquela função\n",
    "- Caso um ou mais módulos tenham duas funções com o mesmo nome, **você não tem como escolher**, sempre será selecionada a última função importada!\n",
    "- Bugs inesperados\n",
    "- Etc\n",
    "\n",
    "Isso não quer dizer que usar o `import *` é sempre ruim. Ele pode ser prático em códigos pequenos, ou em módulos que você já conhece bem e que você saiba o que está fazendo.\n",
    "\n",
    "Para mais detalhes clique [aqui](https://www.geeksforgeeks.org/why-import-star-in-python-is-a-bad-idea)."
   ]
  },
  {
   "cell_type": "markdown",
   "metadata": {},
   "source": [
    "### Outros módulos built-in\n",
    "\n",
    "Além do módulo math, existem outros módulos _built-in_ e você pode encontrá-los na documentação do Python, em `Library reference` (A página tem o título `Python Library Standard `)\n",
    "\n",
    "![Bibliotecas Built-in do Python](https://cursopythonufac.github.io/notebooks/cap3/images/bibliotecas.png)\n",
    "\n",
    "Esta página mostra diversos módulos em formas de categorias.\n",
    "\n",
    "Para continuarmos os nossos exercícios vamos utilizar uma outro módulo de matemática, o módulo `random`. Ele está na seção `Numeric and Mathematical Modules`. Vamos ver um exemplo com a função `random()`:"
   ]
  },
  {
   "cell_type": "code",
   "execution_count": 7,
   "metadata": {},
   "outputs": [],
   "source": [
    "from random import random # A função random() gera um float pseudo aleatório de 0.0 <= x < 1.0\n",
    "from math import floor # A função ceil() arredonda para baixo"
   ]
  },
  {
   "cell_type": "code",
   "execution_count": 8,
   "metadata": {},
   "outputs": [
    {
     "data": {
      "text/plain": [
       "5"
      ]
     },
     "execution_count": 8,
     "metadata": {},
     "output_type": "execute_result"
    }
   ],
   "source": [
    "aleatorio=floor(10*random()) # Gera um número pseudo aleatório de 0 a 9\n",
    "aleatorio"
   ]
  },
  {
   "cell_type": "markdown",
   "metadata": {},
   "source": [
    "Observe que nesse exemplo para conseguir esse efeito combinamos duas funções de módulos diferentes."
   ]
  },
  {
   "cell_type": "markdown",
   "metadata": {},
   "source": [
    "**Tarefa:**\n",
    "\n",
    "Olhando a documentação do módulo `random` refaça o exemplo sem utilizar o módulo `math`."
   ]
  },
  {
   "cell_type": "markdown",
   "metadata": {},
   "source": [
    "**Tarefa:**\n",
    "\n",
    "Lendo a documentação indique quais módulos são mais adequados para:\n",
    "\n",
    "- Trabalhar com o tempo (Horas, dias, semanas).\n",
    "- Trabalhar com diretórios e arquivos.\n",
    "- Trabalhar com tabelas do tipo csv.\n",
    "- Trabalhar com funções do sistema operacional."
   ]
  },
  {
   "cell_type": "markdown",
   "metadata": {},
   "source": [
    "### Apelidando módulos (alias)\n",
    "\n",
    "Uma outra forma de importar módulos é renomeando-o. Observe novamente o exemplo do fatorial:"
   ]
  },
  {
   "cell_type": "code",
   "execution_count": 9,
   "metadata": {},
   "outputs": [
    {
     "name": "stdout",
     "output_type": "stream",
     "text": [
      "O fatorial de 7 é 5040.\n"
     ]
    }
   ],
   "source": [
    "import math as m\n",
    "numero = 7\n",
    "fat = m.factorial(numero)\n",
    "print(\"O fatorial de {} é {}.\".format(numero, fat))"
   ]
  },
  {
   "cell_type": "markdown",
   "metadata": {},
   "source": [
    "Observe que a sintaxe `import math as m` tornou o mesmo módulo disponível agora por um nome diferente, no caso, `mat`. Dessa forma, podemos chamar uma função do módulo como `m.função`, como mostrado acima."
   ]
  },
  {
   "cell_type": "markdown",
   "metadata": {},
   "source": [
    "Essa funcionalidade é particularmente útil quando o nome do módulo é grande e a tarefa de escreve-lo diversas vezes torna-se chata, como é mostrado abaixo:"
   ]
  },
  {
   "cell_type": "markdown",
   "metadata": {},
   "source": [
    "> ```python\n",
    "> import matplotlib.pyplot as plt # Submódulo para plotar gráficos\n",
    "> ```"
   ]
  },
  {
   "cell_type": "markdown",
   "metadata": {},
   "source": [
    "Sempre **prefira essa notação de `import [nome_do_pacote] as [novo_nome_do_pacote]`ao invés de apenas `import * `**, pois desta forma você deixa o código legível e evita a tarefa chata de ter que escrever o nome completo do módulo toda vez que vai utilizar uma funcionalidade do módulo."
   ]
  },
  {
   "cell_type": "markdown",
   "metadata": {},
   "source": [
    "**Tarefa:**\n",
    "\n",
    "Considere o código abaixo, substitua o `from math import *` por `ìmport math as m`:"
   ]
  },
  {
   "cell_type": "code",
   "execution_count": 10,
   "metadata": {},
   "outputs": [
    {
     "name": "stdout",
     "output_type": "stream",
     "text": [
      "O seno de 90° é 1 rad.\n"
     ]
    }
   ],
   "source": [
    "from math import *\n",
    "ang_graus = 90\n",
    "ang_rad = ang_graus*pi/180 #Observe que estamos utilizando a constante pi\n",
    "print(f\"O seno de {ang_graus}° é {sin(ang_rad):.2g} rad.\")"
   ]
  },
  {
   "cell_type": "markdown",
   "metadata": {},
   "source": [
    "## Pacotes do Anaconda\n",
    "\n",
    "Como dito anteriormente, podemos ver os módulos como se fossem caixas com diversas funções úteis dentro, e que podemos acessa-las com um `import`.  \n",
    "\n",
    "```mermaid\n",
    "classDiagram\n",
    "\tclass Math{\n",
    "\t\t<<Módulo>>\n",
    "\t\tpi\n",
    "\t\te\n",
    "\t\tinf\n",
    "\t\tetc\n",
    "\t\tceil(x)\n",
    "\t\tcomb(n,k)\n",
    "\t\tcopysign(x,y)\n",
    "\t\tetc()\n",
    "\t}\n",
    "```"
   ]
  },
  {
   "cell_type": "markdown",
   "metadata": {},
   "source": [
    "> **Figura 1:** Representação do módulo Math.\n",
    "\n",
    "No python, também há o conceito de Pacote. Podemos ver os pacotes como módulos que contém outros módulos separados por temática. Na imagem abaixo temos o pacote `Game`. Dentro deste pacote existem outros módulos."
   ]
  },
  {
   "cell_type": "markdown",
   "metadata": {},
   "source": [
    "```mermaid\n",
    "classDiagram\n",
    "    Game .. Som\n",
    "    Game .. Imagem\n",
    "    Game .. Fase\n",
    "\n",
    "    class Game {\n",
    "        <<Pacote>>\n",
    "    }\n",
    "\n",
    "    class Som {\n",
    "        <<Sub-Módulo>>\n",
    "        +volumeEfeito\n",
    "        +volumeMusica\n",
    "        +reproduzirEfeito()\n",
    "        +reproduzirMusica()\n",
    "        +mudarVolume()\n",
    "    }\n",
    "\n",
    "    class Imagem {\n",
    "        <<Sub-Módulo>>\n",
    "        +qualidade\n",
    "        +filtros\n",
    "        +mudarQualidade()\n",
    "        +mudarFiltros()\n",
    "    }\n",
    "\n",
    "    class Fase {\n",
    "        <<Sub-Módulo>>\n",
    "        +mundo\n",
    "        +numero\n",
    "        +chefe\n",
    "        +entrar()\n",
    "        +derrotarChefe()\n",
    "    }\n",
    "```"
   ]
  },
  {
   "cell_type": "markdown",
   "metadata": {},
   "source": [
    "> **Figura 2:** Conceito de pacote."
   ]
  },
  {
   "cell_type": "markdown",
   "metadata": {},
   "source": [
    "O nosso pacote fictício agora possui vários sub-módulos, cada um deles com diversas funções diferentes e de modo mais organizado na visão do programador. \n",
    "\n",
    "Muitos dos pacotes utilizados pela comunidade Python não vem por padrão na linguagem. Por sorte o **Anaconda trás diversos pacotes úteis** para o programador Python. Desta forma não precisamos nos preocupar em instalar muitos pacotes utilizados na comunidade Python. Podemos citar alguns exemplos de pacotes que vem junto com o Anaconda:"
   ]
  },
  {
   "cell_type": "markdown",
   "metadata": {},
   "source": [
    "- [Numpy](https://numpy.org/doc/stable/user/index.html) - Computação científica e gerenciamento de arrays e matrizes\n",
    "- [Scipy](https://docs.scipy.org/doc/scipy/reference/index.html) - Computação científica (Extensão do NumPy)\n",
    "- [Sympy](https://docs.sympy.org/latest/tutorials/intro-tutorial/intro.html) - Variáveis simbólicas\n",
    "- [Pandas](https://pandas.pydata.org/docs/user_guide/index.html) - Análise de dados\n",
    "- [Matplotlib](https://matplotlib.org/stable/gallery/index) - Gráficos e plotagens\n",
    "- [Plotly](https://plotly.com/python/) - Plotagem de gráficos dinâmicos\n",
    "- [Seaborn](https://seaborn.pydata.org/examples/index.html) - Plotagem de gráficos estatísticos\n",
    "- [TensorFlow](https://www.tensorflow.org/?hl=pt-br) - Tensores e Inteligência Artificial (Google)\n",
    "- [Keras](https://keras.io/api/) - Inteligência artificial (Google)\n",
    "- [PyTorch](https://pytorch.org/get-started/locally/) - Inteligência Artificial (Meta)\n",
    "- [Scikit-learn](https://scikit-learn.org/stable/) - Machine Learning\n",
    "- [OpenCV](https://opencv.org/) - Processamento de imagens\n",
    "- [Pillow](https://pillow.readthedocs.io/en/stable/) - Visualização e processamento de imagens"
   ]
  },
  {
   "cell_type": "markdown",
   "metadata": {},
   "source": [
    "Pode ser que na sua máquina estes pacotes não estejam instalados. Entretanto podemos instalá-los utilizando o terminal e utilizando o comando:"
   ]
  },
  {
   "cell_type": "markdown",
   "metadata": {},
   "source": [
    "> `conda install [pacote]`"
   ]
  },
  {
   "cell_type": "markdown",
   "metadata": {},
   "source": [
    "O `conda` é o gerenciador de pacotes do Anaconda. Através desse comando podemos instalar, pesquisar e desinstalar pacotes. Abaixo segue alguns comandos que podemos utilizar no gerenciador de pacotes do Anaconda."
   ]
  },
  {
   "cell_type": "markdown",
   "metadata": {},
   "source": [
    "| Comando              | Função                                                   |\n",
    "| -------------------- | -------------------------------------------------------- |\n",
    "| `install [pacote]`   | Instala um pacote                                        |\n",
    "| `--help`             | Ajuda                                                    |\n",
    "| `uninstall [pacote]` | Remove um pacote                                         |\n",
    "| `search [palavra]`   | Procura por um determinado pacote baseado em uma palavra |\n",
    "| update               | Faz o update de todos os pacotes do Anaconda             |"
   ]
  },
  {
   "cell_type": "markdown",
   "metadata": {},
   "source": [
    "### Pacote Numpy"
   ]
  },
  {
   "cell_type": "markdown",
   "metadata": {},
   "source": [
    "É um pacote fundamental para computação científica em Python. Ele fornece suporte para arrays multidimensionais e funções matemáticas de alto desempenho, como operações de álgebra linear, funções trigonométricas, dentre outras.\n",
    "\n",
    "A documentação do numpy está disponível [aqui](https://numpy.org/doc/stable/user/absolute_beginners.html).\n",
    "\n",
    "A documentação recomenda que o NumPy seja importado com o alias `np`, que deixa a escrita do código mais concisa. Para importá-lo siga a linha de código abaixo:\n",
    "\n",
    "```python\n",
    "import numpy as np\n",
    "```\n",
    "\n",
    "Por exemplo, podemos reescrever o código para cálculo de fatorial usando o numpy:"
   ]
  },
  {
   "cell_type": "code",
   "execution_count": 11,
   "metadata": {},
   "outputs": [],
   "source": [
    "import numpy as np"
   ]
  },
  {
   "cell_type": "code",
   "execution_count": 12,
   "metadata": {},
   "outputs": [
    {
     "name": "stdout",
     "output_type": "stream",
     "text": [
      "A raiz quadrada de 4 é 2.0\n"
     ]
    }
   ],
   "source": [
    "num = 4\n",
    "raiz = np.sqrt(num) # A função sqrt() do módulo 'math' calcula a raiz quadrada \n",
    "print(f\"A raiz quadrada de {num} é {raiz}\")"
   ]
  },
  {
   "cell_type": "markdown",
   "metadata": {},
   "source": [
    "**Tarefa:**\n",
    "\n",
    "Buscando na documentação do módulo Numpy, crie um programa capaz de calcular as seguintes expressões:\n",
    "\n",
    "- $e^x$\n",
    "- $x!$\n",
    "- $\\log_{10}(x+1)$\n",
    "- $(\\pi+e)^x$\n",
    "\n",
    "Considere $x=4$."
   ]
  },
  {
   "cell_type": "markdown",
   "metadata": {},
   "source": [
    "**Tarefa:**\n",
    "\n",
    "Crie um código que receba as notas do bimestre de 4 alunos conforme a tabela abaixo, compute a média e arredonde pra cima. Você deverá usar o módulo NumPy e consultar a documentação para entender a função que arredonda e usa-la no seu programa. O código deverá imprimir na tela a média final de cada um e o quanto cada aluno ganhou de nota no arredondamento.\n",
    "\n",
    "| Aluno     |  N1  |  N2  |  N3  |  N4  |\n",
    "| --------- | :--: | :--: | :--: | :--: |\n",
    "| Pedrinho  | 7.00 | 8.75 | 8.3  | 5.60 |\n",
    "| Joãozinho | 7.00 | 7.00 | 8.1  | 9.00 |\n",
    "| Juninho   | 6.40 | 7.50 | 8.45 | 9.00 |"
   ]
  },
  {
   "cell_type": "markdown",
   "metadata": {},
   "source": [
    "### Pacote IPython (Saídas ricas)\n",
    "\n",
    "Nos capítulos anteriores vimos que o `print()` é a principal função de impressão do Python, mas não é a única. Neste capítulo será introduzido as saídas do **IPython**.\n",
    "\n",
    "A saída IPython é muito rica, com ela podemos mostrar:\n",
    "\n",
    "- Audio\n",
    "- Videos (Inclusive do Youtube)\n",
    "- Videos do Youtube\n",
    "- LaTeX\n",
    "- Equações\n",
    "- HTML (E código JavaScript)\n",
    "- Figuras\n",
    "- Sites (IFrame)\n",
    "- Markdown\n",
    "- Dentre outros\n",
    "\n",
    "Mais detalhes podem ser vistos na [documentação](https://ipython.org/ipython-doc/dev/api/generated/IPython.display.html)."
   ]
  },
  {
   "cell_type": "markdown",
   "metadata": {},
   "source": [
    "Primeiro importamos o sub-módulo display do IPython:"
   ]
  },
  {
   "cell_type": "code",
   "execution_count": null,
   "metadata": {},
   "outputs": [],
   "source": []
  },
  {
   "cell_type": "code",
   "execution_count": 13,
   "metadata": {},
   "outputs": [],
   "source": [
    "# Importando o IPython.display\n",
    "import IPython.display as ipy"
   ]
  },
  {
   "cell_type": "markdown",
   "metadata": {},
   "source": [
    "Agora veja alguns exemplos:\n",
    "\n",
    "**Audio:**"
   ]
  },
  {
   "cell_type": "code",
   "execution_count": 14,
   "metadata": {},
   "outputs": [
    {
     "data": {
      "text/html": [
       "\n",
       "                <audio  controls=\"controls\" >\n",
       "                    <source src=\"http://www.w3schools.com/html/horse.ogg\" type=\"audio/ogg\" />\n",
       "                    Your browser does not support the audio element.\n",
       "                </audio>\n",
       "              "
      ],
      "text/plain": [
       "<IPython.lib.display.Audio object>"
      ]
     },
     "execution_count": 14,
     "metadata": {},
     "output_type": "execute_result"
    }
   ],
   "source": [
    "# Posso reproduzir um audio qualquer no meu notebook\n",
    "ipy.Audio(url=\"http://www.w3schools.com/html/horse.ogg\")"
   ]
  },
  {
   "cell_type": "markdown",
   "metadata": {},
   "source": [
    "**Imagem:**"
   ]
  },
  {
   "cell_type": "code",
   "execution_count": 15,
   "metadata": {},
   "outputs": [
    {
     "data": {
      "text/html": [
       "<img src=\"http://www.google.fr/images/srpr/logo3w.png\"/>"
      ],
      "text/plain": [
       "<IPython.core.display.Image object>"
      ]
     },
     "execution_count": 15,
     "metadata": {},
     "output_type": "execute_result"
    }
   ],
   "source": [
    "# Posso mostrar imagens no meu notebook\n",
    "ipy.Image(url='http://www.google.fr/images/srpr/logo3w.png')"
   ]
  },
  {
   "cell_type": "markdown",
   "metadata": {},
   "source": [
    "**Código HTML (Linguagem da Web):**"
   ]
  },
  {
   "cell_type": "code",
   "execution_count": 16,
   "metadata": {},
   "outputs": [
    {
     "data": {
      "text/html": [
       "<p style=\"color:blue\">Um texto azul em HTML.</p>"
      ],
      "text/plain": [
       "<IPython.core.display.HTML object>"
      ]
     },
     "execution_count": 16,
     "metadata": {},
     "output_type": "execute_result"
    }
   ],
   "source": [
    "ipy.HTML('<p style=\"color:blue\">Um texto azul em HTML.</p>')"
   ]
  },
  {
   "cell_type": "markdown",
   "metadata": {},
   "source": [
    "**Youtube:**"
   ]
  },
  {
   "cell_type": "code",
   "execution_count": 17,
   "metadata": {},
   "outputs": [
    {
     "data": {
      "image/jpeg": "[encoded data removed]",
      "text/html": [
       "\n",
       "        <iframe\n",
       "            width=\"400\"\n",
       "            height=\"300\"\n",
       "            src=\"https://www.youtube.com/embed/St9pE2bv0zQ\"\n",
       "            frameborder=\"0\"\n",
       "            allowfullscreen\n",
       "            \n",
       "        ></iframe>\n",
       "        "
      ],
      "text/plain": [
       "<IPython.lib.display.YouTubeVideo at 0x1b66fefccb0>"
      ]
     },
     "execution_count": 17,
     "metadata": {},
     "output_type": "execute_result"
    }
   ],
   "source": [
    "ipy.YouTubeVideo('St9pE2bv0zQ')"
   ]
  },
  {
   "cell_type": "markdown",
   "metadata": {},
   "source": [
    "**Um site (IFrame):**"
   ]
  },
  {
   "cell_type": "code",
   "execution_count": 18,
   "metadata": {},
   "outputs": [
    {
     "data": {
      "text/html": [
       "\n",
       "        <iframe\n",
       "            width=\"400\"\n",
       "            height=\"300\"\n",
       "            src=\"https://lucaslrodri.github.io/python-for-dummies/\"\n",
       "            frameborder=\"0\"\n",
       "            allowfullscreen\n",
       "            \n",
       "        ></iframe>\n",
       "        "
      ],
      "text/plain": [
       "<IPython.lib.display.IFrame at 0x1b66fedc4a0>"
      ]
     },
     "execution_count": 18,
     "metadata": {},
     "output_type": "execute_result"
    }
   ],
   "source": [
    "# Podemos colocar um IFrame, que de forma simplificada é uma página web incorporada ao Notebook\n",
    "ipy.IFrame(src=\"https://lucaslrodri.github.io/python-for-dummies/\", width=400, height=300)"
   ]
  },
  {
   "cell_type": "markdown",
   "metadata": {},
   "source": [
    "**Markdown:**"
   ]
  },
  {
   "cell_type": "code",
   "execution_count": 19,
   "metadata": {},
   "outputs": [
    {
     "data": {
      "text/markdown": [
       "Este texto está em _itálico_ e este em **negrito**."
      ],
      "text/plain": [
       "<IPython.core.display.Markdown object>"
      ]
     },
     "execution_count": 19,
     "metadata": {},
     "output_type": "execute_result"
    }
   ],
   "source": [
    "TextoEmMarkdown=\"Este texto está em _itálico_ e este em **negrito**.\"\n",
    "\n",
    "ipy.Markdown(TextoEmMarkdown)"
   ]
  },
  {
   "cell_type": "markdown",
   "metadata": {},
   "source": [
    "#### Função display"
   ]
  },
  {
   "cell_type": "markdown",
   "metadata": {},
   "source": [
    "Observe que todas as vezes que digitamos as saídas Markdown sempre apareceu aquele número em colchetes que fica do lado esquerdo da célula (Exemplo `[12]:`). Para eliminar isso basta chamar a função `ipy.Markdown()` dentro da função `display()`. Veja abaixo:"
   ]
  },
  {
   "cell_type": "code",
   "execution_count": 20,
   "metadata": {},
   "outputs": [
    {
     "data": {
      "text/markdown": [
       "Este texto está em _itálico_ e este em **negrito**."
      ],
      "text/plain": [
       "<IPython.core.display.Markdown object>"
      ]
     },
     "metadata": {},
     "output_type": "display_data"
    }
   ],
   "source": [
    "TextoEmMarkdown=\"Este texto está em _itálico_ e este em **negrito**.\"\n",
    "\n",
    "display(ipy.Markdown(TextoEmMarkdown))"
   ]
  },
  {
   "cell_type": "markdown",
   "metadata": {},
   "source": [
    "**Tarefa:**\n",
    "\n",
    "Vimos nos primeiros capítulos como escrever strings multi-linhas. Quando queremos escrever textos longos  através da saída do IPython utilizar a notação multi-linha é util.\n",
    "\n",
    "Faça uma lista de compras em Python e mostre-a em Markdown.\n",
    "\n",
    "> **Dica:**\n",
    "> Use como base:\n",
    "> ```markdown\n",
    "> **Lista de compras:**\n",
    "> \n",
    "> - Maça\n",
    "> - Banana\n",
    "> - Leite\n",
    "> - Queijo\n",
    "> ```"
   ]
  },
  {
   "cell_type": "markdown",
   "metadata": {},
   "source": [
    "## Pacotes externos\n",
    "\n",
    "Existem outros gerenciadores de pacotes além do `conda`. O Python Package Index (PyPI), ou simplesmente pip, é o gerenciador padrão do Python, e muitas vezes só podemos encontrar um pacote neste gerenciador. Você pode encontrar um link do site oficial do pip no próprio site do Python.\n",
    "\n",
    "![Como encontrar o pip](https://cursopythonufac.github.io/notebooks/cap3/images/pip.png)"
   ]
  },
  {
   "cell_type": "markdown",
   "metadata": {},
   "source": [
    "Segundo este mesmo site no momento em que este roteiro está sendo escrito existem **267182 pacotes disponíveis para instalar** através desse gerenciador. \n",
    "\n",
    "Você pode encontrar uma pequena descrição do pacote ao buscar dentro desta plataforma.\n",
    "\n",
    "Geralmente os **pacotes têm seu código fonte disponível no [Github](https://github.com/)**, portanto se no site [pypi](https://pypi.org/) não tiver muita informação desse pacote, procure-o no Github, com uma simples pesquisa no Google:\n",
    "\n",
    "![Imagens do Pyperclip](https://cursopythonufac.github.io/notebooks/cap3/images/pyperclip_google.png)\n",
    "\n",
    "> **Observação:**\n",
    ">\n",
    "> Inclusive este site está hospedado no Github.\n",
    "\n",
    "Outro site muito relevante para encontrar documentação de pacotes em python é o [Read the Docs](https://readthedocs.org/), um site de documentação.\n",
    "\n",
    "![Site Read the docs](https://cursopythonufac.github.io/notebooks/cap3/images/read_the_docs.png)\n",
    "\n",
    "Por exemplo, o própria documentação do JupyterLab está hospedada lá:\n",
    "\n",
    "> [https://jupyterlab.readthedocs.io/en/latest/](https://jupyterlab.readthedocs.io/en/latest/)\n",
    "\n",
    "A sintaxe  de comando do `pip` é muito parecida com a do `conda`:\n",
    "\n",
    "| Comando              | Função                                                   |\n",
    "| -------------------- | -------------------------------------------------------- |\n",
    "| `install [pacote]`   | Instala um pacote                                        |\n",
    "| `--help`             | Ajuda                                                    |\n",
    "| `uninstall [pacote]` | Remove um pacote                                         |\n",
    "| `search [palavra]`   | Procura por um determinado pacote baseado em uma palavra |\n",
    "| update               | Faz o update de todos os pacotes do Anaconda             |\n",
    "\n",
    "Mais comandos podem ser vistos [aqui](https://dzone.com/articles/most-important-quotpipquot-commands-for-a-python-d)."
   ]
  },
  {
   "attachments": {},
   "cell_type": "markdown",
   "metadata": {},
   "source": [
    "#### Pacotes para STEM\n",
    "\n",
    "Na área de STEM (Ciência, Tecnologia, Matemática e Engenharia) existem uma infinidade de pacotes úteis que podem ser instalados através do `pip` (ou `conda`) ou seguindo as instruções no `github`.\n",
    "\n",
    "> **Observação:**\n",
    ">\n",
    "> Estou dando dicas de pacotes de STEM, porque é a área que eu trabalho.\n",
    "\n",
    "Agora vamos aos exemplos:\n",
    "\n",
    "- [Jupyter TikZ](https://jupyter-tikz.readthedocs.io/stable/) - Desenho em geral usando Jupyter (Minha biblioteca)\n",
    "- [Schemdraw](https://schemdraw.readthedocs.io/en/stable/gallery/analog.html) - Desenho de circuitos elétricos e diagramas lógicos\n",
    "- [Control](https://python-control.readthedocs.io/en/0.10.1/) - Modelagem e projeto de sistemas de controle\n",
    "- [Lcapy](http://lcapy.elec.canterbury.ac.nz/) - Linear Circuit Analysis (Análises de circuitos lineares)\n",
    "- [pysimCoder](https://github.com/robertobucher/pysimCoder) - Editor de blocos similar ao Simulink\n",
    "- [PySpice]( https://pyspice.fabrice-salvaire.fr/) - Simulador de circuitos\n",
    "- [py-dss-interface](https://pypi.org/project/py-dss-interface/) - Interface do Python com o OpenDSS (Simulador para sistemas de distribuição de energia elétrica)\n",
    "\n",
    "\n",
    "**Tarefa:**\n",
    "\n",
    "Pesquise pacotes relevantes na internet que seja útil para a sua área e faça um resumo desse pacote.\n",
    "\n",
    "Segue dois exemplos:"
   ]
  },
  {
   "cell_type": "markdown",
   "metadata": {},
   "source": [
    "**Control** : **P**ython **C**ontrol **S**ystems **L**ibrary\n",
    "\n",
    "**Área:** Engenharia Elétrica / Engenharia de controle e automação\n",
    "\n",
    "**Descrição:** Permite a análise e operação de sistemas de controle.\n",
    "\n",
    "**Documentação:** [http://python-control.readthedocs.org/](http://python-control.readthedocs.org/)\n",
    "\n",
    "**Repositório (Github):** [https://github.com/python-control/python-control](https://github.com/python-control/python-control)\n",
    "\n",
    "**Instalação (PyPI):** [https://pypi.org/project/control/](https://pypi.org/project/control/)\n",
    "\n",
    "```bash\n",
    "conda install -c conda-forge control slycot #Método recomendado\n",
    "```\n",
    "\n",
    "ou\n",
    "\n",
    "```bash\n",
    "pip install slycot   # optional; see below\n",
    "pip install control\n",
    "```\n",
    "\n",
    "**Exemplo relevante:**\n",
    "\n",
    "[https://github.com/python-control/python-control/blob/master/examples/bode-and-nyquist-plots.ipynb](https://github.com/python-control/python-control/blob/master/examples/bode-and-nyquist-plots.ipynb)\n",
    "\n",
    "**Foto relevante:**\n",
    "\n",
    "![Controle Linear](https://cursopythonufac.github.io/notebooks/cap3/images/control.png)"
   ]
  },
  {
   "cell_type": "markdown",
   "metadata": {},
   "source": [
    "**Lcapy** : **L**inear **C**ircuit **A**nalysis\n",
    "\n",
    "**Área:** Engenharia Elétrica\n",
    "\n",
    "**Descrição:** \n",
    "\n",
    "- Lcapy é um pacote para análise de circuitos lineares. \n",
    "- Usa o SymPy para a análise simbólica.\n",
    "- Permite o desenho de alguns esquemáticos utilizando código Python.\n",
    "\n",
    "**Documentação:** [http://lcapy.elec.canterbury.ac.nz/](http://lcapy.elec.canterbury.ac.nz/)\n",
    "\n",
    "**Repositório (Github):** [https://github.com/mph-/lcapy](https://github.com/mph-/lcapy)\n",
    "\n",
    "**Instalação (PyPI):** [https://pypi.org/project/lcapy/](https://pypi.org/project/lcapy/)\n",
    "\n",
    "```\n",
    "pip install lcapy\n",
    "```\n",
    "\n",
    "**Exemplo relevante:** \n",
    "\n",
    "[https://github.com/mph-/lcapy/blob/master/doc/examples/notebooks/superposition1.ipynb](https://github.com/mph-/lcapy/blob/master/doc/examples/notebooks/superposition1.ipynb)\n",
    "\n",
    "**Foto relevante:**\n",
    "\n",
    "![Foto do Lcapy](https://cursopythonufac.github.io/notebooks/cap3/images/lcapy.png)"
   ]
  }
 ],
 "metadata": {
  "kernelspec": {
   "display_name": "Python 3 (ipykernel)",
   "language": "python",
   "name": "python3"
  },
  "language_info": {
   "codemirror_mode": {
    "name": "ipython",
    "version": 3
   },
   "file_extension": ".py",
   "mimetype": "text/x-python",
   "name": "python",
   "nbconvert_exporter": "python",
   "pygments_lexer": "ipython3",
   "version": "3.12.9"
  }
 },
 "nbformat": 4,
 "nbformat_minor": 4
}
