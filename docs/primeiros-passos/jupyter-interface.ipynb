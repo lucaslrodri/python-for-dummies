{
 "cells": [
  {
   "cell_type": "markdown",
   "metadata": {},
   "source": [
    "Ao abrir o programa pela primeira vez você irá encontrar uma interface parecida com essa:\n",
    "\n",
    "<!-- ![Imagem retirada do site oficial do Jupyter Notebook](https://lucaslrodri.github.io/python-for-dummies/assets/home/banner_redes_sociais.png) -->\n",
    "\n",
    "<figure>\n",
    "<img src=\"https://lucaslrodri.github.io/python-for-dummies/assets/home/banner_redes_sociais.png\" style=\"height: 400px;\"/>\n",
    "<figcaption>Imagem aleatória</figcaption>\n",
    "</figure>"
   ]
  }
 ],
 "metadata": {
  "language_info": {
   "name": "python"
  }
 },
 "nbformat": 4,
 "nbformat_minor": 2
}
