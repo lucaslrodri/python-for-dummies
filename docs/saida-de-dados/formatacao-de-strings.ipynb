{
 "cells": [
  {
   "cell_type": "markdown",
   "metadata": {},
   "source": [
    "# Formatação de strings"
   ]
  },
  {
   "cell_type": "markdown",
   "metadata": {},
   "source": [
    "Aprenda 4 métodos para formatar textos em Python:\n",
    "1. Concatenação\n",
    "2. Operador `%`\n",
    "3. Método `.format()`\n",
    "4. f-strings"
   ]
  },
  {
   "cell_type": "code",
   "execution_count": null,
   "metadata": {
    "vscode": {
     "languageId": "plaintext"
    }
   },
   "outputs": [],
   "source": [
    "# Método 1: Concatenação\n",
    "nome = \"João\"\n",
    "idade = 30\n",
    "print(\"Nome: \" + nome + \", Idade: \" + str(idade))"
   ]
  },
  {
   "cell_type": "markdown",
   "metadata": {},
   "source": [
    "## Método 2: Operador `%`\n",
    "\n",
    "Sintaxe:  \n",
    "`\"Texto %s %d\" % (valor_str, valor_int)`\n",
    "\n",
    "Placeholders comuns:  \n",
    "- `%s` → String  \n",
    "- `%d` → Inteiro  \n",
    "- `%f` → Float (ex: `%.2f` para 2 casas decimais)"
   ]
  },
  {
   "cell_type": "code",
   "execution_count": null,
   "metadata": {
    "vscode": {
     "languageId": "plaintext"
    }
   },
   "outputs": [],
   "source": [
    "# Exemplo com operador %\n",
    "produto = \"Caneta\"\n",
    "preco = 4.5999\n",
    "print(\"Produto: %s | Preço: R$ %.2f\" % (produto, preco))"
   ]
  },
  {
   "cell_type": "markdown",
   "metadata": {},
   "source": [
    "## Método 3: .format()\n",
    "\n",
    "Sintaxe:  \n",
    "`\"Texto {} {}\".format(valor1, valor2)`\n",
    "\n",
    "Vantagens:  \n",
    "- Índices: `{0}`, `{1}`  \n",
    "- Nomes: `{nome_var}`  \n",
    "- Formatação avançada"
   ]
  },
  {
   "cell_type": "code",
   "execution_count": null,
   "metadata": {
    "vscode": {
     "languageId": "plaintext"
    }
   },
   "outputs": [],
   "source": [
    "# Exemplo com .format()\n",
    "print(\"Olá {0}! Hoje é {1}.\".format(\"Maria\", \"sexta-feira\"))\n",
    "print(\"Preço: R$ {preco:.2f}\".format(preco=99.9))"
   ]
  },
  {
   "cell_type": "markdown",
   "metadata": {},
   "source": [
    "## Método 4: f-strings (Python 3.6+)\n",
    "\n",
    "Sintaxe:  \n",
    "`f\"Texto {variavel}\"`\n",
    "\n",
    "Vantagens:  \n",
    "- Mais legível  \n",
    "- Aceita expressões  \n",
    "- Formatação inline"
   ]
  },
  {
   "cell_type": "code",
   "execution_count": null,
   "metadata": {
    "vscode": {
     "languageId": "plaintext"
    }
   },
   "outputs": [],
   "source": [
    "# Exemplo com f-strings\n",
    "nome = \"Carlos\"\n",
    "saldo = 1500.5\n",
    "print(f\"Cliente: {nome} | Saldo: R$ {saldo:,.2f}\")\n",
    "\n",
    "# Com expressão\n",
    "print(f\"Dobro de 15 = {15 * 2}\")"
   ]
  },
  {
   "cell_type": "markdown",
   "metadata": {},
   "source": [
    "## Exercício Prático\n",
    "\n",
    "Crie um recibo usando f-strings com:  \n",
    "- Nome do produto  \n",
    "- Quantidade  \n",
    "- Preço unitário  \n",
    "- Total (calculado)  \n",
    "- Formate os valores monetários"
   ]
  },
  {
   "cell_type": "code",
   "execution_count": null,
   "metadata": {
    "vscode": {
     "languageId": "plaintext"
    }
   },
   "outputs": [],
   "source": [
    "# Escreva seu código aqui\n",
    "produto = \"Caderno\"\n",
    "quantidade = 3\n",
    "preco_unitario = 25.9\n",
    "# Sua solução..."
   ]
  }
 ],
 "metadata": {
  "language_info": {
   "name": "python"
  }
 },
 "nbformat": 4,
 "nbformat_minor": 2
}
