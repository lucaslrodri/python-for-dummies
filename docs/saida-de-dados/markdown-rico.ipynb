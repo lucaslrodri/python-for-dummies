{
 "cells": [
  {
   "cell_type": "markdown",
   "metadata": {},
   "source": [
    "# Textos ricos em Markdown"
   ]
  },
  {
   "cell_type": "markdown",
   "metadata": {},
   "source": [
    "No capítulo anterior aprendemos como criar textos em Markdown. Agora você aprenderá como inserir elementos mais avançados como:\n",
    "\n",
    "- Equações matemáticas\n",
    "- Tabelas\n",
    "- Links\n",
    "- Imagens\n",
    "- Lista de tarefas"
   ]
  },
  {
   "cell_type": "markdown",
   "metadata": {},
   "source": [
    "## Equações matemáticas\n",
    "\n",
    "Markdown suporta equações matemáticas usando o MathJax. MathJax é uma biblioteca escrita em JavaScript que permite a escrita de equações nos navegadores e em Markdown."
   ]
  },
  {
   "cell_type": "markdown",
   "metadata": {},
   "source": [
    "### MathJax\n",
    "\n",
    "Esta biblioteca tem uma sintaxe muito similar ao **LaTeX**. Esta última é uma linguagem de marcação de texto muito utilizada na produção de textos acadêmicos.\n",
    "\n",
    "Como é possível ver MathJax não é exatamente LaTeX, mas segue uma sintaxe muito parecida. Sobre as diferenças e limitações, é possível encontrá-las na documentação do MathJax, disponível abaixo:\n",
    "\n",
    "> [https://docs.mathjax.org/en/latest/input/tex/differences.html](https://docs.mathjax.org/en/latest/input/tex/differences.html)\n",
    "\n",
    "E ainda, todos os comandos do MathJax também estão disponíveis na documentação:\n",
    "\n",
    "> [https://docs.mathjax.org/en/latest/input/tex/macros/index.html](https://docs.mathjax.org/en/latest/input/tex/macros/index.html)\n",
    "\n",
    "Você pode usá-la para buscar os comandos, se necessário.\n",
    "\n",
    "### "
   ]
  },
  {
   "cell_type": "markdown",
   "metadata": {},
   "source": [
    "### Sites úteis\n",
    "\n",
    "Caso não tenha familiaridade com o LaTeX é possível usar alguns sites que pode te ajudar a escrever as equações. São eles:\n",
    "\n",
    "1. MathJax Cheat Sheet\n",
    "\n",
    "> [https://jojozhuang.github.io/tutorial/mathjax-cheat-sheet-for-mathematical-notation/](https://jojozhuang.github.io/tutorial/mathjax-cheat-sheet-for-mathematical-notation/)\n",
    "\n",
    "Mostra os comandos básicos para a escrita de equações em LaTeX e MathJax\n",
    "\n",
    "2. Online LaTeX Equation Editor\n",
    "\n",
    "> [https://latexeditor.lagrida.com/](https://latexeditor.lagrida.com/)\n",
    "\n",
    "Site onde é possível escrever equações em LaTeX de forma gráfica."
   ]
  },
  {
   "cell_type": "markdown",
   "metadata": {},
   "source": [
    "### Equações inline (Em linha)\n",
    "\n",
    "Equações inline são inseridas diretamente no texto. Para isso, use $ ao redor da equação:\n",
    "\n",
    "```markdown\n",
    "A equação de Einstein é $E = mc^2$, onde:\n",
    "\n",
    "- $E$: energia;\n",
    "- $m$: massa;\n",
    "- $c$: velocidade da luz.\n",
    "```\n",
    "\n",
    "Produz:\n",
    "\n",
    "> A equação de Einstein é $E = mc^2$, onde:\n",
    "> \n",
    "> - $E$: energia;\n",
    "> - $m$: massa;\n",
    "> - $c$: velocidade da luz.\n",
    "\n",
    "**Tarefa:**\n",
    "\n",
    "Escreva algum texto utilize a notação inline do MathJax. Caso não se recorde, utilize como base o exemplo abaixo:\n",
    "\n",
    "> A fórmula da área de um círculo é dada por $A = \\pi r^2$, sendo $A$ a área e $r$ o raio do círculo.\n",
    "\n",
    "> **Dica:**\n",
    ">\n",
    "> Caso não tenha familiaridade com o LaTeX, pode usar os sites indicados anteriormente."
   ]
  },
  {
   "cell_type": "markdown",
   "metadata": {},
   "source": [
    "## Equações destacadas\n",
    "\n",
    "Equações destacadas são dispostas de forma centralizadas. Para inserí-las utilize `$$` para delimitá-las:\n",
    "\n",
    "```markdown\n",
    "A equação quadrática é dada por:\n",
    "\n",
    "$$\n",
    "x = \\frac{-b \\pm \\sqrt{b^2 - 4ac}}{2a}\n",
    "$$\n",
    "```\n",
    "\n",
    "**Tarefa:**\n",
    "\n",
    "Escreva de forma destacada a definição de derivada de uma função $f(t)$ usando o conceito de limite. Caso não lembre segue abaixo:\n",
    "\n",
    "$$\n",
    "\\frac{df}{dt}=\\lim_{h\\rightarrow}\\frac{f(t+h)-f(t)}{h}\n",
    "$$\n"
   ]
  },
  {
   "cell_type": "markdown",
   "metadata": {},
   "source": [
    "**Tarefa:**\n",
    "\n",
    "Escreva a lei de Newton de forma destacada e logo abaixo escreva um texto indicando o que significa cada termo usando equações inline."
   ]
  },
  {
   "cell_type": "markdown",
   "metadata": {},
   "source": [
    "## Tabelas\n",
    "\n",
    "Em Markdown, você pode criar tabelas organizadas facilmente. \n",
    "\n",
    "1. Cabeçalho: Usa-se três ou mais hífens (`---`) \n",
    "\n",
    "```markdown\n",
    "| Nome  | Idade | Cidade     |\n",
    "|-------|-------|------------|\n",
    "| Omar  | 22    | Puno       |\n",
    "| Lucas | 20    | Salvador   |\n",
    "| Ian   | 25    | Rio Branco |\n",
    "```\n",
    "\n",
    "Resultando em:\n",
    "\n",
    "| Nome | Idade | Cidade |\n",
    "|------|-------|--------|\n",
    "| Omar  | 22    | Puno |\n",
    "| Lucas | 20    | Salvador |\n",
    "| Ian | 25    | Rio Branco |\n",
    "\n",
    "As larguras das células podem variar, como mostrado abaixo.\n",
    "\n",
    "```markdown\n",
    "| Nome | Idade | Cidade |\n",
    "|---|---|---|\n",
    "| Omar | 22 | Puno |\n",
    "| Lucas | 20 | Salvador |\n",
    "| Ian | 25 | Rio Branco |\n",
    "```\n",
    "\n",
    "A saída renderizada terá a mesma aparência:\n",
    "\n",
    "| Nome | Idade | Cidade |\n",
    "|------|-------|--------|\n",
    "| Omar  | 22    | Puno |\n",
    "| Lucas | 20    | Salvador |\n",
    "| Ian | 25    | Rio Branco |\n",
    "\n",
    "**Tarefa:**\n",
    "\n",
    "Crie uma tabela que mostra a cor favorita de cada pessoa:\n",
    "\n",
    "+ João - Azul\n",
    "+ Pedro - Verde\n",
    "+ Maria - Rosa"
   ]
  },
  {
   "cell_type": "markdown",
   "metadata": {},
   "source": [
    "### Sites úteis\n",
    "\n",
    "Criar tabelas com hifens e barras verticais pode ser tedioso. Para acelerar o processo, existe um site que permite criar tabelas usando interface gráfica:\n",
    "\n",
    "> [Markdown Tables Generator](https://www.tablesgenerator.com/markdown_tables)\n",
    "\n",
    "**Tarefa:**\n",
    "\n",
    "Tente usar o Markdown Tables Generator. Crie uma tabela usando a interface gráfica e, em seguida, copie o texto gerado no formato Markdown para o seu arquivo. Caso não tenha uma tabela em mente pode usar qualquer exemplo anterior."
   ]
  },
  {
   "cell_type": "markdown",
   "metadata": {},
   "source": [
    "### Alinhamento\n",
    "\n",
    "Você pode alinhar o texto nas colunas à esquerda, à direita ou ao centro adicionando dois pontos ( :) à esquerda, à direita ou em ambos os lados dos hifens dentro da linha de cabeçalho.\n",
    "\n",
    "\n",
    "```markdown\n",
    "| Matícula |  Aluno  | Nota |\n",
    "| :------- | :-----: | ---: |\n",
    "| 123      | Isabele |  9,5 |\n",
    "| 456      |  Pedro  |  7,2 |\n",
    "```\n",
    "\n",
    "> **Dica:**\n",
    ">\n",
    "> Você pode configurar o alinhamento com o [Markdown Tables Generator](https://www.tablesgenerator.com/markdown_tables).\n",
    "\n",
    "**Tarefa:** \n",
    "\n",
    "Refaça a tabela:\n",
    "\n",
    "+ João - Azul\n",
    "+ Pedro - Verde\n",
    "+ Maria - Rosa\n",
    "\n",
    "Onde os nomes devem está alinhados a esquerda e a cor deve está alinhada a direita."
   ]
  },
  {
   "cell_type": "markdown",
   "metadata": {
    "vscode": {
     "languageId": "plaintext"
    }
   },
   "source": [
    "### Formatando textos em tabelas\n",
    "\n",
    "Você pode formatar o texto dentro de tabelas. Por exemplo, você pode adicionar código, link e ênfase.\n",
    "\n",
    "**Tarefa:**\n",
    "\n",
    "Faça uma tabela que mostra o código de sintaxe em Markdown e o resultado."
   ]
  },
  {
   "cell_type": "markdown",
   "metadata": {
    "vscode": {
     "languageId": "plaintext"
    }
   },
   "source": [
    "## Links\n",
    "\n",
    "Para criar um link, coloque o texto do link entre colchetes (por exemplo, [Site do Pudim]) e, em seguida, coloque imediatamente o URL entre parênteses (por exemplo, (https://www.pudim.com.br/)).\n",
    "\n",
    "\n",
    "```markdown\n",
    "Acesse o site do [Pudim](https://www.pudim.com.br/).\n",
    "```\n",
    "\n",
    "Resulta em:\n",
    "> Acesse o site do [Pudim](https://www.pudim.com.br/).\n",
    "\n",
    "**Tarefa:**\n",
    "\n",
    "Escreva uma frase que aponte o link do site do curso. Coloque o nome do curso como \"Python para iniciantes\"."
   ]
  },
  {
   "cell_type": "markdown",
   "metadata": {},
   "source": [
    "## Imagens\n",
    "\n",
    "Para adicionar imagens basta seguir a notação:\n",
    "\n",
    "```markdown\n",
    "![Nome da Figura](endereco/figura.png)\n",
    "```\n",
    "\n",
    "O endereço pode ser um endereço do computador ou um endereço da Web. Abaixo segue um exemplo de uma imagem tirada da internet:\n",
    "\n",
    "```markdown\n",
    "![Logo do Python](https://upload.wikimedia.org/wikipedia/commons/f/f8/Python_logo_and_wordmark.svg)\n",
    "```\n",
    "\n",
    "Resulta em:\n",
    "\n",
    "> ![Logo do Python](https://upload.wikimedia.org/wikipedia/commons/f/f8/Python_logo_and_wordmark.svg)\n",
    "\n",
    "Também é possível adicionar uma figura copiando e colando no Jupyter.\n",
    "\n",
    "**Tarefa:**\n",
    "\n",
    "Procura uma figura na internet baixe a figura. Salve na mesma pasta do seu notebook e adicione no notebook.\n",
    "\n",
    "Faça a mesma coisa copiando diretamente o endereço da figura na internet."
   ]
  },
  {
   "cell_type": "markdown",
   "metadata": {},
   "source": [
    "## Lista de tarefas\n",
    "\n",
    "Lista de tarefas permite você criar uma lista de itens com caixa de seleção.\n",
    "\n",
    "Para criar uma lista de tarefas, adicione traços (`-`) e colchetes com um espaço (`[ ]`) na frente dos itens da lista de tarefas. \n",
    "Para selecionar uma caixa de seleção, adicione um xentre os colchetes (`[x]`).\n",
    "\n",
    "```markdown\n",
    "- [x] Estudar Markdown\n",
    "- [ ] Estudar Python\n",
    "```\n",
    "\n",
    "Resulta em:\n",
    "\n",
    "- [x] Estudar Markdown\n",
    "- [ ] Estudar Python\n",
    "\n",
    "**Tarefa:**\n",
    "\n",
    "Faça uma lista de afazeres desta semana. Marque os itens que já foram concluidos."
   ]
  }
 ],
 "metadata": {
  "language_info": {
   "name": "python"
  }
 },
 "nbformat": 4,
 "nbformat_minor": 2
}
