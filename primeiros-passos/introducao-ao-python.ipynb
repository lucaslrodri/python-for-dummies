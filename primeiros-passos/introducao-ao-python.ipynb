{
 "cells": [
  {
   "cell_type": "markdown",
   "metadata": {},
   "source": [
    "# Introdução ao Python"
   ]
  },
  {
   "cell_type": "markdown",
   "metadata": {},
   "source": [
    "## Comentários"
   ]
  },
  {
   "cell_type": "markdown",
   "metadata": {},
   "source": [
    "Comentários são trechos de código que são ignorados pelo interpretador ou compilador durante a execução do programa. \n",
    "\n",
    "Eles são usados para explicar o que o código faz, tornando-o mais fácil de entender para outros desenvolvedores (ou para você mesmo no futuro).\n",
    "\n",
    "Para criar um comentário basta usar `#` no início do comentário. O texto após o `#` não será lido pelo interpretador.\n",
    "\n",
    "Para entender um pouco mais digite em seu notebook o seguinte código:"
   ]
  },
  {
   "cell_type": "code",
   "execution_count": null,
   "metadata": {},
   "outputs": [],
   "source": [
    "# aqui vamos refazer o cabeçalho utilizando variáveis\n",
    "# aliás, você sabe quem sou eu?"
   ]
  },
  {
   "cell_type": "markdown",
   "metadata": {},
   "source": [
    "No exemplo anterior vimos como criar um comentário com uma última linha. Caso queiramos escrever documentários com mais de uma linha podemos utilizar a seguinte notação:"
   ]
  },
  {
   "cell_type": "code",
   "execution_count": null,
   "metadata": {},
   "outputs": [],
   "source": [
    "# Este é um comentário\n",
    "# que se estende por várias\n",
    "# linhas."
   ]
  },
  {
   "cell_type": "markdown",
   "metadata": {},
   "source": [
    "Entretanto essa abordagem não é muito prática. Felizmente, é possível utilizar a notação de **aspas triplas** (`'''` ou `\"\"\"`):"
   ]
  },
  {
   "cell_type": "code",
   "execution_count": 9,
   "metadata": {},
   "outputs": [],
   "source": [
    "'''\n",
    "Este é um comentário\n",
    "que se estende por várias\n",
    "linhas.\n",
    "''';"
   ]
  },
  {
   "cell_type": "markdown",
   "metadata": {},
   "source": [
    "**Tarefa:**\n",
    "\n",
    "Agora use sua imaginação e crie o seu próprio cabeçalho em utilizando comentários.\n",
    "\n",
    "> **Dica:**\n",
    ">\n",
    "> Use o comentário multi-linha para criar o seu cabeçalho."
   ]
  },
  {
   "cell_type": "markdown",
   "metadata": {},
   "source": [
    "## Operadores"
   ]
  },
  {
   "cell_type": "markdown",
   "metadata": {},
   "source": [
    "Em Python, podemos escrever expressões matemáticas como em qualquer outra calculadora (Como o MatLab, por exemplo). Expressões consistem de valores, como `2` e operadores, como o `+`.\n",
    "\n",
    "Escreveremos `2+2` na célula abaixo, e vemos que a expressão irá assumir o valor final de `4`. \n"
   ]
  },
  {
   "cell_type": "code",
   "execution_count": 48,
   "metadata": {},
   "outputs": [
    {
     "data": {
      "text/plain": [
       "4"
      ]
     },
     "execution_count": 48,
     "metadata": {},
     "output_type": "execute_result"
    }
   ],
   "source": [
    "2+2"
   ]
  },
  {
   "cell_type": "markdown",
   "metadata": {},
   "source": [
    "\n",
    "Podemos usar diversos operadores para computar diversas expressões como quisermos, como listado na tabela abaixo.\n",
    "\n",
    "| Operador |    Operação     |  Exemplo  | Resulta em |\n",
    "| :------: | :-------------: | :-------: | :--------: |\n",
    "|   `**`   |    Expoente     | `2 ** 3`  |    `8`     |\n",
    "|   `%`    |      Resto      | `22 % 8`  |    `6`     |\n",
    "|   `//`   | Divisão inteira | `22 // 8` |    `2`     |\n",
    "|   `/`    |     Divisão     | `22 / 8`  |   `2.75`   |\n",
    "|   `*`    |  Multiplicação  |  `3 * 5`  |    `15`    |\n",
    "|   `-`    |    Subtração    |  `5 - 2`  |    `3`     |\n",
    "|   `+`    |     Adição      |  `2 + 2`  |    `4`     |\n",
    "\n",
    "A ordem dos operadores da matemática do Python é similar à usada na matemática comum, ou seja, primeiro as potências (`**`), depois multiplicações e divisões (`*` e `/`) e por fim as somas e subtrações (`+` e `-`), da esquerda para a direita. Podemos também usar parênteses. Agora, vamos tentar calcular o valor de algumas operações para exercitar o que foi aprendido. "
   ]
  },
  {
   "cell_type": "markdown",
   "metadata": {},
   "source": [
    "### Operações de somar, subtrair, multiplicar e dividir\n",
    "\n",
    "A seguir execute as seguintes operações e observe o que acontece:"
   ]
  },
  {
   "cell_type": "code",
   "execution_count": null,
   "metadata": {},
   "outputs": [],
   "source": [
    "# Célula 1\n",
    "2+2+3"
   ]
  },
  {
   "cell_type": "code",
   "execution_count": null,
   "metadata": {},
   "outputs": [],
   "source": [
    "# Célula 2\n",
    "7-4"
   ]
  },
  {
   "cell_type": "code",
   "execution_count": null,
   "metadata": {},
   "outputs": [],
   "source": [
    "# Célula 3\n",
    "3*9"
   ]
  },
  {
   "cell_type": "code",
   "execution_count": null,
   "metadata": {},
   "outputs": [],
   "source": [
    "# Célula 4\n",
    "23/7"
   ]
  },
  {
   "cell_type": "markdown",
   "metadata": {},
   "source": [
    "### Divisão de parte inteira\n",
    "\n",
    "A divisão de parte inteira retorna somente a parte inteira de uma divisão. \n",
    "\n",
    "Execute as células abaixo e veja você mesmo:"
   ]
  },
  {
   "cell_type": "code",
   "execution_count": null,
   "metadata": {},
   "outputs": [],
   "source": [
    "# Considerando a divisão normal, /:\n",
    "23/7"
   ]
  },
  {
   "cell_type": "code",
   "execution_count": null,
   "metadata": {},
   "outputs": [],
   "source": [
    "# Considerando a divisão de parte inteira, //:\n",
    "23//7"
   ]
  },
  {
   "cell_type": "markdown",
   "metadata": {},
   "source": [
    "**Tarefa:**\n",
    "\n",
    "Agora tente resolver os cálculos abaixo utilizando a divisão normal e a divisão de parte inteira:\n",
    "\n",
    "- $8\\div 7$\n",
    "- $50 \\div 3$"
   ]
  },
  {
   "cell_type": "markdown",
   "metadata": {},
   "source": [
    "### Resto\n",
    "\n",
    "Podemos encontrar o resto de uma divisão utilizando o operador `%`.\n",
    "\n",
    "**Tarefa:**\n",
    "\n",
    "Agora calcule o resto das seguintes operações:\n",
    "\n",
    "- $23\\div 7$\n",
    "- $40 \\div 4$\n",
    "- $43 \\div 3$"
   ]
  },
  {
   "cell_type": "markdown",
   "metadata": {},
   "source": [
    "### Potenciação\n",
    "\n",
    "O operador `**` permite calcular operação de exponenciação. No exemplo abaixo:\n"
   ]
  },
  {
   "cell_type": "code",
   "execution_count": 13,
   "metadata": {},
   "outputs": [
    {
     "data": {
      "text/plain": [
       "32"
      ]
     },
     "execution_count": 13,
     "metadata": {},
     "output_type": "execute_result"
    }
   ],
   "source": [
    "2 ** 5"
   ]
  },
  {
   "cell_type": "markdown",
   "metadata": {},
   "source": [
    "O número 2 é a base e o número 5 é o exponente.\n",
    "\n",
    "**Tarefa:**\n",
    "\n",
    "Seguindo esta lógica calcule as seguintes expressões:\n",
    "\n",
    "- $2^5$\n",
    "- $2^3$"
   ]
  },
  {
   "cell_type": "markdown",
   "metadata": {},
   "source": [
    "### Raiz\n",
    "\n",
    "No Python _vanilla_ (Sem módulos ou extensões) não existe a operação de raiz. Entretanto podemos reescrever esta operação utilizando a operação de potênciação com números fracionários ou decimais. Por exemplo, para calcular $\\sqrt{4}$ utilizamos:"
   ]
  },
  {
   "cell_type": "code",
   "execution_count": 14,
   "metadata": {},
   "outputs": [
    {
     "data": {
      "text/plain": [
       "2.0"
      ]
     },
     "execution_count": 14,
     "metadata": {},
     "output_type": "execute_result"
    }
   ],
   "source": [
    "4**0.5"
   ]
  },
  {
   "cell_type": "markdown",
   "metadata": {},
   "source": [
    "**Tarefa:**\n",
    "\n",
    "Usando essa mesma lógica calcule as seguintes expressões:\n",
    "\n",
    "- $\\sqrt[4]{256}$\n",
    "- $\\sqrt[3]{27}$\n",
    "- $\\sqrt{8}$\n",
    "\n",
    "> **Dica:**\n",
    ">\n",
    "> Para calcular $\\sqrt[3]{x}$ coloque o expoente (1/3) entre parênteses. Como mostra abaixo:\n",
    "> ```python\n",
    "> x**(1/3)\n",
    "> ```"
   ]
  },
  {
   "cell_type": "markdown",
   "metadata": {},
   "source": [
    "### Parêntese e prioridade de operadores\n",
    "\n",
    "Assim como na matemática, os parênteses tem prioridade na execução em comparação às outras operações. Por exemplo:"
   ]
  },
  {
   "cell_type": "code",
   "execution_count": 15,
   "metadata": {},
   "outputs": [
    {
     "data": {
      "text/plain": [
       "16.0"
      ]
     },
     "execution_count": 15,
     "metadata": {},
     "output_type": "execute_result"
    }
   ],
   "source": [
    "(5-1)*((7+1)/(3-1))"
   ]
  },
  {
   "cell_type": "markdown",
   "metadata": {},
   "source": [
    "Assim como na matemática, no Python cada operação tem uma prioridade em relação às outras.\n",
    "\n",
    "Abaixo tem-se a tabela de prioridade dos operadores:\n",
    "\n",
    "| Prioridade |      Operadores      | Significado                                     |\n",
    "| :--------: | :------------------: | ----------------------------------------------- |\n",
    "|     1      |         `()`         | Parêntese                                       |\n",
    "|     2      |         `**`         | Potênciação                                     |\n",
    "|     3      | `*`, `/`, `//` e `%` | Multiplicação, divisão, divisão inteira e resto |\n",
    "|     4      |      `+` e `-`       | Soma e subtração                                |\n",
    "\n"
   ]
  },
  {
   "cell_type": "markdown",
   "metadata": {},
   "source": [
    "**Tarefa:**\n",
    "\n",
    "Tente calcular as seguintes operações e observe como se comporta a prioridade dos operadores.\n",
    "\n",
    "- $\\frac{8}{2}\\times (2+2)$\n",
    "- $(2+3)\\times 3^3$\n",
    "- $7+7\\div 7 + 7 \\times 7 -7$\n",
    "- $\\sqrt[3]{4}$\n",
    "- $\\sqrt{9^2-4\\times 3}$\n",
    "- $\\sqrt[3]{(9^2-4)\\times3}$"
   ]
  },
  {
   "cell_type": "markdown",
   "metadata": {},
   "source": [
    "### Expressão sem sentido\n",
    "\n",
    "O python não reconhece expressões que não fazem sentido, como a expressão abaixo. \n",
    "\n",
    "Tente rodar a seguinte célula e explique o que aconteceu em uma célula em Markdown."
   ]
  },
  {
   "cell_type": "code",
   "execution_count": null,
   "metadata": {},
   "outputs": [],
   "source": [
    "5+"
   ]
  },
  {
   "cell_type": "markdown",
   "metadata": {},
   "source": [
    "O que aconteceu?\n",
    "\n",
    "> **Dica:** \n",
    ">\n",
    "> Escreva a resposta em Markdown em uma célula de texto abaixo."
   ]
  },
  {
   "cell_type": "markdown",
   "metadata": {},
   "source": [
    "## Tipos de dados"
   ]
  },
  {
   "cell_type": "markdown",
   "metadata": {},
   "source": [
    "Existem diversos tipos de dados em Python que se comportam de diferente formas em expressões, os três tipos mais básicos são:\n",
    "\n",
    "\n",
    "\n",
    "|       Tipo de dado        | Classe  |                         Exemplo                         |\n",
    "| :-----------------------: | :-----: | :-----------------------------------------------------: |\n",
    "|          Inteiro          |  `int`  |        `-2`, `-1`, `0`, `1`, `2`, `3`, `4`, `5`         |\n",
    "| Decimal (Ponto flutuante) | `float` |  `-1.25`, `-1.0`, `-0.5`, `0.0`, `0.5`, `1.0`, `1.25`   |\n",
    "|      Texto (String)       |  `str`  | `'a'`, `'aa'`, `'aaa'`, `'Hello!'`, `'curso de python'` |\n",
    "\n",
    "Inteiros (`int`) se refere aos números inteiros, números em ponto flutuante (`float`) se refere a números com casa decimal e strings (`str`) são textos. \n",
    "\n",
    "Note que o Python **internamente** chama inteiros, decimais e texto de `int`, `float` ou `string`.\n",
    "\n",
    "> **Observação:**\n",
    ">\n",
    "> Note que as strings tem sempre aspas simples em suas extremidades como `'Isso é uma string'`."
   ]
  },
  {
   "cell_type": "markdown",
   "metadata": {},
   "source": [
    "### Escrevendo uma string"
   ]
  },
  {
   "cell_type": "markdown",
   "metadata": {},
   "source": [
    "Podemos escrever a string `python` no modo código da seguinte forma:"
   ]
  },
  {
   "cell_type": "code",
   "execution_count": null,
   "metadata": {},
   "outputs": [
    {
     "data": {
      "text/plain": [
       "'python'"
      ]
     },
     "metadata": {},
     "output_type": "display_data"
    }
   ],
   "source": [
    "'python'"
   ]
  },
  {
   "cell_type": "markdown",
   "metadata": {},
   "source": [
    "**Tarefa:**\n",
    "\n",
    "Agora escreva uma string `Eu adoro Pizza` no modo código."
   ]
  },
  {
   "cell_type": "markdown",
   "metadata": {},
   "source": [
    "### Concatenando strings"
   ]
  },
  {
   "cell_type": "markdown",
   "metadata": {},
   "source": [
    "Usamos o operador `+` para concatenar (juntar) duas ou mais strings:"
   ]
  },
  {
   "cell_type": "code",
   "execution_count": null,
   "metadata": {},
   "outputs": [
    {
     "data": {
      "text/plain": [
       "'curso de Python'"
      ]
     },
     "metadata": {},
     "output_type": "display_data"
    }
   ],
   "source": [
    "\"curso \" + \"de \" + \"Python\""
   ]
  },
  {
   "cell_type": "markdown",
   "metadata": {},
   "source": [
    "**Tarefa:**\n",
    "\n",
    "Agora concatene as seguintes strings para formar uma frase:\n",
    "\n",
    "+ `\"O \"`\n",
    "+ `\"céu \"`\n",
    "+ `\"é \"`\n",
    "+ `\"Azul\"`"
   ]
  },
  {
   "cell_type": "markdown",
   "metadata": {},
   "source": [
    "### Concatenação proibida"
   ]
  },
  {
   "cell_type": "markdown",
   "metadata": {},
   "source": [
    "O Python não consegue concatenar uma string e um número. Como por exemplo:"
   ]
  },
  {
   "cell_type": "code",
   "execution_count": null,
   "metadata": {},
   "outputs": [
    {
     "ename": "TypeError",
     "evalue": "unsupported operand type(s) for +: 'int' and 'str'",
     "output_type": "error",
     "traceback": [
      "\u001b[1;31m---------------------------------------------------------------------------\u001b[0m\n",
      "\u001b[1;31mTypeError\u001b[0m                                 Traceback (most recent call last)\n",
      "Cell \u001b[1;32mIn[19], line 1\u001b[0m\n",
      "\u001b[1;32m----> 1\u001b[0m \u001b[38;5;241;43m5\u001b[39;49m\u001b[43m \u001b[49m\u001b[38;5;241;43m+\u001b[39;49m\u001b[43m \u001b[49m\u001b[38;5;124;43m'\u001b[39;49m\u001b[38;5;124;43mabacate\u001b[39;49m\u001b[38;5;124;43m'\u001b[39;49m\n",
      "\n",
      "\u001b[1;31mTypeError\u001b[0m: unsupported operand type(s) for +: 'int' and 'str'"
     ]
    }
   ],
   "source": [
    "5 + 'abacate'"
   ]
  },
  {
   "cell_type": "markdown",
   "metadata": {},
   "source": [
    "### Repetindo strings"
   ]
  },
  {
   "cell_type": "markdown",
   "metadata": {},
   "source": [
    "O operador `*` permite repetir strings:"
   ]
  },
  {
   "cell_type": "code",
   "execution_count": null,
   "metadata": {},
   "outputs": [
    {
     "data": {
      "text/plain": [
       "'abacaxi abacaxi abacaxi abacaxi abacaxi '"
      ]
     },
     "metadata": {},
     "output_type": "display_data"
    }
   ],
   "source": [
    "'abacaxi ' * 5"
   ]
  },
  {
   "cell_type": "markdown",
   "metadata": {},
   "source": [
    "**Tarefa:**\n",
    "\n",
    "Utilize operadores de string para gerar a seguinte frase:\n",
    "\n",
    "> O céu é Azul Azul Azul\n",
    "\n",
    "Utilize somente as strings:\n",
    "\n",
    "+ \"O \"\n",
    "+ \"céu \"\n",
    "+ \"é \"\n",
    "+ \"Azul\""
   ]
  },
  {
   "cell_type": "markdown",
   "metadata": {},
   "source": [
    "Observe que foi retornado um `TypeError` (Erro de tipo) indicando que não é possível fazer a operação `+` entre o `int` e `str`."
   ]
  },
  {
   "cell_type": "markdown",
   "metadata": {},
   "source": [
    "## Conversão de dados"
   ]
  },
  {
   "cell_type": "markdown",
   "metadata": {},
   "source": [
    "A ação de transformar uma variável de um tipo (`int`, `float`  e `string`) em outro tipo é chamada de conversão de dados.  Para fazer essa conversão podemos utilizar as funções `str`, `int` e `float`.\n",
    "\n",
    "|  Função   | Descrição                                     |\n",
    "| :-------: | --------------------------------------------- |\n",
    "|  `str()`  | Transforma uma variável em uma string         |\n",
    "|  `int()`  | Transforma uma variável em um inteiro         |\n",
    "| `float()` | Transforma uma variável em um ponto flutuante |"
   ]
  },
  {
   "cell_type": "markdown",
   "metadata": {},
   "source": [
    "**Tarefa:**\n",
    "\n",
    "Agora faça as seguintes conversões:\n",
    "\n",
    "- `0` para string\n",
    "- `-3.14` para string\n",
    "- `\"-99\"` para inteiro\n",
    "- `1.25` para inteiro\n",
    "- `1.99` para inteiro\n",
    "- `'3.14'` para ponto flutuante\n",
    "- `10` para inteiro"
   ]
  },
  {
   "cell_type": "markdown",
   "metadata": {},
   "source": [
    "### Concatenando strings e números"
   ]
  },
  {
   "cell_type": "markdown",
   "metadata": {},
   "source": [
    "Na seção anterior vimos que a operação `5 + 'abacate'`  não é permitida no Python, pois não é possível concatenar um inteiro com uma string. Porém podemos resolver este problema da seguinte forma:"
   ]
  },
  {
   "cell_type": "code",
   "execution_count": null,
   "metadata": {},
   "outputs": [
    {
     "data": {
      "text/plain": [
       "'5 abacate'"
      ]
     },
     "metadata": {},
     "output_type": "display_data"
    }
   ],
   "source": [
    "str(5) + ' abacate'"
   ]
  },
  {
   "cell_type": "markdown",
   "metadata": {},
   "source": [
    "**Tarefa:**\n",
    "\n",
    "Corrija a célula abaixo utilizando as funções de conversão:"
   ]
  },
  {
   "cell_type": "code",
   "execution_count": null,
   "metadata": {},
   "outputs": [],
   "source": [
    "'Eu tenho ' + 5 + ' anos de idade.'"
   ]
  },
  {
   "cell_type": "markdown",
   "metadata": {},
   "source": [
    "### A função type()\n",
    "\n",
    "A função `type()` indica o tipo de um determinado dado (ou a **classe** do dado). Veja os exemplos abaixo:"
   ]
  },
  {
   "cell_type": "code",
   "execution_count": null,
   "metadata": {},
   "outputs": [
    {
     "data": {
      "text/plain": [
       "float"
      ]
     },
     "metadata": {},
     "output_type": "display_data"
    }
   ],
   "source": [
    "type(2.0)"
   ]
  },
  {
   "cell_type": "code",
   "execution_count": null,
   "metadata": {},
   "outputs": [
    {
     "data": {
      "text/plain": [
       "str"
      ]
     },
     "metadata": {},
     "output_type": "display_data"
    }
   ],
   "source": [
    "type(\"Especialista em Drone\")"
   ]
  },
  {
   "cell_type": "code",
   "execution_count": null,
   "metadata": {},
   "outputs": [
    {
     "data": {
      "text/plain": [
       "int"
      ]
     },
     "metadata": {},
     "output_type": "display_data"
    }
   ],
   "source": [
    "type(-5)"
   ]
  },
  {
   "cell_type": "markdown",
   "metadata": {},
   "source": [
    "**Tarefa:**\n",
    "\n",
    "Descubra os tipos das seguintes expressões:\n",
    "\n",
    "| Expressões  |            |         |\n",
    "| ------- | ---------- | ------- |\n",
    "| `0.0`   | `123+1.23` | `9%2`   |\n",
    "| `-3.14` | `7/3`      | `-11`   |\n",
    "| `'-99'` | `7.0j`     | `5+10j` |"
   ]
  },
  {
   "cell_type": "markdown",
   "metadata": {},
   "source": [
    "## Variáveis"
   ]
  },
  {
   "cell_type": "markdown",
   "metadata": {},
   "source": [
    "Variáveis funcionam como caixas em que podemos guardar o que quisermos utilizando o operador de atribuição, `=`.  Veja os exemplos abaixo:"
   ]
  },
  {
   "cell_type": "code",
   "execution_count": null,
   "metadata": {},
   "outputs": [
    {
     "data": {
      "text/plain": [
       "42"
      ]
     },
     "metadata": {},
     "output_type": "display_data"
    }
   ],
   "source": [
    "a = 40\n",
    "b = 2\n",
    "a+b"
   ]
  },
  {
   "cell_type": "markdown",
   "metadata": {},
   "source": [
    "**Tarefa:**\n",
    "\n",
    "Repita o exemplo acima considerando três variáveis `a`, `b` e `c`. Atribua os valores delas em 5, 10 e 15."
   ]
  },
  {
   "cell_type": "markdown",
   "metadata": {},
   "source": [
    "### Expressões em atribuições de variáveis\n",
    "\n",
    "É possível criar novas variáveis que são resultado de operações com outras variáveis:"
   ]
  },
  {
   "cell_type": "code",
   "execution_count": null,
   "metadata": {},
   "outputs": [
    {
     "data": {
      "text/plain": [
       "'Olá Mundo!'"
      ]
     },
     "metadata": {},
     "output_type": "display_data"
    }
   ],
   "source": [
    "texto_1 = 'Olá '\n",
    "texto_2 = 'Mundo!'\n",
    "texto_final = texto_1 + texto_2\n",
    "# Para mostrar o valor da variável basta escrever a variável no final da célula\n",
    "texto_final"
   ]
  },
  {
   "cell_type": "markdown",
   "metadata": {},
   "source": [
    "**Tarefa:**\n",
    "\n",
    "A equação de segundo grau tem o seguinte formato:\n",
    "\n",
    "$$\n",
    "ax^2+bx+c=0\n",
    "$$\n",
    "\n",
    "Podemos encontrar as duas soluções, $x_1$ e $x_2$ deste tipo de equação com a fórmula de Baskara:\n",
    "\n",
    "$$\n",
    "\\Delta = b^2-4ac\n",
    "$$\n",
    "\n",
    "$$\n",
    "x_1=\\frac{-b+ \\sqrt{\\Delta}}{2a}\n",
    "$$\n",
    "\n",
    "$$\n",
    "x_2=\\frac{-b-\\sqrt{\\Delta}}{2a}\n",
    "$$\n",
    "\n",
    "Utilizando o conceito de variáveis, crie um programa capaz de resolver uma equação de segundo grau com $a=1$, $b=4$ e $c=7$."
   ]
  },
  {
   "cell_type": "markdown",
   "metadata": {},
   "source": [
    "### Atribuição em variável existente"
   ]
  },
  {
   "cell_type": "markdown",
   "metadata": {},
   "source": [
    "Considere o exemplo abaixo:\n",
    "\n",
    "**Células 1 e 2:**  Primeira atribuição"
   ]
  },
  {
   "cell_type": "code",
   "execution_count": null,
   "metadata": {},
   "outputs": [
    {
     "data": {
      "text/plain": [
       "40"
      ]
     },
     "metadata": {},
     "output_type": "display_data"
    }
   ],
   "source": [
    "# Célula 1\n",
    "mantega = 40\n",
    "mantega"
   ]
  },
  {
   "cell_type": "code",
   "execution_count": null,
   "metadata": {},
   "outputs": [
    {
     "data": {
      "text/plain": [
       "2"
      ]
     },
     "metadata": {},
     "output_type": "display_data"
    }
   ],
   "source": [
    "# Célula 2\n",
    "ovos = 2\n",
    "ovos"
   ]
  },
  {
   "cell_type": "markdown",
   "metadata": {},
   "source": [
    "As variáveis `mantega` e `ovos` não existem previamente na memória. Quando são atribuídos  valores para elas, o Python cria esta variáveis e atribuí os seus respectivos valores."
   ]
  },
  {
   "cell_type": "markdown",
   "metadata": {},
   "source": [
    "**Células 3 e 4:** Variáveis existentes"
   ]
  },
  {
   "cell_type": "code",
   "execution_count": null,
   "metadata": {},
   "outputs": [
    {
     "data": {
      "text/plain": [
       "42"
      ]
     },
     "metadata": {},
     "output_type": "display_data"
    }
   ],
   "source": [
    "# Célula 3\n",
    "mantega+ovos"
   ]
  },
  {
   "cell_type": "code",
   "execution_count": null,
   "metadata": {},
   "outputs": [
    {
     "data": {
      "text/plain": [
       "82"
      ]
     },
     "metadata": {},
     "output_type": "display_data"
    }
   ],
   "source": [
    "# Célula 4\n",
    "mantega+ovos+mantega"
   ]
  },
  {
   "cell_type": "markdown",
   "metadata": {},
   "source": [
    "Neste caso o Python pesquisa se a já existe variáveis na memória e faz as operações considerando estas variáveis."
   ]
  },
  {
   "cell_type": "markdown",
   "metadata": {},
   "source": [
    "**Célula 5 e 6:** Substituição dos valores"
   ]
  },
  {
   "cell_type": "code",
   "execution_count": null,
   "metadata": {},
   "outputs": [
    {
     "data": {
      "text/plain": [
       "10"
      ]
     },
     "metadata": {},
     "output_type": "display_data"
    }
   ],
   "source": [
    "# Célula 5\n",
    "ovos = 10\n",
    "ovos"
   ]
  },
  {
   "cell_type": "markdown",
   "metadata": {},
   "source": [
    "Na célula 5 o valor da variável `ovos` foi substuido pelo valor `10`."
   ]
  },
  {
   "cell_type": "code",
   "execution_count": null,
   "metadata": {},
   "outputs": [
    {
     "data": {
      "text/plain": [
       "44"
      ]
     },
     "metadata": {},
     "output_type": "display_data"
    }
   ],
   "source": [
    "# Célula 6\n",
    "mantega=mantega+2\n",
    "mantega"
   ]
  },
  {
   "cell_type": "markdown",
   "metadata": {},
   "source": [
    "Na célula 6 o valor da variável `mantega` foi substuida pela expressão `mantega+2`. Observe que foi utilizado o próprio valor armazenado para atualizar a variável."
   ]
  },
  {
   "cell_type": "markdown",
   "metadata": {},
   "source": [
    "### Variável underline\n",
    "\n",
    "Caso a última linha de uma célula for um valor ou uma expressão. O Jupyter irá imprimir o valor desta expressão abaixo da célula e armazenar o valor desta expresão na variável `_`. Vamos verificar isso na prática. Crie duas células:"
   ]
  },
  {
   "cell_type": "code",
   "execution_count": null,
   "metadata": {},
   "outputs": [
    {
     "data": {
      "text/plain": [
       "2"
      ]
     },
     "metadata": {},
     "output_type": "display_data"
    }
   ],
   "source": [
    "# Célula 1: atribuição da variável _\n",
    "2"
   ]
  },
  {
   "cell_type": "code",
   "execution_count": null,
   "metadata": {},
   "outputs": [
    {
     "data": {
      "text/plain": [
       "2"
      ]
     },
     "metadata": {},
     "output_type": "display_data"
    }
   ],
   "source": [
    "# Célula 2: Some em 3 a variável _ e salve o resultado nela mesma\n",
    "_"
   ]
  },
  {
   "cell_type": "markdown",
   "metadata": {},
   "source": [
    "> **Dica:**\n",
    ">\n",
    "> Para quem tem familiaridade com o MATLAB a variável `_` é equivalente à variável `ans`."
   ]
  },
  {
   "cell_type": "markdown",
   "metadata": {},
   "source": [
    "**Tarefa:**\n",
    "\n",
    "Execute as células na seguinte ordem:\n",
    "\n",
    "> Célula 1 $\\rightarrow$ Célula 2 $\\rightarrow$ Célula 2 $\\rightarrow$ Célula 2 $\\rightarrow$ Célula 1 $\\rightarrow$  Célula 2 $\\rightarrow$ Célula 1"
   ]
  },
  {
   "cell_type": "markdown",
   "metadata": {},
   "source": [
    "**Tarefa:**\n",
    "\n",
    "Reinicie o Kernel e adicione a expresão `print()` no final da célula 1 (Abaixo).  Execute a Célula 1 e a Célula 2. O que aconteceu? Justifique sua Resposta."
   ]
  },
  {
   "cell_type": "markdown",
   "metadata": {},
   "source": [
    "### Nome das variáveis\n",
    "\n",
    "Os nomes de variáveis só podem ser uma palavra, com acentos, com números e underline `_`. Nomes de variáveis não podem começar com números. \n",
    "\n",
    "> **Observação:**\n",
    ">\n",
    "> Diferentemente das outras linguagens é possível declarar variáveis com **acentos**, pois o Python 3 usa a codificação UTF8 (Variáveis como C usam codificação ASCII)."
   ]
  },
  {
   "cell_type": "markdown",
   "metadata": {},
   "source": [
    "**Tarefa:**\n",
    "\n",
    "Escreva e execute as seguintes expressões:\n",
    "+ `Primeira_variavel=1`\n",
    "+ `1a_variavel=1`\n",
    "+ `Primeira variavel=1`\n",
    "+ `Primeira_variável=1`\n",
    "+ `明=1`\n",
    "+ `Atribuição=1`\n",
    "\n",
    "Escreva um comentário em Python no topo de cada célula explicando o porquê esta sintáxe funciona ou não funciona."
   ]
  },
  {
   "cell_type": "markdown",
   "metadata": {},
   "source": [
    "### Atribuição múltipla"
   ]
  },
  {
   "cell_type": "code",
   "execution_count": null,
   "metadata": {},
   "outputs": [
    {
     "data": {
      "text/plain": [
       "'O valor de a é 2 e o valor de b é 3.'"
      ]
     },
     "metadata": {},
     "output_type": "display_data"
    }
   ],
   "source": [
    "## Atribui a=2 e b=3\n",
    "a, b = 2, 3\n",
    "\n",
    "## Mostra os valores de a e b abaixo da célula\n",
    "\"O valor de a é \"+str(a)+\" e o valor de b é \" +str(b)+\".\""
   ]
  },
  {
   "cell_type": "markdown",
   "metadata": {},
   "source": [
    "### Trocando o valor de duas variáveis"
   ]
  },
  {
   "cell_type": "markdown",
   "metadata": {},
   "source": [
    "No Python podemos utilizar a atribuição múltipla para trocar o valor de duas ou mais variáveis sem a necessidade de criar uma outra variável auxiliar.  Veja e execute o exemplo abaixo:"
   ]
  },
  {
   "cell_type": "code",
   "execution_count": 1,
   "metadata": {},
   "outputs": [
    {
     "data": {
      "text/plain": [
       "'O valor de a é 3 e o valor de b é 2.'"
      ]
     },
     "execution_count": 1,
     "metadata": {},
     "output_type": "execute_result"
    }
   ],
   "source": [
    "# Atribui o valor de a=2 e b=3\n",
    "a, b = 2, 3\n",
    "\n",
    "# Troca os valores de a e b\n",
    "a, b = b, a\n",
    "\n",
    "## Mostra os valores de a e b abaixo da célula\n",
    "\"O valor de a é \"+str(a)+\" e o valor de b é \" +str(b)+\".\""
   ]
  },
  {
   "cell_type": "markdown",
   "metadata": {},
   "source": [
    "**Tarefa:**\n",
    "\n",
    "Crie um código capaz de trocar os valores das variáveis $a=b$, $b=c$ e $c=a$. Inicialize essas variáveis com os valores $a=6$, $b=7$ e $c=10$."
   ]
  }
 ],
 "metadata": {
  "kernelspec": {
   "display_name": "Python 3 (ipykernel)",
   "language": "python",
   "name": "python3"
  },
  "language_info": {
   "codemirror_mode": {
    "name": "ipython",
    "version": 3
   },
   "file_extension": ".py",
   "mimetype": "text/x-python",
   "name": "python",
   "nbconvert_exporter": "python",
   "pygments_lexer": "ipython3",
   "version": "3.11.5"
  },
  "widgets": {
   "application/vnd.jupyter.widget-state+json": {
    "state": {},
    "version_major": 2,
    "version_minor": 0
   }
  }
 },
 "nbformat": 4,
 "nbformat_minor": 4
}
