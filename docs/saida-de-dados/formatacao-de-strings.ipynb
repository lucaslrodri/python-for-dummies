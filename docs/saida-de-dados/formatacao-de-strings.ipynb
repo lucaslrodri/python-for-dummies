{
 "cells": [
  {
   "cell_type": "markdown",
   "metadata": {},
   "source": [
    "# Formatação de strings"
   ]
  },
  {
   "cell_type": "markdown",
   "metadata": {},
   "source": [
    "Na seção anterior vimos como formatar imprimir textos simples na tela através da função `markdown()` e da função `display()`. Nesta seção aprenderamos os 3 métodos de formatação de strings em Python:\n",
    "\n",
    "1. f-strings\n",
    "2. Operador `%`\n",
    "3. Método `.format()`"
   ]
  },
  {
   "cell_type": "markdown",
   "metadata": {},
   "source": [
    "## Método format\n",
    "\n",
    "Métodos são funções aplicadas à um determinado dado que pertence à uma determinada classe de dados.\n",
    "\n",
    "> **Observação:** \n",
    "> \n",
    "> O \"dado\" citado é também chamado de objeto. Classes e objetos são conceitos abstratos da programação orientada a objeto. Não chegaremos à abordar com detalhes a programação orientada à objeto, mas como o Python é uma linguagem orientada à objeto, teremos que trabalhar com alguns conceitos dessa abordagem de programação.\n",
    "\n",
    "Você pode pensar que tudo que eu falei é complicado, contudo tudo vai ficar mais claro com exemplos. Considere o seguinte exemplo:\n",
    "\n",
    "> O meu nome é [nome] e minha data de aniversário é [dia] de [mês].\n",
    "\n",
    "Com o método `.format()`  podemos reescrever o exemplo da seguinte forma:"
   ]
  },
  {
   "cell_type": "code",
   "execution_count": 2,
   "metadata": {},
   "outputs": [
    {
     "data": {
      "text/plain": [
       "'O meu nome é Lucas e minha data de aniversário é 19 de abril.'"
      ]
     },
     "execution_count": 2,
     "metadata": {},
     "output_type": "execute_result"
    }
   ],
   "source": [
    "nome = \"Lucas\"\n",
    "dia = 19\n",
    "mês = \"abril\"\n",
    "'O meu nome é {} e minha data de aniversário é {} de {}.'.format(nome,dia,mês)"
   ]
  },
  {
   "cell_type": "markdown",
   "metadata": {},
   "source": [
    "**Tarefa:** \n",
    "\n",
    "Crie um programa capaz de somar dois números `a` e `b` e retorne como saída:\n",
    "\n",
    "> A soma de [a] e [b] vale [resultado].\n",
    "\n",
    "Utilize o método `.format()`."
   ]
  },
  {
   "cell_type": "markdown",
   "metadata": {},
   "source": [
    "### Numerando os argumentos\n",
    "\n",
    "Podemos especificar manualmente a ordem em que os argumentos devem ser impressos, para isto basta colocar a ordem dentro da numeração da máscara  `{}`. Tente executar o exemplo abaixo:"
   ]
  },
  {
   "cell_type": "code",
   "execution_count": 3,
   "metadata": {},
   "outputs": [
    {
     "name": "stdout",
     "output_type": "stream",
     "text": [
      "O meu nome é Lucas e minha data de aniversário é 19 de abril.\n"
     ]
    }
   ],
   "source": [
    "nome = \"Lucas\"\n",
    "dia = 19\n",
    "mês = \"abril\"\n",
    "#.format(dia,mês,nome)\n",
    "#Máscara: {0} {1} {2}\n",
    "print('O meu nome é {2} e minha data de aniversário é {0} de {1}.'.format(dia,mês,nome))"
   ]
  },
  {
   "cell_type": "markdown",
   "metadata": {},
   "source": [
    "Verá que mesmo trocando a ordem dos argumentos a saída continua a mesma, pois numeramos as máscaras e desta forma ficamos livres para escolher qualquer ordem que os argumentos apareçam."
   ]
  },
  {
   "cell_type": "markdown",
   "metadata": {},
   "source": [
    "**Tarefa:** \n",
    "\n",
    "Repita a tarefa do exemplo anterior colocando os parâmetros da seguinte ordem `.format(resultado,b,a)`. Relembrando:\n",
    "\n",
    "> A soma de [a] e [b] vale [resultado]."
   ]
  },
  {
   "cell_type": "markdown",
   "metadata": {},
   "source": [
    "### Nomeando argumentos"
   ]
  },
  {
   "cell_type": "markdown",
   "metadata": {},
   "source": [
    "Além de numerar os argumentos, podemos nomear os argumentos tornando muito mais fácil utilização do método `.format()` com vários argumentos. Para isso basta colocar o nome do argumento dentro da máscara (Ex: `{peso}`) e indicar o parâmetro com este nome (Ex: `.format(peso=valor)`).\n",
    "\n",
    "Veja o exemplo abaixo:"
   ]
  },
  {
   "cell_type": "code",
   "execution_count": 4,
   "metadata": {},
   "outputs": [
    {
     "name": "stdout",
     "output_type": "stream",
     "text": [
      "Este programa resolve uma equação de segundo grau do tipo ax²+bx+c=0\n",
      "As soluções da equação 1x²+-5x+6=0 são: x1=3.0 e x2=2.0.\n"
     ]
    }
   ],
   "source": [
    "print(\"Este programa resolve uma equação de segundo grau do tipo ax²+bx+c=0\")\n",
    "a=1\n",
    "b=-5\n",
    "c=6\n",
    "delta=b**2-4*a*c\n",
    "x1=(-b+delta**(1/2))/(2*a)\n",
    "x2=(-b-delta**(1/2))/(2*a)\n",
    "print(\"As soluções da equação {a}x²+{b}x+{c}=0 são: x1={x_1} e x2={x_2}.\".format(a=a,b=b,c=c,x_1=x1,x_2=x2))\n",
    "# Exemplos:\n",
    "# 1) a=1, b=-10 e c=24 \n",
    "# 2) a=2, b=8 e c=-24 "
   ]
  },
  {
   "cell_type": "markdown",
   "metadata": {},
   "source": [
    "**Tarefa:** \n",
    "\n",
    "Crie um programa que determine o antecessor e o sucessor de um número. A saída deve ser:\n",
    "\n",
    "> O número escolhido foi {número}, seu antencessor é {antecessor} e seu sucessor é {sucessor}.\n",
    "\n",
    "Você deve nomear as máscaras.\n",
    "\n",
    "> O número escolhido é [número], seu antecessor é [antecessor]  e seu sucessor é [sucessor]."
   ]
  },
  {
   "cell_type": "markdown",
   "metadata": {},
   "source": [
    "### Formatando a saída"
   ]
  },
  {
   "cell_type": "markdown",
   "metadata": {},
   "source": [
    "Veja o que acontece ao executar o exemplo anterior considerando `a=1`,`b=2`,`c=-10`."
   ]
  },
  {
   "cell_type": "code",
   "execution_count": 5,
   "metadata": {},
   "outputs": [
    {
     "name": "stdout",
     "output_type": "stream",
     "text": [
      "Este programa resolve uma equação de segundo grau do tipo ax²+bx+c=0\n",
      "As soluções da equação 1x²+2x+-10=0 são: x1=2.3166247903554 e x2=-4.3166247903554.\n"
     ]
    }
   ],
   "source": [
    "print(\"Este programa resolve uma equação de segundo grau do tipo ax²+bx+c=0\")\n",
    "a=1\n",
    "b=2\n",
    "c=-10\n",
    "delta=b**2-4*a*c\n",
    "x1=(-b+delta**(1/2))/(2*a)\n",
    "x2=(-b-delta**(1/2))/(2*a)\n",
    "print(\"As soluções da equação {a}x²+{b}x+{c}=0 são: x1={x_1} e x2={x_2}.\".format(a=a,b=b,c=c,x_1=x1,x_2=x2))"
   ]
  },
  {
   "cell_type": "markdown",
   "metadata": {},
   "source": [
    "Observe que a string de `x1` e `x2` apresenta muitas casas decimais e isto pode dificultar a leitura. Contudo podemos deixar a saída mais bonita através do método `.format()`.  Na tabela abaixo mostra alguns especificadores:\n",
    "\n",
    "\n",
    "\n",
    "| Tipo | Significado                                                  |\n",
    "| ---- | ------------------------------------------------------------ |\n",
    "| d    | Mostra o argumento como um `int`                             |\n",
    "| c    | Mostra o argumento como caractere (Código unicode)           |\n",
    "| b    | Mostra o argumento como binário                              |\n",
    "| o    | Mostra o argumento como octal                                |\n",
    "| X    | Mostra o argumento como hexadecimal                          |\n",
    "| f    | Mostra o argumento como `float`                              |\n",
    "| e    | Mostra o argumento no formato de notação científica          |\n",
    "| g    | Arredonda o argumento em `p` números significativos (Valor padrão 6 significativos) |\n",
    "| %    | Mostra o argumento como porcentagem (Multiplica por 100 e coloca % no final) |\n",
    "\n",
    "Por exemplo, podemos modificar a saída de `x1` e `x2` para arredondar para 6 algoritmos significativos. E mostrar os argumentos `a`, `b` e `c` como float."
   ]
  },
  {
   "cell_type": "code",
   "execution_count": 6,
   "metadata": {},
   "outputs": [
    {
     "name": "stdout",
     "output_type": "stream",
     "text": [
      "Este programa resolve uma equação de segundo grau do tipo ax²+bx+c=0\n",
      "As soluções da equação 1.000000x²+2.000000x+-10.000000=0 são: x1=2.31662 e x2=-4.31662\n"
     ]
    }
   ],
   "source": [
    "print(\"Este programa resolve uma equação de segundo grau do tipo ax²+bx+c=0\")\n",
    "a=1\n",
    "b=2\n",
    "c=-10\n",
    "delta=b**2-4*a*c\n",
    "x1=(-b+delta**(1/2))/(2*a)\n",
    "x2=(-b-delta**(1/2))/(2*a)\n",
    "print(\"As soluções da equação {a:f}x²+{b:f}x+{c:f}=0 são: x1={x_1:g} e x2={x_2:g}\".format(a=a,b=b,c=c,x_1=x1,x_2=x2))"
   ]
  },
  {
   "cell_type": "markdown",
   "metadata": {},
   "source": [
    "Observe que a sintaxe de formatação de string é independente da sintaxe de numeração ou nomeação. Veja o mesmo exemplo anterior sem essa sintaxe:"
   ]
  },
  {
   "cell_type": "code",
   "execution_count": 8,
   "metadata": {},
   "outputs": [
    {
     "name": "stdout",
     "output_type": "stream",
     "text": [
      "Este programa resolve uma equação de segundo grau do tipo ax²+bx+c=0\n",
      "As soluções da equação 1.000000x²+3.000000x+-10.000000=0 são: x1=2 e x2=-5\n"
     ]
    }
   ],
   "source": [
    "print(\"Este programa resolve uma equação de segundo grau do tipo ax²+bx+c=0\")\n",
    "a, b, c = 1, 3, -10\n",
    "delta=b**2-4*a*c\n",
    "x1=(-b+delta**(1/2))/(2*a)\n",
    "x2=(-b-delta**(1/2))/(2*a)\n",
    "print(\"As soluções da equação {:f}x²+{:f}x+{:f}=0 são: x1={:g} e x2={:g}\".format(a,b,c,x1,x2))"
   ]
  },
  {
   "cell_type": "markdown",
   "metadata": {},
   "source": [
    "Veja mais um exemplo:"
   ]
  },
  {
   "cell_type": "code",
   "execution_count": 9,
   "metadata": {},
   "outputs": [
    {
     "name": "stdout",
     "output_type": "stream",
     "text": [
      "O código unicode em hexadecimal '1F602' resulta no caractere 😂.\n"
     ]
    }
   ],
   "source": [
    "#Código do emoji em decimal\n",
    "código=int('1F602',16) #Função converte uma string hexadecimal em um inteiro\n",
    "\n",
    "# Mostra o código em hexadecimal e o emoji resultante\n",
    "print(\"O código unicode em hexadecimal '{0:X}' resulta no caractere {0:c}.\".format(código))"
   ]
  },
  {
   "cell_type": "markdown",
   "metadata": {},
   "source": [
    "**Tarefa:**\n",
    "\n",
    "Crie um programa capaz de analisar um código hexadecimal digitado pelo usuário e mostrar os seguintes dados:\n",
    "\n",
    "- Valor em decimal do código\n",
    "- Valor em binário do código\n",
    "- Valor em octal do código\n",
    "- Caractere equivalente\n",
    "\n",
    "A saída do programa deve ser:\n",
    "\n",
    "> Analisando o código '[hexadecimal]'...\n",
    ">\n",
    "> DEC: [decimal] | BIN: [binário] |OCT: [octal] | Caractere: [Caractere]\n",
    "\n",
    "Teste os seguintes valores\n",
    "\n",
    "- 2702\n",
    "- 26BD\n",
    "- 1F64C\n",
    "- 0041\n",
    "- 0169"
   ]
  },
  {
   "cell_type": "markdown",
   "metadata": {},
   "source": [
    "### Customização avançada\n",
    "\n",
    "Além dos especificadores de tipo é possível customizar uma série de outros detalhes na saída do argumento.  Veja a estrutura base:\n",
    "\n",
    "> :[preencher][alinhar][sinal][largura][precisão][tipo]\n",
    "\n",
    "| Campo     | Função $\\rightarrow$Notação                                  |\n",
    "| --------- | ------------------------------------------------------------ |\n",
    "| preencher | Preenche com o caractere escolhido (`0` no caso de números)  |\n",
    "| alinhar   | `<` $\\rightarrow$ esquerda<br />`>` $\\rightarrow$ direita<br />`^` $\\rightarrow$ centro |\n",
    "| sinal     | `+` $\\rightarrow$ Sinal para positivo e negativo<br />`-` $\\rightarrow$ Sinal apenas em negativos |\n",
    "| largura   | Largura mínima do campo (Um número)                          |\n",
    "| precisão  | Largura máxima do campo (Deve ser iniciada com o `.`)        |\n",
    "| tipo      | Especificador citado anteriormente                           |\n",
    "\n",
    "#### Largura mínima\n",
    "\n",
    "O campo de `largura`  define a largura mínima do argumento (incluindo o ponto decimal). Veja o exemplo abaixo:"
   ]
  },
  {
   "cell_type": "code",
   "execution_count": 10,
   "metadata": {},
   "outputs": [
    {
     "name": "stdout",
     "output_type": "stream",
     "text": [
      "12\n",
      "   12\n",
      "00012\n",
      "___12\n"
     ]
    }
   ],
   "source": [
    "print(\"{:d}\".format(12))\n",
    "# Inteiro com largura mínima (5 dígitos)\n",
    "print(\"{:5d}\".format(12))\n",
    "# Preenchendo com zeros\n",
    "print(\"{:05d}\".format(12))\n",
    "# Preenchendo com \"underlines\"\n",
    "print(\"{:_>5d}\".format(12)) #Neste caso deve-se usar o alinhamento"
   ]
  },
  {
   "cell_type": "markdown",
   "metadata": {},
   "source": [
    "#### Precisão"
   ]
  },
  {
   "cell_type": "markdown",
   "metadata": {},
   "source": [
    "O campo de `precisão` varia de acordo com o tipo de dado. Mas de uma forma geral ele determina o número máximo de dígitos de um número.\n",
    "\n",
    "- No tipo `f` precisão determina o número de casas decimais\n",
    "- No tipo `g`  precisão determina o número total de dígitos.\n",
    "\n",
    "> **Observação:**\n",
    ">\n",
    "> Tanto o tipo `g` vem de \"Geral\", portanto, dependendo da precisão ele pode mostrar o número como inteiro como decimal ou em notação científica (Equivalente ao tipo `e`).\n",
    "\n",
    "Veja o exemplo abaixo:"
   ]
  },
  {
   "cell_type": "code",
   "execution_count": 12,
   "metadata": {},
   "outputs": [
    {
     "name": "stdout",
     "output_type": "stream",
     "text": [
      "  12.235\n",
      "0012.235\n"
     ]
    }
   ],
   "source": [
    "# O número tem largura mínima de 8 espaços (incluindo o ponto)\n",
    "# E 3 casas decimais de \"precisão\" \n",
    "# Neste caso há um arredondamento\n",
    "print(\"{:8.3f}\".format(12.2346)) \n",
    "print(\"{:08.3f}\".format(12.2346)) #Preenchendo com '0'"
   ]
  },
  {
   "cell_type": "markdown",
   "metadata": {},
   "source": [
    "**Tarefa:** \n",
    "\n",
    "Modifique o exemplo acima para mostrar todos os dígitos, sem arredondamentos."
   ]
  },
  {
   "cell_type": "markdown",
   "metadata": {},
   "source": [
    "**Tarefa:**\n",
    "\n",
    "Modifique o exemplo acima utilizando o tipo `g`. Explique o que aconteceu."
   ]
  },
  {
   "cell_type": "markdown",
   "metadata": {},
   "source": [
    "#### Outras customizações\n",
    "\n",
    "Podemos fazer outras customizações utilizando o método `.format()` Como:\n",
    "\n",
    "1. Customização em relação ao sinal:"
   ]
  },
  {
   "cell_type": "code",
   "execution_count": 13,
   "metadata": {},
   "outputs": [
    {
     "name": "stdout",
     "output_type": "stream",
     "text": [
      "Mostre o sinal '+'\n",
      "+12.23 | -12.23\n",
      "+12.23 | -12.23\n",
      "Mostre apenas o sinal '-'\n",
      " 12.23 | -12.23\n",
      " 12.23 | -12.23\n"
     ]
    }
   ],
   "source": [
    "# Mostre o sinal +\n",
    "print(\"Mostre o sinal '+'\")\n",
    "print(\"{:+6.2f} | {:+6.2f}\".format(12.23, -12.23))\n",
    "print(\"{:+6.5g} | {:+6.5g}\".format(12.23, -12.23))\n",
    "\n",
    "# Mostre apenas o sinal -\n",
    "print(\"Mostre apenas o sinal '-'\")\n",
    "print(\"{:-6.2f} | {:-6.2f}\".format(12.23, -12.23))\n",
    "print(\"{:-6.5g} | {:-6.5g}\".format(12.23, -12.23))"
   ]
  },
  {
   "cell_type": "markdown",
   "metadata": {},
   "source": [
    "2. Customização em relação ao alinhamento:"
   ]
  },
  {
   "cell_type": "code",
   "execution_count": 14,
   "metadata": {},
   "outputs": [
    {
     "name": "stdout",
     "output_type": "stream",
     "text": [
      "   12\n",
      "  12.235  \n",
      "12***\n",
      "00012\n",
      "00012\n"
     ]
    }
   ],
   "source": [
    "# Inteiro com alinhamento à direita\n",
    "print(\"{:5d}\".format(12))\n",
    "\n",
    "# Ponto flutuante com alinhamento ao centro\n",
    "print(\"{:^10.3f}\".format(12.2346))\n",
    "\n",
    "# Inteiro preenchido com underline com alinhamento à esquerda\n",
    "print(\"{:*<5d}\".format(12))\n",
    "\n",
    "# Inteiro preenchido com 0 com alinhamento à direita\n",
    "print(\"{:0>5d}\".format(12))\n",
    "print(\"{:05d}\".format(12))"
   ]
  },
  {
   "cell_type": "markdown",
   "metadata": {},
   "source": [
    "3. Aplicação em strings"
   ]
  },
  {
   "cell_type": "code",
   "execution_count": 15,
   "metadata": {},
   "outputs": [
    {
     "name": "stdout",
     "output_type": "stream",
     "text": [
      "Formatando o número á direita:\n",
      "A palavra é:'____Casa'\n",
      "Formatando o número á esquerda:\n",
      "O palavra é: 'Casa____\n",
      "Formatando o número no centro:\n",
      "O palavra é: '__Casa__\n"
     ]
    }
   ],
   "source": [
    "# Preenchendo o espaço vazio com ___\n",
    "print(\"Formatando o número á direita:\")\n",
    "print(\"A palavra é:'{:_>8}'\".format('Casa'))\n",
    "print(\"Formatando o número á esquerda:\")\n",
    "print(\"O palavra é: '{:_<8}\".format('Casa'))\n",
    "print(\"Formatando o número no centro:\")\n",
    "print(\"O palavra é: '{:_^8}\".format('Casa'))"
   ]
  },
  {
   "cell_type": "markdown",
   "metadata": {},
   "source": [
    "Além dessa customização existem muitas outras. Para se aprofundar um pouco mais você pode ler [aqui](https://www.programiz.com/python-programming/methods/string/format)."
   ]
  },
  {
   "cell_type": "markdown",
   "metadata": {},
   "source": [
    "## F-strings\n",
    "\n",
    "F-strings (formatted string literals) são a forma **moderna** de formatar strings em Python. Introduzidas na versão Python 3.6, permitem inserir expressões diretamente dentro das strings, simplificando a construção de textos que combinam variáveis e expressões.\n",
    "\n",
    "A sintaxe geral é colocar um f ou F antes da abertura das aspas:"
   ]
  },
  {
   "cell_type": "code",
   "execution_count": 16,
   "metadata": {},
   "outputs": [
    {
     "name": "stdout",
     "output_type": "stream",
     "text": [
      "O meu nome é Lucas e minha data de aniversário é 19 de abril.\n"
     ]
    }
   ],
   "source": [
    "nome = \"Lucas\"\n",
    "dia = 19\n",
    "mês = \"abril\"\n",
    "\n",
    "print(f'O meu nome é {nome} e minha data de aniversário é {dia} de {mês}.')"
   ]
  },
  {
   "cell_type": "markdown",
   "metadata": {},
   "source": [
    "### Expressões embutidas\n",
    "\n",
    "F-strings aceitam qualquer expressão válida de Python, incluindo operações matemáticas, chamadas de função, métodos de objetos, etc.\n",
    "\n",
    "Veja o exemplo abaixo:"
   ]
  },
  {
   "cell_type": "code",
   "execution_count": 17,
   "metadata": {},
   "outputs": [
    {
     "name": "stdout",
     "output_type": "stream",
     "text": [
      "O quadrado de 10 é 100.\n"
     ]
    }
   ],
   "source": [
    "num = 10\n",
    "\n",
    "print(f\"O quadrado de {num} é {num ** 2}.\")"
   ]
  },
  {
   "cell_type": "markdown",
   "metadata": {},
   "source": [
    "### Especificação de formato\n",
    "\n",
    "Todas as especificações de formato do método format estão disponíveis para as f-strings:"
   ]
  },
  {
   "cell_type": "code",
   "execution_count": null,
   "metadata": {},
   "outputs": [
    {
     "name": "stdout",
     "output_type": "stream",
     "text": [
      "Valor de pi: 3.14\n"
     ]
    }
   ],
   "source": [
    "pi = 3.14159265\n",
    "\n",
    "print(f\"Valor de pi: {pi:.2f}\")"
   ]
  },
  {
   "cell_type": "markdown",
   "metadata": {},
   "source": [
    "**Tarefa:**\n",
    "\n",
    "Refaça o exemplo abaixo feito com o método format usando f-strings:\n",
    "\n",
    "```python\n",
    "print(\"Este programa resolve uma equação de segundo grau do tipo ax²+bx+c=0\")\n",
    "a=1\n",
    "b=3.4\n",
    "c=-10\n",
    "delta=b**2-4*a*c\n",
    "x1=(-b+delta**(1/2))/(2*a)\n",
    "x2=(-b-delta**(1/2))/(2*a)\n",
    "print(\"As soluções da equação {a:g}x²+{b:g}x+{c:g}=0 são: x1={x_1:.4f} e x2={x_2:.4f}\".format(a=a,b=b,c=c,x_1=x1,x_2=x2))\n",
    "```"
   ]
  },
  {
   "cell_type": "markdown",
   "metadata": {},
   "source": [
    "## Prefixos literais de strings"
   ]
  },
  {
   "cell_type": "markdown",
   "metadata": {},
   "source": [
    "Além do prefixo `f`, existem também `r` e `b`. Veja o resumo de todas elas:\n",
    "\n",
    "|Prefixo|Nome|Significado|\n",
    "|---|---|---|\n",
    "|`r`|Raw string|Não interpreta sequências de escape (`\\n`, `\\t`, etc)|\n",
    "|`b`|Byte strings|Sequências de bytes (valores binários)|\n",
    "|`f`|f-strings|String formatada que permite expressões embutidas|\n",
    "\n",
    "\n",
    "Por exemplo, raw strings interpreta caracteres especiais como `\\n`, `\\t`, tornando útil quando utiliza-se muitas `\\`, como expressões em MathJax (ou LaTeX):"
   ]
  },
  {
   "cell_type": "code",
   "execution_count": 20,
   "metadata": {},
   "outputs": [
    {
     "data": {
      "text/plain": [
       "'x_{1,2}=\\\\frac{-b\\\\pm\\\\sqrt{b^2-4ac}}{2a}'"
      ]
     },
     "execution_count": 20,
     "metadata": {},
     "output_type": "execute_result"
    }
   ],
   "source": [
    "r'x_{1,2}=\\frac{-b\\pm\\sqrt{b^2-4ac}}{2a}'"
   ]
  },
  {
   "cell_type": "markdown",
   "metadata": {},
   "source": [
    "**Tarefa:**\n",
    "\n",
    "Crie uma string que represente o seguinte endereço de arquivo no Windows:\n",
    "\n",
    "```\n",
    "C:\\novo\\teste\\arquivo.txt\n",
    "```\n",
    "\n",
    "Use raw strings para obter esse resultado."
   ]
  },
  {
   "cell_type": "markdown",
   "metadata": {},
   "source": [
    "**Tarefa:**\n",
    "\n",
    "Como seria para imprimir a fórmula de Báskara sem raw strings?"
   ]
  },
  {
   "cell_type": "markdown",
   "metadata": {},
   "source": [
    "### Combinando prefixos\n",
    "\n",
    "Você pode combinar prefixos quando necessário (Prefixo `rf` ou `fr`):"
   ]
  },
  {
   "cell_type": "code",
   "execution_count": 23,
   "metadata": {},
   "outputs": [
    {
     "name": "stdout",
     "output_type": "stream",
     "text": [
      "C:\\Users\\Lucas\\pasta\n"
     ]
    }
   ],
   "source": [
    "nome = \"Lucas\"\n",
    "print(rf\"C:\\Users\\{nome}\\pasta\")"
   ]
  },
  {
   "cell_type": "markdown",
   "metadata": {},
   "source": [
    "## Operador %\n",
    "\n",
    "O método de formatação usando %, também chamado de formatação estilo printf, é uma forma mais **antiga** (oriunda da linguagem C) para inserir valores em uma string.\n",
    "\n",
    "Não iremos entrar em tantos detalhes pois esta forma é pouco usada, mas pode ser útil em expressões escritas em MathJax pois tem muitos `{` ou `}`.\n",
    "\n",
    "Veja um exemplo:"
   ]
  },
  {
   "cell_type": "code",
   "execution_count": null,
   "metadata": {},
   "outputs": [
    {
     "name": "stdout",
     "output_type": "stream",
     "text": [
      "Produto: Caneta | Preço: R$ 4.60\n"
     ]
    }
   ],
   "source": [
    "# Exemplo com operador %\n",
    "produto = \"Caneta\"\n",
    "preco = 4.5999\n",
    "print(\"Produto: %s | Preço: R$ %.2f\" % (produto, preco))"
   ]
  },
  {
   "cell_type": "markdown",
   "metadata": {},
   "source": [
    "Agora outro exemplo de uma fração escrita em MathJax:"
   ]
  },
  {
   "cell_type": "code",
   "execution_count": 32,
   "metadata": {},
   "outputs": [
    {
     "name": "stdout",
     "output_type": "stream",
     "text": [
      "\\frac{2}{5}\n"
     ]
    }
   ],
   "source": [
    "a = 2\n",
    "b = 5\n",
    "\n",
    "print(r\"\\frac{%d}{%d}\" % (a, b))"
   ]
  },
  {
   "cell_type": "markdown",
   "metadata": {},
   "source": [
    "**Tarefa:**\n",
    "\n",
    "Imprima a fórmula do $\\Delta$ na fómula de Báskara em MathJax:\n",
    "\n",
    "```\n",
    "\\delta=b^2-4ac\n",
    "```\n",
    "\n",
    "Use raw strings e o operador `%` para isso."
   ]
  }
 ],
 "metadata": {
  "kernelspec": {
   "display_name": "base",
   "language": "python",
   "name": "python3"
  },
  "language_info": {
   "codemirror_mode": {
    "name": "ipython",
    "version": 3
   },
   "file_extension": ".py",
   "mimetype": "text/x-python",
   "name": "python",
   "nbconvert_exporter": "python",
   "pygments_lexer": "ipython3",
   "version": "3.12.9"
  }
 },
 "nbformat": 4,
 "nbformat_minor": 2
}
