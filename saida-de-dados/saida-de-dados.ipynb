{
 "cells": [
  {
   "cell_type": "markdown",
   "metadata": {},
   "source": [
    "# Strings e saída de dados"
   ]
  },
  {
   "cell_type": "markdown",
   "metadata": {},
   "source": [
    "Vimos que é possível mostrar uma expressão, dado ou variável escrevendo o valor desta variável no final da célula. Entretanto nem sempre utilizamos o Jupyter Notebook para programar em Python. Entretanto, desta forma estamos limitado ao último dado da célula. Quando queremos imprimir algum dado intermediário ou com alguma construção mais complexa devemos recorrer à função de saída de dados `print()`. De forma similar, existe uma função que permite imprimir dados crus `display()`."
   ]
  },
  {
   "cell_type": "markdown",
   "metadata": {},
   "source": [
    "## Funções de saída de dados"
   ]
  },
  {
   "cell_type": "markdown",
   "metadata": {},
   "source": [
    "### Função print"
   ]
  },
  {
   "cell_type": "markdown",
   "metadata": {},
   "source": [
    "A função `print()` tem o objetivo de imprimir na tela o valor que estiver sendo passado. Veja e execute a célula abaixo."
   ]
  },
  {
   "cell_type": "code",
   "execution_count": null,
   "metadata": {},
   "outputs": [],
   "source": [
    "print(\"Este é um texto comum\")\n",
    "var1 = 300\n",
    "print(var1)"
   ]
  },
  {
   "cell_type": "markdown",
   "metadata": {},
   "source": [
    "**Tarefa:**\n",
    "\n",
    "Com as funções de saída podemos criar programas mais complexos. Como por exemplo um programa capaz de converter a temperatura. Considere a seguinte fómula:\n",
    "\n",
    "$$\n",
    "C=5\\times((F-32)/9)\n",
    "$$\n",
    "\n",
    "Onde $C$ representa a temperatura em Celcius e $F$ representa a temperatura em Fahrenheit. \n",
    "\n",
    "A saída do programa deve ser algo como:\n",
    "\n",
    "```\n",
    "A temperatura em Celcius é de XX graus.\n",
    "```\n",
    "\n",
    "Teste-o para a temperatura de $100^oF$, $32^oF$ e $192^oF$.\n",
    "\n",
    "> **Dica:**\n",
    ">\n",
    "> Defina a temperatura em Fahrenheit como uma variável e altere a saída dela."
   ]
  },
  {
   "cell_type": "markdown",
   "metadata": {},
   "source": [
    "### Caracter nova linha\n",
    "\n",
    "Quando queremos escrever uma string com mais de uma linha podemos recorrer ao caracter `\\n`. Este caracter simboliza uma quebra linha. Veja o exemplo abaixo:"
   ]
  },
  {
   "cell_type": "code",
   "execution_count": 2,
   "metadata": {},
   "outputs": [
    {
     "name": "stdout",
     "output_type": "stream",
     "text": [
      "Esta é a primeira linha.\n",
      "Esta é a segunda linha.\n",
      "Esta é a terceira linha.\n"
     ]
    }
   ],
   "source": [
    "print(\"Esta é a primeira linha.\\nEsta é a segunda linha.\\nEsta é a terceira linha.\")"
   ]
  },
  {
   "cell_type": "markdown",
   "metadata": {},
   "source": [
    "Uma outra forma de trabalhar com strings multi-linhas é usando três delimitadores de strings, como mostra abaixo:"
   ]
  },
  {
   "cell_type": "code",
   "execution_count": 4,
   "metadata": {},
   "outputs": [
    {
     "name": "stdout",
     "output_type": "stream",
     "text": [
      "Esta é a primeira linha.\n",
      "Esta é a segunda linha.\n",
      "Esta é a terceira linha.\n"
     ]
    }
   ],
   "source": [
    "print(\"\"\"Esta é a primeira linha.\n",
    "Esta é a segunda linha.\n",
    "Esta é a terceira linha.\"\"\")"
   ]
  },
  {
   "cell_type": "markdown",
   "metadata": {},
   "source": [
    "> **Observação:**\n",
    ">\n",
    "> Essa é a mesma notação utilizada para escrever comentário multi-linha."
   ]
  },
  {
   "cell_type": "markdown",
   "metadata": {},
   "source": [
    "**Tarefa:**\n",
    "\n",
    "Crie um programa capaz de calcular a raiz quadrada, o dobro e o triplo de um número. Cada resultado deve ser impresso em uma única linha.\n",
    "\n",
    "- Faça a tarefa utilizando o caracter `\\n`\n",
    "- Faça a tarefa utilizando a sintáxe de string multi-linha"
   ]
  },
  {
   "cell_type": "markdown",
   "metadata": {},
   "source": [
    "### Função display\n",
    "\n",
    "A função `display()` também exibe um resultado na tela, porém de forma diferente da função `print()`. Esta função é exclusiva do Jupyter, e  utiliza o mecanismo de representação multimodal do ambiente, permitindo que os dados sejam exibidos em diferentes formatos, como **texto**, **HTML**, **Markdown**, **LaTeX**, ou gráficos, dependendo das representações disponíveis no objeto.\n",
    "\n",
    "Ela pode utilizar diferentes métodos de representação, dependendo do tipo de dado, incluindo:\n",
    "\n",
    "+ `__repr__()`\n",
    "+ `__str__()`\n",
    "\n",
    "Para representação mais ricas a função `display()` utiliza outros métodos, como `__repr_html__()`, `__repr_json__()`, `__repr_latex__()`, entre outras.` A escolha do método ocorre automaticamente, conforme o tipo de dado.\n",
    "\n",
    "Embora não seja necessário compreender detalhadamente esses métodos nem a exibição de formatações avançadas, é útil saber que eles existem e que o Jupyter os utiliza para proporcionar visualizações mais informativas.\n",
    "\n",
    "> **Importante:**\n",
    ">\n",
    "> Na prática, sempre que uma variável é declarada ao final de uma célula, o Jupyter chama a função `display()` automaticamente nos bastidores. No entanto, é possível utilizar display() diretamente em qualquer parte do código para exibir dados antes do fim da célula."
   ]
  },
  {
   "cell_type": "markdown",
   "metadata": {},
   "source": [
    "**Tarefa:**\n",
    "\n",
    "Repita o exemplo abaixo usando a função `display()`:\n",
    "\n",
    "```python\n",
    "# Troque pela função display aqui\n",
    "print(\"Esta é a primeira linha.\\nEsta é a segunda linha.\\nEsta é a terceira linha.\")\n",
    "```\n",
    "\n",
    "O que você vê de diferente em relação à função `print()`?\n",
    "\n",
    "Escreva a resposta em uma string usando a função `display()`."
   ]
  },
  {
   "cell_type": "markdown",
   "metadata": {},
   "source": [
    "### Print com mais de um argumento"
   ]
  },
  {
   "cell_type": "markdown",
   "metadata": {},
   "source": [
    "Até agora trabalhamos com a função `print()`  recebendo um único argumento de entrada (parâmetro) na forma de string. Entretanto esta função permite que você insira mais de argumento (parâmetro).  Veja o exemplo abaixo:"
   ]
  },
  {
   "cell_type": "code",
   "execution_count": 1,
   "metadata": {},
   "outputs": [
    {
     "name": "stdout",
     "output_type": "stream",
     "text": [
      "O meu nome é Lucas e minha data de aniversário é 19 de Abril .\n"
     ]
    }
   ],
   "source": [
    "nome = 'Lucas'\n",
    "data = 19\n",
    "mes='Abril'\n",
    "print('O meu nome é',nome,'e minha data de aniversário é',data,'de',mes,'.')"
   ]
  },
  {
   "cell_type": "markdown",
   "metadata": {},
   "source": [
    "Observe que no exemplo acima não houve necessidade de adicionar espaço no final da string. A própria função `print()` fez isso para a gente. "
   ]
  },
  {
   "cell_type": "markdown",
   "metadata": {},
   "source": [
    "**Tarefa:** \n",
    "\n",
    "Crie um programa que peça como entrada três palavras e forme uma frase com essas três palavras. A saída deve ser mostrada como:\n",
    "\n",
    "```\n",
    "A frase formada com essas três palavras é: [palavra1] [palavra2] [palavra3]\n",
    "```\n",
    "\n",
    "> **Dica:**\n",
    "> \n",
    "> Salve as palavras em variáveis."
   ]
  },
  {
   "cell_type": "markdown",
   "metadata": {},
   "source": [
    "### Argumentos sep e end"
   ]
  },
  {
   "cell_type": "markdown",
   "metadata": {},
   "source": [
    "Quando trabalhamos com múltiplos objetos de entrada, percebemos que sempre entre um parâmetro e outro, é adicionado um espaço em branco. Além disso, ao final do `print()` havia sempre uma quebra linha. Este é o comportamento padrão da função `print()` , entretanto podemos alterá-lo mudando os parâmetros opcionais `sep=` e `end=`. Descritos na tabela abaixo:"
   ]
  },
  {
   "cell_type": "markdown",
   "metadata": {},
   "source": [
    "\n",
    "| Parâmetro opcional | Descrição                                                    |\n",
    "| :----------------: | ------------------------------------------------------------ |\n",
    "|        sep         | Quando dois ou mais argumentos são passados para a função `print()` sep coloca entre eles um espaço em branco ou um outro valor que podemos passar para sep. |\n",
    "|        end         | O valor padrão de end é uma nova linha `\\n` e por isso que sempre a função print adiciona uma nova linha depois de imprimir tudo que lhe foi passado, mas, podemos definir outro valor com uma tabulação `\\t` por exemplo. |"
   ]
  },
  {
   "cell_type": "markdown",
   "metadata": {},
   "source": [
    "Sendo assim a notação da função `print()` é da seguinte forma:\n",
    "\n",
    "```python\n",
    "print(arg1,arg2,arg3,...,sep=valor_do_sep,end=valor_do_end)\n",
    "```\n",
    "\n",
    "Veja e execute o exemplo abaixo:"
   ]
  },
  {
   "cell_type": "code",
   "execution_count": null,
   "metadata": {},
   "outputs": [],
   "source": [
    "ano1 = '1980'\n",
    "ano2 = '1990'\n",
    "ano3 = '2000'\n",
    "ano4 = '2010'\n",
    "\n",
    "texto = \"Alterando o valor de sep\"\n",
    "print(texto)\n",
    "print(ano1, ano2, ano3, ano4, sep='--->')\n",
    "\n",
    "# pula uma linha\n",
    "print()\n",
    "\n",
    "texto = \"Alterando o valor de sep e end\"\n",
    "print(texto)\n",
    "print(ano1, ano2, ano3, ano4, sep='--->', end='.\\n')"
   ]
  }
 ],
 "metadata": {
  "kernelspec": {
   "display_name": ".conda",
   "language": "python",
   "name": "python3"
  },
  "language_info": {
   "codemirror_mode": {
    "name": "ipython",
    "version": 3
   },
   "file_extension": ".py",
   "mimetype": "text/x-python",
   "name": "python",
   "nbconvert_exporter": "python",
   "pygments_lexer": "ipython3",
   "version": "3.10.13"
  }
 },
 "nbformat": 4,
 "nbformat_minor": 2
}
