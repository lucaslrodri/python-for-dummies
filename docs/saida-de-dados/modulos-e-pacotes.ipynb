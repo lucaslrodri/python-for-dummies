{
 "cells": [
  {
   "cell_type": "markdown",
   "metadata": {},
   "source": [
    "# Módulo e pacotes"
   ]
  },
  {
   "cell_type": "markdown",
   "metadata": {},
   "source": [
    "\n",
    "# Atividade 1: Importando módulos\n",
    "\n",
    "O python possui muitas funções e operadores que nativa da própria linguagem de programação  como os operadores básicos (+,-,\\*,/), potenciação (\\*\\*) impressão de valores (`print()`,`.format()`), e etc. \n",
    "\n",
    "No entanto, há algumas **funcionalidades** que você irá precisar para produzir seu código, mas que **não tem nativamente** na linguagem Python, podemos então importar tais funcionalidades para o nosso trabalho como módulos. \n",
    "\n",
    "Agora vejam a definição de módulo segundo um trecho da a própria documentação do Python:\n",
    "\n",
    "> Módulos são um **conjunto** de **códigos como funções, classes, variáveis, etc**. Se você estiver fazendo um programa e ele se tornar muito grande, difícil de ler e se situar nele, é uma boa prática dividi-lo em arquivos menores, para facilitar a manutenção. Também é preferível usar um arquivo separado para uma função que você escreveria em vários programas diferentes, para não copiar a definição de função em cada um deles.\n",
    ">\n",
    "> Para permitir isso, o Python tem uma maneira de **colocar as definições em um arquivo** e então usá-las em um script ou em uma execução interativa do interpretador. **Tal arquivo é chamado de módulo**; definições de um módulo podem ser importadas para outros módulos, ou para o módulo principal.\n",
    "\n",
    "### Exemplo 1: Importando um módulo\n",
    "\n",
    "Para o nosso primeiro exemplo vamos importar o módulo **math**, um módulo que estende o Python com algumas funcionalidades matemáticas.\n",
    "\n",
    "Execute a célula abaixo:"
   ]
  },
  {
   "cell_type": "code",
   "execution_count": 19,
   "metadata": {},
   "outputs": [],
   "source": [
    "import math # Nesta linha eu estou importando o módulo math"
   ]
  },
  {
   "cell_type": "markdown",
   "metadata": {},
   "source": [
    "Feito isso, tente escrever o seguinte código e aperte `Tab`:"
   ]
  },
  {
   "cell_type": "code",
   "execution_count": 20,
   "metadata": {},
   "outputs": [
    {
     "ename": "SyntaxError",
     "evalue": "invalid syntax (3171735483.py, line 1)",
     "output_type": "error",
     "traceback": [
      "\u001b[1;36m  Cell \u001b[1;32mIn[20], line 1\u001b[1;36m\u001b[0m\n\u001b[1;33m    math.\u001b[0m\n\u001b[1;37m         ^\u001b[0m\n\u001b[1;31mSyntaxError\u001b[0m\u001b[1;31m:\u001b[0m invalid syntax\n"
     ]
    }
   ],
   "source": [
    "math."
   ]
  },
  {
   "cell_type": "markdown",
   "metadata": {},
   "source": [
    "Você verá todas as **funções** e **constantes (instâncias)** deste pacote, como mostra na Figura abaixo:"
   ]
  },
  {
   "cell_type": "markdown",
   "metadata": {},
   "source": [
    "Agora apague a célula acima e vamos aprender a calcular a raiz quadrada. Para isso utilize a função `sqrt()` do módulo `math`."
   ]
  },
  {
   "cell_type": "markdown",
   "metadata": {},
   "source": [
    "```python\n",
    "num = int(input(\"Digite o número que quer calcular a raiz quadrada: \"))\n",
    "raiz = math.sqrt(num) # A função sqrt() do módulo 'math' calcula a raiz quadrada \n",
    "print(\"A raiz quadrada de {num} é {raiz}\".format(num=num,raiz=raiz))\n",
    " ```"
   ]
  },
  {
   "cell_type": "markdown",
   "metadata": {},
   "source": [
    "**Dica:** Teste o exemplo acima com alguns valores, como 5, 4, 3, 2, etc."
   ]
  },
  {
   "cell_type": "markdown",
   "metadata": {},
   "source": [
    "Agora vamos arredondar o resultado da raiz utilizando a função `ceil()`."
   ]
  },
  {
   "cell_type": "markdown",
   "metadata": {},
   "source": [
    "> ```python\n",
    "> num = int(input(\"Digite o número que quer calcular a raiz quadrada: \"))\n",
    "> raiz = math.sqrt(num) # A função sqrt() do módulo 'math' calcula a raiz quadrada \n",
    "> arredondar = math.ceil(raiz) # A função ceil() arredonda para cima um determinado valor\n",
    "> print(\"A raiz quadrada (arredondada) de {num} é {raiz}\".format(num=num,raiz=arredondar))\n",
    "> ```"
   ]
  },
  {
   "cell_type": "markdown",
   "metadata": {},
   "source": [
    "> **Dica:** Teste os exemplos acima com alguns valores, como 5, 4, 3, 2, etc."
   ]
  },
  {
   "cell_type": "markdown",
   "metadata": {},
   "source": [
    "Vamos praticar com uma constante. Procure a constante `pi` e execute:"
   ]
  },
  {
   "cell_type": "markdown",
   "metadata": {},
   "source": [
    "> ```python\n",
    "> math.pi\n",
    "> ```\n",
    ">\n",
    "> 3.141592653589793"
   ]
  },
  {
   "cell_type": "markdown",
   "metadata": {},
   "source": [
    "Agora vamos criar um programa capaz de calcular o seno de um ângulo dado em graus:"
   ]
  },
  {
   "cell_type": "markdown",
   "metadata": {},
   "source": [
    "> ```python\n",
    "> ang_graus = int(input(\"Digite um ângulo (Em graus): \"))\n",
    "> ang_rad = ang_graus*math.pi/180 #Observe que estamos utilizando a constante pi\n",
    "> seno = math.sin(ang_rad) # A função sin() calcula o seno de um ângulo\n",
    "> print(\"O seno de {ang_graus}° é {seno:.2g}\".format(ang_graus=ang_graus,seno=seno))\n",
    "> ```\n",
    ">\n",
    "> Digite um ângulo (Em graus):  60  \n",
    "> O seno de 60° é 0.87"
   ]
  },
  {
   "cell_type": "markdown",
   "metadata": {},
   "source": [
    "**Dica:** Teste o exemplo acima com os ângulos 0, 30, 45, 60 e 90."
   ]
  },
  {
   "cell_type": "markdown",
   "metadata": {},
   "source": [
    "**Tarefa**: Crie um código que aceite um ângulo em graus como entrada, e imprima na tela o seu correspondente em radianos, o seu seno, cosseno e tangente."
   ]
  },
  {
   "cell_type": "markdown",
   "metadata": {},
   "source": [
    "> **Observação:** Utilize a função `radians()` para fazer a conversão de graus para radianos diretamente.\n",
    "\n",
    "> **Dica:** Utilize as funções `sin()`, `cos()`, `tan()` para calcular o seno cosseno e tangente."
   ]
  },
  {
   "cell_type": "markdown",
   "metadata": {},
   "source": [
    "A saída do programa deve ser parecida com isso:\n",
    "\n",
    "```\n",
    "Digite o ângulo em graus:  45\n",
    "O ângulo 0.79 rad, tem o seno 0.71, cosseno 0.71 e tangente 1\n",
    "```"
   ]
  },
  {
   "cell_type": "markdown",
   "metadata": {},
   "source": [
    "> **Dica:** Teste o exemplo acima com os ângulos 0, 30, 45, 60 e 90."
   ]
  },
  {
   "cell_type": "markdown",
   "metadata": {},
   "source": [
    "### Exemplo 2: Documentação do `math`\n",
    "\n",
    "Praticamente todo módulo ou pacote do Python tem uma documentação disponível na internet. O módulo `math` é um módulo **built-in**, ou seja, ele é um módulo que já vem junto com o Python. Para estes módulos podemos olhar a própria documentação do Python. Essa documentação está disponível no menu `Help>Python Reference` ou no próprio [site do python](https://www.python.org/), na parte de **Docs**. \n",
    "\n",
    "![Site do Python](images/python_images.png)"
   ]
  },
  {
   "cell_type": "markdown",
   "metadata": {},
   "source": [
    "No caso do módulo de matemática, podemos utilizar o seguinte módulo direto:\n",
    "\n",
    "https://docs.python.org/3/library/math.html\n",
    "\n",
    "Lá podemos encontrar explicações detalhadas de todas as funções e constantes do módulo `math`.\n",
    "\n",
    "**Tarefa 1:** Buscando na documentação do módulo `math`, crie um programa capaz de calcular as seguintes expressões:\n",
    "\n",
    "- $e^x$\n",
    "- $x!$\n",
    "- $\\log_{10}(x+1)$\n",
    "- $(\\pi+e)^x$\n",
    "\n",
    "O usuário deve colocar como entrada o valor de $x$."
   ]
  },
  {
   "cell_type": "markdown",
   "metadata": {},
   "source": [
    "> **Observação:** Teste usar a função `pow()` no lugar do operador `**`."
   ]
  },
  {
   "cell_type": "markdown",
   "metadata": {},
   "source": [
    "A saída deve ser parecida com essa:\n",
    "\n",
    "```\n",
    "Digite o valor de x:  1\n",
    "e^1=2.72\n",
    "1!=1\n",
    "log10(1+1)!=0.30\n",
    "(pi+e)^1!=5.86\n",
    "```"
   ]
  },
  {
   "cell_type": "markdown",
   "metadata": {},
   "source": [
    "**Tarefa 2:** Crie um programa capaz de calcular a hipotenusa de um retângulo utilizando uma função do módulo `math`.\n",
    "\n",
    "Sugestão de saída:\n",
    "\n",
    "```\n",
    "Digite o primeiro cateto: 3\n",
    "Digite o segundo cateto: 4\n",
    "A hipotenusa é 5\n",
    "```"
   ]
  },
  {
   "cell_type": "markdown",
   "metadata": {},
   "source": [
    "### Exemplo 3: `from` ... `import` ...\n",
    "\n",
    "É muito chato toda vez que for utilizar alguma funcionalidade da função math, ter que escrever `math.` no início. Através da sintaxe:\n",
    "\n",
    "```python\n",
    "from [módulo] import [função1], [função2], [constante1], [etc]\n",
    "```"
   ]
  },
  {
   "cell_type": "markdown",
   "metadata": {},
   "source": [
    "Podemos incluir somente as funções e constantes que desejamos trabalhar e eliminamos a necessidade de utilizar `math.` no início. Veja o exemplo:\n",
    "\n",
    "> ```python\n",
    "> from math import pi\n",
    "> pi\n",
    "> ```\n",
    ">\n",
    "> 3.141592653589793"
   ]
  },
  {
   "cell_type": "markdown",
   "metadata": {},
   "source": [
    "Vejamos um exemplo de como calcular o fatorial:\n",
    "\n",
    "> ```python\n",
    "> # Utilizando import\n",
    "> import math \n",
    "> numero = int(input(\"Digite um valor: \"))\n",
    "> fat = math.factorial(numero)\n",
    "> print(\"O fatorial de {} é {}.\".format(numero, fat))\n",
    "> ```"
   ]
  },
  {
   "cell_type": "markdown",
   "metadata": {},
   "source": [
    "Percebemos agora, a maneira mais simples de importar um módulo, que é simplesmente digitando `import` e o nome do módulo logo em seguida. Na hora de chamar a função `factorial`precisamos especificar que ela pertence ao módulo em questão, por isso a chamamos com `math.factorial()`.  \n",
    "\n",
    "Agora suponha que iremos usar apenas a função `factorial`, sem usar as outras funções do módulo de matemática, a outra forma de faze-lo é:"
   ]
  },
  {
   "cell_type": "markdown",
   "metadata": {},
   "source": [
    "> ```python\n",
    "> # Utilizando from import\n",
    "> from math import factorial\n",
    "> numero = int(input(\"Digite um valor: \"))\n",
    "> fat = factorial(numero)\n",
    "> print(\"O fatorial de {} é {}.\".format(numero, fat))\n",
    "> ```"
   ]
  },
  {
   "cell_type": "markdown",
   "metadata": {},
   "source": [
    "**Tarefa:** Refaça a tarefa abaixo importando todas as funções necessárias utilizando a notação `from` `import`\n",
    "\n",
    "> Crie um código que aceite um ângulo em graus como entrada, e imprima na tela o seu correspondente em radianos, o seu seno, cosseno e tangente."
   ]
  },
  {
   "cell_type": "markdown",
   "metadata": {},
   "source": [
    "### Exemplo 4: `from` ... `import` *\n",
    "\n",
    "Caso não soubermos as funções que iremos utilizar, ou se iremos utilizar muitas funções de um determinado módulo, podemos importar todas as funções deste módulo utilizando a notação:\n",
    "\n",
    "```python\n",
    "from [módulo] import *\n",
    "```"
   ]
  },
  {
   "cell_type": "markdown",
   "metadata": {},
   "source": [
    "Veja o exemplo abaixo:\n",
    "\n",
    "> ```python\n",
    "> from math import *\n",
    "> ang_graus = int(input(\"Digite um ângulo (Em graus): \"))\n",
    "> ang_rad = ang_graus*pi/180 #Observe que estamos utilizando a constante pi\n",
    "> print(\"O seno de {}° é {:.2g}\".format(ang_graus,sin(ang_rad)))\n",
    "> ```\n",
    ">\n",
    "> Digite um ângulo (Em graus):  60  \n",
    "> O seno de 60° é 0.87"
   ]
  },
  {
   "cell_type": "markdown",
   "metadata": {},
   "source": [
    "`import *` é **prático**! Mas **tome cuidado**!\n",
    "\n",
    "Segue alguns motivos para **não usar** o `import *`:\n",
    "\n",
    "- Seu código não fica legível\n",
    "- Não fica implícito no código da onde vem aquela função\n",
    "- Caso um ou mais módulos tenham duas funções com o mesmo nome, **você não tem como escolher**, sempre será selecionada a última função importada!\n",
    "- Bugs inesperados\n",
    "- Etc\n",
    "\n",
    "Isso não quer dizer que usar o `import *` é sempre ruim. Ele pode ser prático em códigos pequenos, ou em módulos que você já conhece bem e que você saiba o que está fazendo.\n",
    "\n",
    "Para mais detalhes clique [aqui](https://www.geeksforgeeks.org/why-import-star-in-python-is-a-bad-idea)."
   ]
  },
  {
   "cell_type": "markdown",
   "metadata": {},
   "source": [
    "### Exemplo 5: Outros módulos _built-in_\n",
    "\n",
    "Além do módulo math, existem outros módulos _built-in_ e você pode encontrá-los na documentação do Python, em `Library reference` (A página tem o título `Python Library Standard `)\n",
    "\n",
    "![Bibliotecas Built-in do Python](images/bibliotecas.png)\n",
    "\n",
    "Esta página mostra diversos módulos em formas de categorias.\n",
    "\n",
    "Para continuarmos os nossos exercícios vamos utilizar uma outro módulo de matemática, o módulo `random`. Ele está na seção `Numeric and Mathematical Modules`. Vamos ver um exemplo com a função `random()`:"
   ]
  },
  {
   "cell_type": "markdown",
   "metadata": {},
   "source": [
    "> ```python\n",
    "> from random import random # A função random() gera um float pseudo aleatório de 0.0 <= x < 1.0\n",
    "> from math import floor # A função ceil() arredonda para baixo\n",
    "> ```\n",
    ">\n",
    "> ```python\n",
    "> aleatorio=floor(10*random()) # Gera um número pseudo aleatório de 0 a 9\n",
    "> aleatorio\n",
    "> ```\n",
    ">\n",
    "> 5"
   ]
  },
  {
   "cell_type": "markdown",
   "metadata": {},
   "source": [
    "Observe que nesse exemplo para conseguir esse efeito combinamos duas funções de módulos diferentes.\n",
    "\n",
    "**Tarefa 1:** Olhando a documentação do módulo `random` refaça o exemplo sem utilizar o módulo `math`.\n",
    "\n",
    "**Tarefa 2:** Lendo a documentação indique quais módulos são mais adequados para:\n",
    "\n",
    "- Trabalhar com o tempo (Horas, dias, semanas)\n",
    "- Trabalhar com arquivos de audio do tipo WAV\n",
    "- Criar programas com interface gráfica (GUI)\n",
    "- Trabalhar com frações"
   ]
  },
  {
   "cell_type": "markdown",
   "metadata": {},
   "source": [
    "### Exemplo 6: Renomeando módulos\n",
    "\n",
    "Uma outra forma de importar módulos é renomeando-o. Observe novamente o exemplo do fatorial:\n",
    "\n",
    "> ```python\n",
    "> import math as m\n",
    "> numero = int(input(\"Digite um valor: \"))\n",
    "> fat = m.factorial(numero)\n",
    "> print(\"O fatorial de {} é {}.\".format(numero, fat))\n",
    "> ```\n",
    ">\n",
    "> Digite um valor:  5  \n",
    "> O fatorial de 5 é 120."
   ]
  },
  {
   "cell_type": "markdown",
   "metadata": {},
   "source": [
    "Observe que a sintaxe `import math as m` tornou o mesmo módulo disponível agora por um nome diferente, no caso, `mat`. Dessa forma, podemos chamar uma função do módulo como `m.função`, como mostrado acima. Essa funcionalidade é particularmente útil quando o nome do módulo é grande e a tarefa de escreve-lo diversas vezes torna-se chata, como é mostrado abaixo:"
   ]
  },
  {
   "cell_type": "markdown",
   "metadata": {},
   "source": [
    "> ```python\n",
    "> import matplotlib.pyplot as plt # Submódulo para plotar gráficos\n",
    "> ```"
   ]
  },
  {
   "cell_type": "markdown",
   "metadata": {},
   "source": [
    "Sempre **prefira essa notação de `import [nome_do_pacote] as [novo_nome_do_pacote]`ao invés de apenas `import  `**, pois desta forma você deixa o código legível e evita a tarefa chata de ter que escrever o nome completo do módulo toda vez que vai utilizar uma funcionalidade do módulo."
   ]
  },
  {
   "cell_type": "markdown",
   "metadata": {},
   "source": [
    "**Tarefa:** Considere o código abaixo, substitua o `from math import *` por `ìmport math as m`:"
   ]
  },
  {
   "cell_type": "markdown",
   "metadata": {},
   "source": [
    "```python\n",
    "from math import *\n",
    "ang_graus = int(input(\"Digite um ângulo (Em graus): \"))\n",
    "ang_rad = ang_graus*pi/180 #Observe que estamos utilizando a constante pi\n",
    "print(\"O seno de {}° é {:.2g}\".format(ang_graus,sin(ang_rad)))\n",
    "```"
   ]
  },
  {
   "cell_type": "markdown",
   "metadata": {},
   "source": [
    "# Atividade 2: Pacotes do Anaconda\n",
    "\n",
    "Como dito anteriormente, podemos ver os módulos como se fossem caixas com diversas funções úteis dentro, e que podemos acessa-las com um `import`.  \n",
    "| Classe | Tipo       | Atributos/Métodos | Detalhes          |\n",
    "|--------|------------|-------------------|-------------------|\n",
    "| Math   | Módulo     | pi                | Atributo (float)  |\n",
    "|        |            | e                 | Atributo (float)  |\n",
    "|        |            | inf               | Atributo (float)  |\n",
    "|        |            | etc               | Atributo (genérico)|\n",
    "|        |            | ceil(x)           | Método            |\n",
    "|        |            | comb(n, k)        | Método            |\n",
    "|        |            | copysign(x, y)    | Método            |\n",
    "|        |            | etc()             | Método            |\n"
   ]
  },
  {
   "cell_type": "markdown",
   "metadata": {},
   "source": [
    "> **Figura 1:** Representação do módulo Math.\n",
    "\n",
    "No python, também há o conceito de Pacote. Podemos ver os pacotes como módulos que contém outros módulos separados por temática. Na imagem abaixo temos o pacote `Game`. Dentro deste pacote existem outros módulos."
   ]
  },
  {
   "cell_type": "markdown",
   "metadata": {},
   "source": [
    "```mermaid\n",
    "classDiagram\n",
    "    Game .. Som\n",
    "    Game .. Imagem\n",
    "    Game .. Fase\n",
    "\n",
    "    class Game {\n",
    "        <<Pacote>>\n",
    "    }\n",
    "\n",
    "    class Som {\n",
    "        <<Sub-Módulo>>\n",
    "        +volumeEfeito\n",
    "        +volumeMusica\n",
    "        +reproduzirEfeito()\n",
    "        +reproduzirMusica()\n",
    "        +mudarVolume()\n",
    "    }\n",
    "\n",
    "    class Imagem {\n",
    "        <<Sub-Módulo>>\n",
    "        +qualidade\n",
    "        +filtros\n",
    "        +mudarQualidade()\n",
    "        +mudarFiltros()\n",
    "    }\n",
    "\n",
    "    class Fase {\n",
    "        <<Sub-Módulo>>\n",
    "        +mundo\n",
    "        +numero\n",
    "        +chefe\n",
    "        +entrar()\n",
    "        +derrotarChefe()\n",
    "    }\n"
   ]
  },
  {
   "cell_type": "markdown",
   "metadata": {},
   "source": [
    "> **Figura 2:** Conceito de pacote."
   ]
  },
  {
   "cell_type": "markdown",
   "metadata": {},
   "source": [
    "O nosso pacote fictício agora possui vários sub-módulos, cada um deles com diversas funções diferentes e de modo mais organizado na visão do programador. \n",
    "\n",
    "Muitos dos pacotes utilizados pela comunidade Python não vem por padrão na linguagem. Por sorte o **Anaconda trás diversos pacotes úteis** para o programador Python. Desta forma não precisamos nos preocupar em instalar muitos pacotes utilizados na comunidade Python. Podemos citar alguns exemplos de pacotes que vem junto com o Anaconda:"
   ]
  },
  {
   "cell_type": "markdown",
   "metadata": {},
   "source": [
    "- Numpy - Gerenciamento de arrays e matrizes\n",
    "- Matplotlib - Gráficos e plotagens\n",
    "- Scipy - Computação científica\n",
    "- Sympy - Variáveis simbólicas\n",
    "- Seaborn - Visualização de dados com estatística\n",
    "- Pandas - Análise de dados\n",
    "- OpenCV - Processamento de imagens\n",
    "- TensorFlow - Machine learning\n",
    "- Pillow - Visualização e filtragem de imagens\n",
    "- Orange - Análise de dados"
   ]
  },
  {
   "cell_type": "markdown",
   "metadata": {},
   "source": [
    "Pode ser que na sua máquina estes pacotes não estejam instalados. Entretanto podemos instalá-los utilizando o terminal e utilizando o comando:"
   ]
  },
  {
   "cell_type": "markdown",
   "metadata": {},
   "source": [
    "> `conda install [pacote]`"
   ]
  },
  {
   "cell_type": "markdown",
   "metadata": {},
   "source": [
    "O `conda` é o gerenciador de pacotes do Anaconda. Através desse comando podemos instalar, pesquisar e desinstalar pacotes. Abaixo segue alguns comandos que podemos utilizar no gerenciador de pacotes do Anaconda."
   ]
  },
  {
   "cell_type": "markdown",
   "metadata": {},
   "source": [
    "| Comando              | Função                                                   |\n",
    "| -------------------- | -------------------------------------------------------- |\n",
    "| `install [pacote]`   | Instala um pacote                                        |\n",
    "| `--help`             | Ajuda                                                    |\n",
    "| `uninstall [pacote]` | Remove um pacote                                         |\n",
    "| `search [palavra]`   | Procura por um determinado pacote baseado em uma palavra |\n",
    "| update               | Faz o update de todos os pacotes do Anaconda             |"
   ]
  },
  {
   "cell_type": "markdown",
   "metadata": {},
   "source": [
    "### Exemplo 1: Gerenciador de pacote `conda`\n",
    "\n",
    "**Tarefa:** Utilizando o comando `conda search` tente procurar pelos seguintes pacotes:\n",
    "\n",
    "- Orange\n",
    "- OpenCV\n",
    "- Pillow"
   ]
  },
  {
   "cell_type": "markdown",
   "metadata": {},
   "source": [
    "Agora **instale** o pacote **Orange**. Utilize a sequencia de comandos abaixo:\n",
    "\n",
    "```bash\n",
    "conda search orange\n",
    "conda install orange3\n",
    "```"
   ]
  },
  {
   "cell_type": "markdown",
   "metadata": {},
   "source": [
    "Feche a abra o Anaconda. \n",
    "\n",
    "Verá que agora é possível abrir o Orange no Anaconda Navigator.\n",
    "\n",
    "Finalmente, **desinstale o Orange**."
   ]
  },
  {
   "cell_type": "markdown",
   "metadata": {},
   "source": [
    "### Exemplo 2: Aplicação de um pacote\n",
    "\n",
    "Para entender melhor o conceito de pacote vamos utilizar o exemplo de uma trajetória de um projetil.\n",
    "\n",
    "O pacote `sympy`  permite trabalhar com variáveis simbólicas. Variáveis simbólicas são variáveis que armazenam uma incógnita, como por exemplo $t$, $x$, $y$."
   ]
  },
  {
   "cell_type": "markdown",
   "metadata": {},
   "source": [
    "> **Observação:** A documentação deste pacote pode ser encontrada no menu `Help > Sympy Reference`. Alternativamente você pode [clicar aqui](https://docs.sympy.org/latest/index.html).\n",
    "\n",
    "A documentação dos módulos disponíveis nesse pacote pode ser encontrada [clicando aqui](https://docs.sympy.org/latest/modules/index.html). \n",
    "\n",
    "![Módulos do Sympy](images/sympy.png)"
   ]
  },
  {
   "cell_type": "markdown",
   "metadata": {},
   "source": [
    "Observe que neste pacote existem muitos submódulos, que contém muitas classes e funções. Para facilitar a nossa vida, segue o diagrama abaixo que apresenta apenas funções importantes para este exemplo:"
   ]
  },
  {
   "cell_type": "markdown",
   "metadata": {},
   "source": [
    "| Classe    | Atributos / Métodos          |\n",
    "|-----------|-----------------------------|\n",
    "| **sympy** | `pi`                         |\n",
    "|           | `symbols()`                   |\n",
    "|           | `cos()`                        |\n",
    "|           | `sin()`                        |\n",
    "| **plotting** | `plot()`                   |\n",
    "|           | `plot_parametric()`           |\n"
   ]
  },
  {
   "cell_type": "markdown",
   "metadata": {},
   "source": [
    "> **Figura 3:** Funções do pacote `sympy` utilizadas nessa atividade."
   ]
  },
  {
   "cell_type": "markdown",
   "metadata": {},
   "source": [
    "Agora, considere que a trajetória de um projétil lancada na superfície da terra é governada pela seguinte função:\n",
    "$$\n",
    "f(x)=-5x^2+20x\n",
    "$$\n",
    "Antes de tudo é necessário importar `sympy`."
   ]
  },
  {
   "cell_type": "markdown",
   "metadata": {},
   "source": [
    "> ```python\n",
    "> import sympy\n",
    "> ```"
   ]
  },
  {
   "cell_type": "markdown",
   "metadata": {},
   "source": [
    "> **Observação:** Caso apareça um erro ao importar `sympy` provavelmente o pacote não está instalado na sua máquina. Use o comando:\n",
    ">\n",
    "> ```\n",
    "> conda install sympy\n",
    "> ```"
   ]
  },
  {
   "cell_type": "markdown",
   "metadata": {},
   "source": [
    "Depois podemos criar a variável simbólica de $x$ usando a função `symbols()`:"
   ]
  },
  {
   "cell_type": "markdown",
   "metadata": {},
   "source": [
    "> ```python\n",
    "> x = sympy.symbols('x') \n",
    "> x\n",
    "> ```\n",
    ">\n",
    "> $x$"
   ]
  },
  {
   "cell_type": "markdown",
   "metadata": {},
   "source": [
    "Feito isso podemos escrever a trajetória do projétil:"
   ]
  },
  {
   "cell_type": "markdown",
   "metadata": {},
   "source": [
    "> ```python\n",
    "> f=-5*x**2+20*x\n",
    "> f\n",
    "> ```\n",
    ">\n",
    "> $-5x^2+20x$"
   ]
  },
  {
   "cell_type": "markdown",
   "metadata": {},
   "source": [
    "Se quisermos plotar a trajetória desse projétil devemos recorrer ao submódulo `plotting` que pertence a pacote `sympy`. Observe na Figura 3 que o submódulo está em uma hierarquia abaixo de `sympy`, então devemos utilizar a notação abaixo:"
   ]
  },
  {
   "cell_type": "markdown",
   "metadata": {},
   "source": [
    "```python\n",
    "import [nome_do_pacote].[submodulo]\n",
    "```"
   ]
  },
  {
   "cell_type": "markdown",
   "metadata": {},
   "source": [
    "Importando o submódulo `plotting`:"
   ]
  },
  {
   "cell_type": "markdown",
   "metadata": {},
   "source": [
    "> ```python\n",
    "> import sympy.plotting #importando o submódulo plotting do pacote sympy\n",
    "> ```"
   ]
  },
  {
   "cell_type": "markdown",
   "metadata": {},
   "source": [
    "Agora podemos plotar a trajetória utilizando a função `plot()` neste submódulo:"
   ]
  },
  {
   "cell_type": "markdown",
   "metadata": {},
   "source": [
    "> ```python\n",
    "> sympy.plotting.plot(f,(x,0,4))\n",
    "> ```\n",
    ">\n",
    "> ![Trajetória do projetil](images/trajetoria_projetil.png)"
   ]
  },
  {
   "cell_type": "markdown",
   "metadata": {},
   "source": [
    "Observe que usamos a expressão `(x,0,4)` para limitarmos a plotagem entre $0$ e $4$. Se tirarmos essa opção ele vai definir o intervalo de $-10$ à $10$."
   ]
  },
  {
   "cell_type": "markdown",
   "metadata": {},
   "source": [
    "> ```python\n",
    "> sympy.plotting.plot(f)\n",
    "> ```\n",
    ">\n",
    "> ![Trajetória do projétil sem limites](images/trajetoria_sem_limites.png)"
   ]
  },
  {
   "cell_type": "markdown",
   "metadata": {},
   "source": [
    "O que é fisicamente impossível, pois estamos considerando que o solo está situado em $x=0$."
   ]
  },
  {
   "cell_type": "markdown",
   "metadata": {},
   "source": [
    "Observe que para utilizar a função `plot()` tivemos que escrever o nome do submódulo inteiro. Para evitar essa tarefa chata podemos recorrer às sintaxes `from` ... `import` ... ou `import` ... `as` ... . Veja o mesmo exemplo acima reescrito:"
   ]
  },
  {
   "cell_type": "code",
   "execution_count": null,
   "metadata": {},
   "outputs": [
    {
     "ename": "SyntaxError",
     "evalue": "invalid syntax (2225603543.py, line 1)",
     "output_type": "error",
     "traceback": [
      "\u001b[1;36m  Cell \u001b[1;32mIn[81], line 1\u001b[1;36m\u001b[0m\n\u001b[1;33m    ```python\u001b[0m\n\u001b[1;37m    ^\u001b[0m\n\u001b[1;31mSyntaxError\u001b[0m\u001b[1;31m:\u001b[0m invalid syntax\n"
     ]
    }
   ],
   "source": [
    "from sympy import symbols\n",
    "import sympy.plotting as plt\n",
    "x = symbols('x')\n",
    "f = -5*x**2 + 20*x\n",
    "plot=plt.plot(f, (x, 0, 4),show=True)"
   ]
  },
  {
   "cell_type": "markdown",
   "metadata": {},
   "source": [
    "A notação `from` ... `import` ... também funciona com submódulos:"
   ]
  },
  {
   "cell_type": "markdown",
   "metadata": {},
   "source": [
    "> ```python\n",
    "> from sympy import symbols\n",
    "> from sympy import plotting\n",
    "> \n",
    "> x = symbols('x')\n",
    "> f = -5*x**2+20*x\n",
    "> plotting.plot(f,(x,0,4))\n",
    "> ```\n",
    ">\n",
    "> ![Trajetória do projetil](images/trajetoria_projetil.png)"
   ]
  },
  {
   "cell_type": "markdown",
   "metadata": {},
   "source": [
    "E ainda, podemos customizar o nosso gráfico adicionando parâmetros na função `plot()`, que estão disponíveis na [documentação](https://docs.sympy.org/latest/modules/plotting.html#plot-class). Alguns destes parâmetros estão disponíveis na tabela abaixo:"
   ]
  },
  {
   "cell_type": "markdown",
   "metadata": {},
   "source": [
    "| Função     |                                                             |\n",
    "| ---------- | ----------------------------------------------------------- |\n",
    "| title      | Adiciona um título                                          |\n",
    "| xlabel     | Adiciona um título para o eixo x                            |\n",
    "| ylabel     | Adiciona um título para o eixo y                            |\n",
    "| xlim       | limita o intervalo do eixo x                                |\n",
    "| ylim       | limita o intervalo do eixo y                                |\n",
    "| line_color | Mudar a cor do gráfico (Utilize o nome das cores em inglês) |"
   ]
  },
  {
   "cell_type": "markdown",
   "metadata": {},
   "source": [
    "> ```python\n",
    "> from sympy import symbols\n",
    "> from sympy.plotting import plot\n",
    "> \n",
    "> x = symbols('x')\n",
    "> f = -5*x**2+20*x\n",
    "> plot(f,(x,0,4),\n",
    ">   ylim=(0,25),\n",
    ">   xlabel=\"Distância (m)\",\n",
    ">   ylabel=\"Altura (m)\",\n",
    ">   title=\"Trajetória de um projetil\",\n",
    ">   line_color = 'Red'\n",
    ">  )\n",
    "> ```\n",
    ">\n",
    "> ![Trajetoria do projetil customizada](images/trajetoria_projetil_customizada.png)"
   ]
  },
  {
   "cell_type": "markdown",
   "metadata": {},
   "source": [
    "Podemos customizar um pouco mais o nosso gráfico utilizando o submódulo `style` do pacote `matplotlib`, através da função `use()`."
   ]
  },
  {
   "cell_type": "markdown",
   "metadata": {},
   "source": [
    "> ```python\n",
    "> from sympy import symbols\n",
    "> from sympy.plotting import plot\n",
    "> from matplotlib import style\n",
    "> style.use('seaborn-whitegrid')\n",
    "> \n",
    "> x = symbols('x')\n",
    "> f = -5*x**2+20*x\n",
    "> plot(f,(x,0,4),\n",
    ">   ylim=(0,25),\n",
    ">   xlim=(0,4.005), #Adicionando um pouco mais de espaço para corrigir a grid\n",
    ">   xlabel=\"Distância (m)\",\n",
    ">   ylabel=\"Altura (m)\",\n",
    ">   title=\"Trajetória de um projetil\"\n",
    ">  )\n",
    "> ```\n",
    ">\n",
    "> ![image-20201015232146855](images/trajetoria_projetil_estilo.png)"
   ]
  },
  {
   "cell_type": "markdown",
   "metadata": {},
   "source": [
    "Para encontrar mais estilos você pode [clicar aqui](https://python-graph-gallery.com/199-matplotlib-style-sheets/), ou através da [documentação](https://matplotlib.org/tutorials/introductory/customizing.html) do pacote."
   ]
  },
  {
   "cell_type": "markdown",
   "metadata": {},
   "source": [
    "> **Observação:** Iremos ver o pacote `matplotlib` com mais detalhes futuramente."
   ]
  },
  {
   "cell_type": "markdown",
   "metadata": {},
   "source": [
    "**Tarefa:** A equação paramétrica de uma elipse é dada por:\n",
    "$$\n",
    "\\begin{cases}\n",
    "\tx(\\theta)=a\\cos(\\theta)\\\\\n",
    "\ty(\\theta)=b\\sin(\\theta)\n",
    "\\end{cases}\n",
    "$$"
   ]
  },
  {
   "cell_type": "markdown",
   "metadata": {},
   "source": [
    "Construa um programa capaz de gerar uma elipse utilizando a função `plot_parametric()`, seguinte as seguintes premissas:\n",
    "\n",
    "- O programa deve ter como entrada $a$ e $b$;\n",
    "\n",
    "- O título do gráfico deve ter os raios $a$ e $b$;\n",
    "- Os limites dos eixos x e y devem ser $\\pm1,2a$ e $\\pm1,2b$, respectivamente;\n",
    "- Use o estilo `classic`;\n",
    "- O gráfico deve ter a cor verde."
   ]
  },
  {
   "cell_type": "markdown",
   "metadata": {},
   "source": [
    "> **Dicas:** \n",
    ">\n",
    "> - Use ctrl+F na documentação para encontrar esta função.\n",
    "> - Todas as funções que você precisa está na Figura 3."
   ]
  },
  {
   "cell_type": "markdown",
   "metadata": {},
   "source": [
    "A saída do seu gráfico deve ser parecida com:\n",
    "\n",
    "![Elipse](images/elipse.png)"
   ]
  },
  {
   "cell_type": "markdown",
   "metadata": {},
   "source": [
    "# Atividade 3: Pacotes externos\n",
    "\n",
    "## Parte 1: Python Package Index (PyPI)\n",
    "\n",
    "Existem outros gerenciadores de pacotes além do `conda`. O **Python Package Index (PyPI)**, ou simplesmente `pip`, é o gerenciador padrão do Python, e muitas vezes só podemos encontrar um pacote neste gerenciador. Você pode encontrar um link do site oficial do `pip` no próprio site do Python. \n",
    "\n",
    "![Como encontrar o pip](images/pip.png)"
   ]
  },
  {
   "cell_type": "markdown",
   "metadata": {},
   "source": [
    "Segundo este mesmo site no momento em que este roteiro está sendo escrito existem **267182 pacotes disponíveis para instalar** através desse gerenciador. "
   ]
  },
  {
   "cell_type": "markdown",
   "metadata": {},
   "source": [
    "Você pode encontrar uma pequena descrição do pacote ao buscar dentro desta plataforma."
   ]
  },
  {
   "cell_type": "markdown",
   "metadata": {},
   "source": [
    "Geralmente os **pacotes têm seu código fonte disponível no [Github](https://github.com/)**, portanto se no site [pypi](https://pypi.org/) não tiver muita informação desse pacote, procure-o no Github, com uma simples pesquisa no Google:\n",
    "\n",
    "![Imagens do Pyperclip](images/pyperclip_google.png)"
   ]
  },
  {
   "cell_type": "markdown",
   "metadata": {},
   "source": [
    "> **Observação:** Inclusive este site está hospedado no Github."
   ]
  },
  {
   "cell_type": "markdown",
   "metadata": {},
   "source": [
    "Outro site muito relevante para encontrar documentação de pacotes em python é o [Read the Docs](https://readthedocs.org/), um site de documentação.\n",
    "\n",
    "![Read the Docs](images/read_the_docs.png)"
   ]
  },
  {
   "cell_type": "markdown",
   "metadata": {},
   "source": [
    "Por exemplo, o própria documentação do JupyterLab está hospedada lá:\n",
    "\n",
    "> [https://jupyterlab.readthedocs.io/en/latest/](https://jupyterlab.readthedocs.io/en/latest/)"
   ]
  },
  {
   "cell_type": "markdown",
   "metadata": {},
   "source": [
    "A sintaxe  de comando do `pip` é muito parecida com a do `conda`:"
   ]
  },
  {
   "cell_type": "markdown",
   "metadata": {},
   "source": [
    "| Comando              | Função                                                   |\n",
    "| -------------------- | -------------------------------------------------------- |\n",
    "| `install [pacote]`   | Instala um pacote                                        |\n",
    "| `--help`             | Ajuda                                                    |\n",
    "| `uninstall [pacote]` | Remove um pacote                                         |\n",
    "| `search [palavra]`   | Procura por um determinado pacote baseado em uma palavra |\n",
    "| update               | Faz o update de todos os pacotes do Anaconda             |"
   ]
  },
  {
   "cell_type": "markdown",
   "metadata": {},
   "source": [
    "Mais comandos podem ser vistos [aqui](https://dzone.com/articles/most-important-quotpipquot-commands-for-a-python-d)."
   ]
  },
  {
   "cell_type": "markdown",
   "metadata": {},
   "source": [
    "### Exemplo 1: Instalando um pacote\n",
    "\n",
    "Para exemplificar o uso `pip` vamos instalar o pacote `pyperclip`:\n",
    "\n",
    "- Github: [https://github.com/asweigart/pyperclip](https://github.com/asweigart/pyperclip)\n",
    "- Read the docs: [https://pyperclip.readthedocs.io/en/latest/](https://pyperclip.readthedocs.io/en/latest/)\n",
    "- Pypi: [https://pypi.org/project/pyperclip/](https://pypi.org/project/pyperclip/)"
   ]
  },
  {
   "cell_type": "markdown",
   "metadata": {},
   "source": [
    "**Tarefa 1:** Instale o pacote `pyperclip` (Entre no Pypi e copie o link"
   ]
  },
  {
   "cell_type": "markdown",
   "metadata": {},
   "source": [
    "### Exemplo 2: Exemplo de uso de um módulo\n",
    "\n",
    "O módulo `pyperclip` é usado para trabalhar com os comandos copiar (Ctrl+C) e colar (Ctrl+V) do computador. Nele, há duas funções principais:"
   ]
  },
  {
   "cell_type": "markdown",
   "metadata": {},
   "source": [
    "| Função  | Comando          |\n",
    "| ------- | ---------------- |\n",
    "| copy()  | Copia o conteúdo |\n",
    "| paste() | Cola o conteúdo  |"
   ]
  },
  {
   "cell_type": "markdown",
   "metadata": {},
   "source": [
    "```mermaid\n",
    "classDiagram\n",
    "\tclass pyperclip{\n",
    "\t\tcopy()\n",
    "\t\tpaste()\n",
    "\t}\n",
    "\n",
    "```"
   ]
  },
  {
   "cell_type": "markdown",
   "metadata": {},
   "source": [
    "> ```python\n",
    "> import pyperclip as ppc\n",
    "> \n",
    "> item1 = input(\"Digite o nome do item 1: \")\n",
    "> item2 = input(\"Digite o nome do item 2: \")\n",
    "> item3 = input(\"Digite o nome do item 3: \")\n",
    "> qt1 = int(input(\"Digite a quantidade do item 1: \"))\n",
    "> qt2 = int(input(\"Digite a quantidade do item 2: \"))\n",
    "> qt3 = int(input(\"Digite a quantidade do item 3: \"))\n",
    "> i1 = \"Item 1: \" + item1\n",
    "> i2 = \"Item 2: \" + item2\n",
    "> i3 = \"Item 3: \" + item3\n",
    "> \n",
    "> \n",
    "> print(\"{:_^50}\".format('Lista de estoque'))\n",
    "> print(\"{:-<45}{}\".format(\"Item\",\"Quant\"))\n",
    "> print(\"{item:-<47}{quant:03d}\".format(item=i1,quant=qt1))\n",
    "> print(\"{item:-<47}{quant:03d}\".format(item=i2,quant=qt2))\n",
    "> print(\"{item:-<47}{quant:03d}\".format(item=i3,quant=qt3))\n",
    "> \n",
    "> lista = \"{:_^50}\\n\".format('Lista de estoque')  + \"{:-<45}{}\\n\".format(\"Item\",\"Quant\") + \"{item:-<47}{quant:03d}\\n\".format(item=i1,quant=qt1)+\"{item:-<47}{quant:03d}\\n\".format(item=i2,quant=qt2) + \"{item:-<47}{quant:03d}\\n\".format(item=i3,quant=qt3)\n",
    "> \n",
    "> ppc.copy(lista)\n",
    "> ```\n",
    ">\n",
    "> Digite o nome do item 1:  Arroz  \n",
    "> Digite o nome do item 2:  Feijão  \n",
    "> Digite o nome do item 3:  Leite  \n",
    "> Digite a quantidade do item 1:  4  \n",
    "> Digite a quantidade do item 2:  1  \n",
    "> Digite a quantidade do item 3:  6  \n",
    "> _________________Lista de estoque_________________  \n",
    "> Item--------------------------------------------------------Quant  \n",
    "> Item 1: Arroz----------------------------------004  \n",
    "> Item 2: Feijão---------------------------------001  \n",
    "> Item 3: Leite----------------------------------006"
   ]
  },
  {
   "cell_type": "markdown",
   "metadata": {},
   "source": [
    "**Tarefa:** Substitua o último `print()` pelo seu `Ctrl+C` como saída de dados do seguinte código. Cole o resultado como uma célula Raw (OBS: Não é Markdown)."
   ]
  },
  {
   "cell_type": "markdown",
   "metadata": {},
   "source": [
    "> **Dica:** No modo de comando utilize a tecla `R`."
   ]
  },
  {
   "cell_type": "markdown",
   "metadata": {},
   "source": [
    "```python\n",
    "print(\"Este programa resolve uma equação de segundo grau do tipo ax²+bx+c=0\")\n",
    "a=int(input(\"Digite o valor de a: \"))\n",
    "b=int(input(\"Digite o valor de b: \"))\n",
    "c=int(input(\"Digite o valor de c: \"))\n",
    "delta=b**2-4*a*c\n",
    "x1=(-b+delta**(1/2))/(2*a)\n",
    "x2=(-b-delta**(1/2))/(2*a)\n",
    "print(\"As soluções da equação {:f}x²+{:f}x+{:f}=0 são: x1={:g} e x2={:g}\".format(a,b,c,x1,x2))\n",
    "```"
   ]
  },
  {
   "cell_type": "markdown",
   "metadata": {},
   "source": [
    "## Parte 2: Exemplos de módulos e pacotes\n",
    "\n",
    "No exemplo anterior utilizamos o pacote `pyperclip`, ele é um pacote útil para quem quer trabalhar com programas de interface que precisam de alguma forma trabalhar com a área de transferência.\n",
    "\n",
    "Na área de Engenharia Elétrica existem uma infinidade de pacotes úteis que podem ser instalados através do `pip` (ou `conda`) ou seguindo as instruções no `github`."
   ]
  },
  {
   "cell_type": "markdown",
   "metadata": {},
   "source": [
    "> **Observação:** Estou dando dicas de pacotes da Engenharia Elétrica, porque é a área que eu trabalho."
   ]
  },
  {
   "cell_type": "markdown",
   "metadata": {},
   "source": [
    "Agora vamos mostrar dois exemplos."
   ]
  },
  {
   "cell_type": "markdown",
   "metadata": {},
   "source": [
    "### Exemplo 1: Python-control\n",
    "\n",
    "**P**ython **C**ontrol **S**ystems **L**ibrary\n",
    "\n",
    "**Área:** Engenharia Elétrica / Engenharia de controle e automação\n",
    "\n",
    "**Descrição:** Permite a análise e operação de sistemas de controle.\n",
    "\n",
    "**Documentação:** [http://python-control.readthedocs.org/](http://python-control.readthedocs.org/)\n",
    "\n",
    "**Repositório (Github):** [https://github.com/python-control/python-control](https://github.com/python-control/python-control)\n",
    "\n",
    "**Instalação (PyPI):** [https://pypi.org/project/control/](https://pypi.org/project/control/)"
   ]
  },
  {
   "cell_type": "markdown",
   "metadata": {},
   "source": [
    "```bash\n",
    "conda install -c conda-forge control slycot #Método recomendado\n",
    "```"
   ]
  },
  {
   "cell_type": "markdown",
   "metadata": {},
   "source": [
    "ou\n",
    "\n",
    "```bash\n",
    "pip install slycot   # optional; see below\n",
    "pip install control\n",
    "```"
   ]
  },
  {
   "cell_type": "markdown",
   "metadata": {},
   "source": [
    "**Exemplo relevante:**\n",
    "\n",
    "[https://github.com/python-control/python-control/blob/master/examples/bode-and-nyquist-plots.ipynb](https://github.com/python-control/python-control/blob/master/examples/bode-and-nyquist-plots.ipynb)\n",
    "\n",
    "**Foto relevante:**\n",
    "\n",
    "![Controle Linear](images/control.png)"
   ]
  },
  {
   "cell_type": "markdown",
   "metadata": {},
   "source": [
    "### Exemplo 2: Lcapy\n",
    "\n",
    "**L**inear **C**ircuit **A**nalysis\n",
    "\n",
    "**Área:** Engenharia Elétrica\n",
    "\n",
    "**Descrição:** \n",
    "\n",
    "- Lcapy é um pacote para análise de circuitos lineares. \n",
    "- Usa o SymPy para a análise simbólica.\n",
    "- Permite o desenho de alguns esquemáticos utilizando código Python.\n",
    "\n",
    "**Documentação:** [http://lcapy.elec.canterbury.ac.nz/](http://lcapy.elec.canterbury.ac.nz/)\n",
    "\n",
    "**Repositório (Github):** [https://github.com/mph-/lcapy](https://github.com/mph-/lcapy)\n",
    "\n",
    "**Instalação (PyPI):** [https://pypi.org/project/lcapy/](https://pypi.org/project/lcapy/)"
   ]
  },
  {
   "cell_type": "markdown",
   "metadata": {},
   "source": [
    "```\n",
    "pip install lcapy\n",
    "```"
   ]
  },
  {
   "cell_type": "markdown",
   "metadata": {},
   "source": [
    "**Exemplo relevante:** \n",
    "\n",
    "[https://github.com/mph-/lcapy/blob/master/doc/examples/notebooks/superposition1.ipynb](https://github.com/mph-/lcapy/blob/master/doc/examples/notebooks/superposition1.ipynb)"
   ]
  },
  {
   "cell_type": "markdown",
   "metadata": {},
   "source": [
    "**Foto relevante:**\n",
    "\n",
    "![Exemplo do lcapy](images/lcapy.png)"
   ]
  },
  {
   "cell_type": "markdown",
   "metadata": {},
   "source": [
    "### Exemplo 3: Outros pacotes\n",
    "\n",
    "Além dos pacotes citados nos Exemplos 1 e 2, existem muitos outros. Segue o nome de alguns:\n",
    "\n",
    "- [pysimCoder](https://www.youtube.com/watch?v=FZcxfEIOzWs) $\\rightarrow$ Editor parecido com o Simulink - Apenas Linux (Experimental)\n",
    "- [PySpice]( https://pyspice.fabrice-salvaire.fr/) $\\rightarrow$ Simulador de circuitos\n",
    "- [SchemDraw](https://schemdraw.readthedocs.io/en/latest/) $\\rightarrow$ Desenho de circuitos\n",
    "- [py-dss-interface](https://pypi.org/project/py-dss-interface/) $\\rightarrow$ Interface do Python com o OpenDSS (Não precisa instalar o OpenDSS) - Apenas Windows"
   ]
  },
  {
   "cell_type": "markdown",
   "metadata": {},
   "source": [
    "> **Observação:** Tomem cuidado ao instalar pacotes desatualizados, pois podem quebrar o seu ambiente Python. Sempre olhem as dependências antes de instalar o pacote."
   ]
  },
  {
   "cell_type": "markdown",
   "metadata": {},
   "source": [
    "**Tarefa:** Faça um resumo do Pacote `graphviz`. Siga o formato dos exemplos 1 e 2.\n",
    "\n",
    "Para adicionar a foto utilize a sintaxe de foto do Markdown:"
   ]
  },
  {
   "cell_type": "markdown",
   "metadata": {},
   "source": [
    "```markdown\n",
    "![Nome da foto](Caminho relativo da foto)\n",
    "<!-- Exemplo -->\n",
    "![Foto do blockdiag](imgs/blockdiag.png)\n",
    "```"
   ]
  },
  {
   "cell_type": "markdown",
   "metadata": {},
   "source": [
    "Para adicionar um link utilize a seguinte sintaxe:"
   ]
  },
  {
   "cell_type": "markdown",
   "metadata": {},
   "source": [
    "```markdown\n",
    "[Nome do link](Caminho relativo da foto)\n",
    "<!-- Exemplo -->\n",
    "[Nome do link](http://www.blackdiag.com)\n",
    "```"
   ]
  },
  {
   "cell_type": "markdown",
   "metadata": {},
   "source": [
    "Se o link for uma URL basta copiar a URL."
   ]
  },
  {
   "cell_type": "markdown",
   "metadata": {},
   "source": [
    "# Atividade 4: Para casa\n",
    "\n",
    "### Exercício 1: Média da turma\n",
    "\n",
    "Crie um código que receba as notas do bimestre de 4 alunos conforme a tabela abaixo, compute a média e arredonde pra cima. Você deverá usar o módulo Math e consultar a documentação para entender a função que arredonda e usa-la no seu programa. O código deverá imprimir na tela a média final de cada um e o quanto cada aluno ganhou de nota no arredondamento.\n",
    "\n",
    "| Aluno     |  N1  |  N2  |  N3  |  N4  |\n",
    "| --------- | :--: | :--: | :--: | :--: |\n",
    "| Pedrinho  | 7.00 | 8.75 | 8.3  | 5.6  |\n",
    "| Joãozinho | 7.00 | 7.00 | 8.1  | 9.00 |\n",
    "| Juninho   | 6.40 | 7.50 | 8.45 | 9.00 |"
   ]
  },
  {
   "cell_type": "markdown",
   "metadata": {},
   "source": [
    "### Exercício 2: Plotando um gráfico\n",
    "\n",
    "Crie um programa capaz de plotar uma onda seinodal no formato:\n",
    "$$\n",
    "y(t)=Acos(\\omega t+\\delta)\n",
    "$$\n",
    "onde $A$ é a amplitude, $\\delta$ é a fase da onda e $\\omega=2\\pi f$ é a frequência da onda.\n",
    "\n",
    "O usuário deve entrar com $A$, $\\delta$ e $f$.\n",
    "\n",
    "Considere as seguintes premissas:\n",
    "\n",
    "- O título do gráfico deve ter todos os parâmetros da onda;\n",
    "- Os limites do eixo y deve ser $\\pm1,2A$;\n",
    "- O limite do eixo x deve ser de $2$ segundos;\n",
    "- Use o estilo `ggplot`;\n",
    "- O gráfico deve ter a cor preta;\n",
    "- A variável $t$ deve ser simbólica;\n",
    "- Para a plotagem utilize função `plot()` do pacote `sympy`."
   ]
  },
  {
   "cell_type": "markdown",
   "metadata": {},
   "source": [
    "Veja o exemplo de saída:"
   ]
  },
  {
   "cell_type": "markdown",
   "metadata": {},
   "source": [
    "![Exemplo de saída](images/saida-exemplo.png)"
   ]
  },
  {
   "cell_type": "markdown",
   "metadata": {},
   "source": [
    "### Exercício 3: Descobrindo pacotes\n",
    "\n",
    "Pesquise na internet um pacote de Python que seja útil na sua área e faça um resumo desse pacote. Siga o formato dos exemplos da Atividade 3, parte 2."
   ]
  }
 ],
 "metadata": {
  "kernelspec": {
   "display_name": "Python 3",
   "language": "python",
   "name": "python3"
  },
  "language_info": {
   "codemirror_mode": {
    "name": "ipython",
    "version": 3
   },
   "file_extension": ".py",
   "mimetype": "text/x-python",
   "name": "python",
   "nbconvert_exporter": "python",
   "pygments_lexer": "ipython3",
   "version": "3.12.7"
  }
 },
 "nbformat": 4,
 "nbformat_minor": 2
}
