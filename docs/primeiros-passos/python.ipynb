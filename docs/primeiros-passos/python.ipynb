{
 "cells": [
  {
   "cell_type": "markdown",
   "metadata": {},
   "source": [
    "# Introdução ao Python"
   ]
  },
  {
   "cell_type": "markdown",
   "metadata": {},
   "source": [
    "## Parte 1: Comentários"
   ]
  },
  {
   "cell_type": "markdown",
   "metadata": {},
   "source": [
    "Digite em seu notebook o seguinte código:\n",
    "\n",
    "```python\n",
    "# aqui vamos refazer o cabeçalho utilizando variáveis\n",
    "# aliás, você sabe quem sou eu?\n",
    "\n",
    "'''\n",
    "Eu sou um comentário em Python.\n",
    "No meu caso, sou de várias linhas.\n",
    "Mas o meu colega ali em cima, é de apenas uma.\n",
    "Sacou? :D\n",
    "'''\n",
    "\n",
    "titulo_1 = \"Aula 1 - Primeiros passos.\"\n",
    "titulo_2 = \"Data: 11 de setembro de 2020.\"\n",
    "titulo_3 = \"E-mail: senseidopython@gmail.com\"\n",
    "titulo_4 = \"Telefone: (68) 9 9250-6776\"\n",
    "comentario = # \"eu sou um comentario e nao posso ser executado.\"\n",
    "```"
   ]
  },
  {
   "cell_type": "code",
   "execution_count": 47,
   "metadata": {},
   "outputs": [],
   "source": [
    "# Escreva o código aqui"
   ]
  },
  {
   "cell_type": "markdown",
   "metadata": {},
   "source": [
    "Execute o código. Você pode ir até \"Run\" ou use o atalho `Ctrl + Enter`.\n",
    "\n",
    "Agora use sua imaginação e crie o seu próprio cabeçalho em utilizando comentários.\n",
    "\n",
    "> **Dica:**\n",
    ">\n",
    "> Use o comentário multi-linha para criar o seu cabeçalho."
   ]
  },
  {
   "cell_type": "markdown",
   "metadata": {},
   "source": [
    "## Parte 2: Operadores"
   ]
  },
  {
   "cell_type": "markdown",
   "metadata": {},
   "source": [
    "Em Python, podemos escrever expressões matemáticas como em qualquer outra calculadora (Como o MatLab, por exemplo). Expressões consistem de valores, como `2` e operadores, como o `+`.\n",
    "\n",
    "Escreveremos `2+2` na célula abaixo, e vemos que a expressão irá assumir o valor final de `4`. \n"
   ]
  },
  {
   "cell_type": "code",
   "execution_count": 48,
   "metadata": {},
   "outputs": [
    {
     "data": {
      "text/plain": [
       "4"
      ]
     },
     "execution_count": 48,
     "metadata": {},
     "output_type": "execute_result"
    }
   ],
   "source": [
    "2+2"
   ]
  },
  {
   "cell_type": "markdown",
   "metadata": {},
   "source": [
    "\n",
    "Podemos usar diversos operadores para computar diversas expressões como quisermos, como listado na tabela abaixo.\n",
    "\n",
    "| Operador |    Operação     |  Exemplo  | Resulta em |\n",
    "| :------: | :-------------: | :-------: | :--------: |\n",
    "|   `**`   |    Expoente     | `2 ** 3`  |    `8`     |\n",
    "|   `%`    |      Resto      | `22 % 8`  |    `6`     |\n",
    "|   `//`   | Divisão inteira | `22 // 8` |    `2`     |\n",
    "|   `/`    |     Divisão     | `22 / 8`  |   `2.75`   |\n",
    "|   `*`    |  Multiplicação  |  `3 * 5`  |    `15`    |\n",
    "|   `-`    |    Subtração    |  `5 - 2`  |    `3`     |\n",
    "|   `+`    |     Adição      |  `2 + 2`  |    `4`     |\n",
    "\n",
    "A ordem dos operadores da matemática do Python é similar à usada na matemática comum, ou seja, primeiro as potências (`**`), depois multiplicações e divisões (`*` e `/`) e por fim as somas e subtrações (`+` e `-`), da esquerda para a direita. Podemos também usar parênteses. Agora, vamos tentar calcular o valor de algumas operações para exercitar o que foi aprendido. \n",
    "\n",
    "A seguir execute as seguintes operações:"
   ]
  },
  {
   "cell_type": "markdown",
   "metadata": {},
   "source": [
    "```python\n",
    "2+3*6\n",
    "```"
   ]
  },
  {
   "cell_type": "code",
   "execution_count": 49,
   "metadata": {},
   "outputs": [],
   "source": [
    "# Escreva a resposta aqui"
   ]
  },
  {
   "cell_type": "markdown",
   "metadata": {},
   "source": [
    "```python\n",
    "2**8\n",
    "```"
   ]
  },
  {
   "cell_type": "code",
   "execution_count": 50,
   "metadata": {},
   "outputs": [],
   "source": [
    "# Escreva a resposta aqui"
   ]
  },
  {
   "cell_type": "markdown",
   "metadata": {},
   "source": [
    "```python\n",
    "23/7\n",
    "```"
   ]
  },
  {
   "cell_type": "code",
   "execution_count": 51,
   "metadata": {},
   "outputs": [],
   "source": [
    "# Escreva a resposta aqui"
   ]
  },
  {
   "cell_type": "markdown",
   "metadata": {},
   "source": [
    "```python\n",
    "23%7\n",
    "```"
   ]
  },
  {
   "cell_type": "code",
   "execution_count": 52,
   "metadata": {},
   "outputs": [],
   "source": [
    "# Escreva a resposta aqui"
   ]
  },
  {
   "cell_type": "markdown",
   "metadata": {},
   "source": [
    "```python\n",
    "(5-1)*((7+3)/(3-1))\n",
    "```"
   ]
  },
  {
   "cell_type": "code",
   "execution_count": 53,
   "metadata": {},
   "outputs": [
    {
     "data": {
      "text/plain": [
       "20.0"
      ]
     },
     "execution_count": 53,
     "metadata": {},
     "output_type": "execute_result"
    }
   ],
   "source": [
    "(5-1)*((7+3)/(3-1))"
   ]
  },
  {
   "cell_type": "markdown",
   "metadata": {},
   "source": [
    "\n",
    "Agora tente calcular as seguintes operações:\n",
    "\n",
    "- $\\frac{8}{2}\\times (2+2)$\n",
    "- $(2+3)\\times 3^3$\n",
    "- $7+7\\div 7 + 7 \\times 7 -7$\n",
    "- $\\sqrt{9^2-4\\times3}$\n",
    "\n",
    "> **Dica:** Use $x^{0,5}$ para calcular $\\sqrt{x}$."
   ]
  },
  {
   "cell_type": "markdown",
   "metadata": {},
   "source": [
    "O python não reconhece expressões que não fazem sentido, como a expressão abaixo. Tente rodar a seguinte célula. Por exemplo, tente rodar o código abaixo:"
   ]
  },
  {
   "cell_type": "markdown",
   "metadata": {},
   "source": [
    "```python\n",
    "5+\n",
    "```"
   ]
  },
  {
   "cell_type": "code",
   "execution_count": 54,
   "metadata": {},
   "outputs": [],
   "source": [
    "# Escreva a resposta aqui"
   ]
  },
  {
   "cell_type": "markdown",
   "metadata": {},
   "source": [
    "## Parte 3: Tipos de dados"
   ]
  },
  {
   "cell_type": "markdown",
   "metadata": {},
   "source": [
    "\n",
    "Existem diversos tipos de dados em Python que se comportam de diferente formas em expressões, os três tipos mais básicos são:\n",
    "\n",
    "|    Data type    |                          Exemplo                           |\n",
    "| :-------------: | :--------------------------------------------------------: |\n",
    "|    Inteiros     |          `-2`, `-1`, `0`, `1`, `2`, `3`, `4`, `5`          |\n",
    "| Ponto flutuante |    `-1.25`, `-1.0`, `-0.5`, `0.0`, `0.5`, `1.0`, `1.25`    |\n",
    "|     Strings     | `'a'`, `'aa'`, `'aaa'`, `'Oi!'`, `'curso de python'`, `''` |\n",
    "\n",
    "Inteiros (`int`) se refere aos números inteiros, Ponto flutuante (`float`) se refere a números com casa decimal e strings são textos.\n",
    "\n",
    "Note que as strings tem sempre aspas simples em suas extremidades como `'Isso é uma string'`\n",
    "\n",
    "Note, que você pode somar dois inteiros, como `3+5`, mas não pode somar um inteiro e uma string, como na célula abaixo.\n"
   ]
  },
  {
   "cell_type": "markdown",
   "metadata": {},
   "source": [
    "```python\n",
    "# tente rodar a seguinte celula\n",
    "5 +'abacate'\n",
    "```"
   ]
  },
  {
   "cell_type": "code",
   "execution_count": 55,
   "metadata": {},
   "outputs": [],
   "source": [
    "# Escreva a resposta aqui"
   ]
  },
  {
   "cell_type": "code",
   "execution_count": 56,
   "metadata": {},
   "outputs": [
    {
     "ename": "TypeError",
     "evalue": "unsupported operand type(s) for +: 'int' and 'str'",
     "output_type": "error",
     "traceback": [
      "\u001b[1;31m---------------------------------------------------------------------------\u001b[0m",
      "\u001b[1;31mTypeError\u001b[0m                                 Traceback (most recent call last)",
      "Cell \u001b[1;32mIn[56], line 1\u001b[0m\n\u001b[1;32m----> 1\u001b[0m \u001b[38;5;241m5\u001b[39m\u001b[38;5;241m+\u001b[39m\u001b[38;5;124m'\u001b[39m\u001b[38;5;124mabacate\u001b[39m\u001b[38;5;124m'\u001b[39m\n",
      "\u001b[1;31mTypeError\u001b[0m: unsupported operand type(s) for +: 'int' and 'str'"
     ]
    }
   ],
   "source": [
    "5+'abacate'"
   ]
  },
  {
   "cell_type": "markdown",
   "metadata": {},
   "source": [
    "No entanto, podemos utilizar os operadores de `+`e de `*` para concatenar strings, por exemplo."
   ]
  },
  {
   "cell_type": "code",
   "execution_count": null,
   "metadata": {},
   "outputs": [
    {
     "data": {
      "text/plain": [
       "'abacaxi abacaxi abacaxi abacaxi abacaxi '"
      ]
     },
     "execution_count": 34,
     "metadata": {},
     "output_type": "execute_result"
    }
   ],
   "source": [
    "'abacaxi ' *5"
   ]
  },
  {
   "cell_type": "markdown",
   "metadata": {},
   "source": [
    "## Parte 4: Variáveis"
   ]
  },
  {
   "cell_type": "markdown",
   "metadata": {},
   "source": [
    "Em Python, podemos armazenar nossos dados em variáveis. Variáveis funcionam como caixas em que podemos guardar o que quisermos utilizando o operador `=`. Vamos praticar escrevendo os exemplos abaixo:\n"
   ]
  },
  {
   "cell_type": "code",
   "execution_count": null,
   "metadata": {},
   "outputs": [
    {
     "name": "stdout",
     "output_type": "stream",
     "text": [
      "42\n"
     ]
    }
   ],
   "source": [
    "a=40\n",
    "b=2\n",
    "resposta = a + b\n",
    "print(resposta)"
   ]
  },
  {
   "cell_type": "code",
   "execution_count": null,
   "metadata": {},
   "outputs": [
    {
     "name": "stdout",
     "output_type": "stream",
     "text": [
      "olá Mundo\n"
     ]
    }
   ],
   "source": [
    "texto_1='olá '\n",
    "texto_2='Mundo'\n",
    "texto_final = texto_1 +texto_2\n",
    "print(texto_final)"
   ]
  },
  {
   "cell_type": "markdown",
   "metadata": {},
   "source": [
    "\n",
    "Os nomes de variáveis só podem ser uma palavra, com números e underline `_`. Nomes de variáveis não podem começar com números. Tente os seguintes exemplos abaixo:"
   ]
  },
  {
   "cell_type": "code",
   "execution_count": null,
   "metadata": {},
   "outputs": [
    {
     "ename": "SyntaxError",
     "evalue": "invalid syntax (1328260620.py, line 1)",
     "output_type": "error",
     "traceback": [
      "\u001b[1;36m  Cell \u001b[1;32mIn[42], line 1\u001b[1;36m\u001b[0m\n\u001b[1;33m    primeria variavel =1\u001b[0m\n\u001b[1;37m             ^\u001b[0m\n\u001b[1;31mSyntaxError\u001b[0m\u001b[1;31m:\u001b[0m invalid syntax\n"
     ]
    }
   ],
   "source": [
    "primeria variavel =1"
   ]
  },
  {
   "cell_type": "code",
   "execution_count": null,
   "metadata": {},
   "outputs": [
    {
     "ename": "SyntaxError",
     "evalue": "invalid decimal literal (3738881300.py, line 1)",
     "output_type": "error",
     "traceback": [
      "\u001b[1;36m  Cell \u001b[1;32mIn[44], line 1\u001b[1;36m\u001b[0m\n\u001b[1;33m    1a_variavel=1\u001b[0m\n\u001b[1;37m    ^\u001b[0m\n\u001b[1;31mSyntaxError\u001b[0m\u001b[1;31m:\u001b[0m invalid decimal literal\n"
     ]
    }
   ],
   "source": [
    "1a_variavel=1"
   ]
  },
  {
   "cell_type": "code",
   "execution_count": null,
   "metadata": {},
   "outputs": [],
   "source": [
    "Primeira_variavel=1"
   ]
  },
  {
   "cell_type": "markdown",
   "metadata": {},
   "source": [
    "## Parte 5: Entrada & saída"
   ]
  },
  {
   "cell_type": "markdown",
   "metadata": {},
   "source": [
    "\n",
    "**print()**:\n",
    "\n",
    "A função `print()` tem o objetivo de imprimir na tela o valor que estiver sendo passado, como você pôde perceber no exemplo anterior. Escreva o código abaixo e execute."
   ]
  },
  {
   "cell_type": "code",
   "execution_count": null,
   "metadata": {},
   "outputs": [
    {
     "name": "stdout",
     "output_type": "stream",
     "text": [
      "este é um texto comum\n",
      "300\n"
     ]
    }
   ],
   "source": [
    "print('este é um texto comum')\n",
    "var1=300\n",
    "print(var1)"
   ]
  },
  {
   "cell_type": "markdown",
   "metadata": {},
   "source": [
    "**input()**:\n",
    "\n",
    "A função `input()` tem o objetivo de pedir ao usuário algum dado para ser manualmente entrado no terminal. Agora siga o exemplo e execute\n"
   ]
  },
  {
   "cell_type": "code",
   "execution_count": 46,
   "metadata": {},
   "outputs": [
    {
     "name": "stdout",
     "output_type": "stream",
     "text": [
      "seu texto é \n"
     ]
    }
   ],
   "source": [
    "texto=input('Digite um texto:')\n",
    "print('seu texto é ' + texto)"
   ]
  },
  {
   "cell_type": "markdown",
   "metadata": {},
   "source": [
    "\n",
    "Note que os dados coletados pela função `input()` são sempre do tipo `string`. Veremos no próximo exemplo como transformar esses dados."
   ]
  },
  {
   "cell_type": "markdown",
   "metadata": {},
   "source": [
    "## Parte 6: Transformação de dados"
   ]
  },
  {
   "cell_type": "markdown",
   "metadata": {},
   "source": [
    "\n",
    "Algumas vezes será necessário converter de um tipo de dado para outro para podemos operar. A função `Input()`, por exemplo, sempre resulta em uma `string`, mas podemos usar outras funções para podermos transformar esse dado em um número. Essas funções são `str()`, `int()` e `float()`. Escreva o código abaixo, execute e veja o que acontece:"
   ]
  },
  {
   "cell_type": "code",
   "execution_count": null,
   "metadata": {},
   "outputs": [],
   "source": [
    "texto=input('Digite um numero') #entra o numero\n",
    "numero=float(texto) #transforma o texto em numero\n",
    "resultado=numero+10 #soma 10 ao numero\n",
    "print('seu resultado é '+ str(resultado)) #mostra o resultado em forma de string"
   ]
  },
  {
   "cell_type": "markdown",
   "metadata": {},
   "source": [
    "\n",
    "## Parte 7: Atribuição múltipla"
   ]
  },
  {
   "cell_type": "markdown",
   "metadata": {},
   "source": [
    "\n",
    "No Python é possível atribuir vários valores de variáveis numa mesma expressão. Desta forma, teremos em ambos os lados do operador um conjunto de variáveis e de valores. Para praticar execute o código abaixo:"
   ]
  },
  {
   "cell_type": "code",
   "execution_count": null,
   "metadata": {},
   "outputs": [],
   "source": [
    "a,b=2,4\n",
    "print(\"o valor de a é \"+ str(a) + \"o valor de b é \" + str(b))"
   ]
  },
  {
   "cell_type": "markdown",
   "metadata": {},
   "source": [
    "Agora, utilizando a mesma lógica crie um código capaz de atribuir três variáveis $a=6$, $b=7$ e $c=10$."
   ]
  },
  {
   "cell_type": "code",
   "execution_count": null,
   "metadata": {},
   "outputs": [],
   "source": [
    "# Prática 4: Para casa\n",
    "\n",
    "## Parte 1: Complete a frase"
   ]
  },
  {
   "cell_type": "markdown",
   "metadata": {},
   "source": [
    "Crie pequeno programa (uma ou mais células) capaz de produzir a seguinte frase:\n",
    "\n",
    "> \"Olá, meu nome é \\_\\_\\_\\_\\_\\_, tenho \\_\\_\\_ anos, e minha idade daqui a 5 anos será \\_\\_\\_.\"\n",
    "\n",
    "Tente construir a seguinte frase, utilizando `input()`, `print()` e conversão de dados.\n",
    "\n",
    "Além disso, utilize o Markdown para desenvolver um pequeno enunciado para o programa.\n",
    "\n",
    "### Parte 2: Pergunta teórica\n",
    "\n",
    "Por que a expressão abaixo causa erro? \n",
    "\n",
    "```python\n",
    "print('Eu saí de casa ' + 10 + ' vezes na semana passada')\n",
    "```\n",
    "\n",
    "> **Dica:** Responda esta pergunta utilizando o modo texto (Markdown).\n",
    "\n",
    "### Parte 3: Fórmula de báskara\n",
    "\n",
    "Crie pequeno programa (uma célula) capaz de resolver qualquer equação de segundo:\n",
    "$$\n",
    "ax^2+bx+c=0\n",
    "$$\n",
    "O usuário deve entrar com os parâmetros $a$, $b$ e $c$. Utilize a função input para capturar os dados de entrada.\n",
    "\n",
    "> **Dica:**\n",
    ">\n",
    "> Para resolver a equação de segundo grau você pode utilizar a fórmula de Baskara:  \n",
    ">  \n",
    "> $${x_1,x_2}=\\frac{-b\\pm\\sqrt{\\Delta}}{2a}$$\n",
    ">\n",
    "> $$\\Delta=b^2-4ac$$\n",
    "> \n",
    "\n",
    "Está equação retorna duas soluções, $x_1$ e $x_2$. Você deve usar a função `print()` para imprimir o resultado das variáveis $x_1$ e $x_2$ na tela na tela. \n",
    "\n",
    "### Parte 4: Trocando valores de duas variáveis\n",
    "\n",
    "Crie uma pequeno programa capaz de trocar o valor entre duas variáveis sem a necessidade de criar uma terceira variável. \n",
    "\n",
    ">  **Dica:** Utilize o conceito de atribuição múltipla para fazer a troca das variáveis. "
   ]
  },
  {
   "cell_type": "markdown",
   "metadata": {},
   "source": []
  }
 ],
 "metadata": {
  "kernelspec": {
   "display_name": ".venv",
   "language": "python",
   "name": "python3"
  },
  "language_info": {
   "codemirror_mode": {
    "name": "ipython",
    "version": 3
   },
   "file_extension": ".py",
   "mimetype": "text/x-python",
   "name": "python",
   "nbconvert_exporter": "python",
   "pygments_lexer": "ipython3",
   "version": "3.11.5"
  }
 },
 "nbformat": 4,
 "nbformat_minor": 2
}
