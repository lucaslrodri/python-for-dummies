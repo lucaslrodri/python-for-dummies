{
 "cells": [
  {
   "cell_type": "markdown",
   "metadata": {},
   "source": [
    "# A interface do Jupyter"
   ]
  },
  {
   "cell_type": "markdown",
   "metadata": {},
   "source": [
    "Ao abrir o programa pela primeira vez você irá encontrar uma interface parecida com essa:\n",
    "\n",
    "![Interface Jupyter](https://github.com/lucaslrodri/python-for-dummies/blob/main/docs/primeiros-passos/inicio.png?raw=true)\n",
    "\n",
    "Ao clicar em \"Open File\", você poderá abrir os notebooks salvos no seu pc. Você poderá criar um notebook clicando em \"New Notebook\"."
   ]
  },
  {
   "cell_type": "markdown",
   "metadata": {},
   "source": [
    "## Trocando para o tema escuro"
   ]
  },
  {
   "cell_type": "markdown",
   "metadata": {},
   "source": [
    "Caso não se sinta confortável com o tema claro que vem por padrão no JupyterLab é possível trocar clicando no menu superior em `Settings/JupyterLab Theme/JupyterLab Dark`. Caso queira mudar o tema da barra de rolagem deixe a opção `Theme Scrollbars` ativa. \n",
    "\n",
    "![Tema Escuro](https://github.com/cursopythonUFAC/cursopythonUFAC.github.io/blob/master/notebooks/cap1/images/tema-escuro.png?raw=true)"
   ]
  },
  {
   "cell_type": "markdown",
   "metadata": {},
   "source": [
    "## Menu de ajuda\n",
    "\n",
    "Dentro do próprio Notebook é possível acessar a documentação oficial de muitas das \"tecnologias\" utilizada na confecção dos Notebooks. Isto é bem prático, pois evita aquela pesquisa no Google que nem sempre trás informações relevantes. Por exemplo, clique em `Help>Markdown Reference` e irá abrir uma aba com as principais referências da linguagem. E ainda, há um pequeno tutorial que você pode fazer mais tarde, em casa.\n",
    "\n",
    "![Menu de ajuda do Jupyter](https://github.com/cursopythonUFAC/cursopythonUFAC.github.io/blob/master/notebooks/cap1/images/jupyter_ajuda.png?raw=true)\n",
    "\n",
    "Lembre-se de **sempre visitar este menu** antes de fazer aquela pesquisa no google."
   ]
  },
  {
   "cell_type": "markdown",
   "metadata": {},
   "source": [
    "## Criação e Execução de Células"
   ]
  },
  {
   "cell_type": "markdown",
   "metadata": {},
   "source": [
    "\n",
    "Um Notebook é formado por uma ou mais células. Uma célula é um espaço aonde é possível escrever um trecho de código (Python) ou texto (código Markdown).  Algumas ações relacionadas ao notebook e às células podem ser executadas no painel superior da aba. A figura abaixo mostra alguns atalhos do painel superior.\n",
    "\n",
    "![Exemplo de células](https://github.com/cursopythonUFAC/cursopythonUFAC.github.io/blob/master/notebooks/cap1/images/exemplo-celulas.png?raw=true)\n",
    "\n",
    "> Figura 1.1: Exemplos de células no Jupyter.\n",
    "\n",
    "| **No.** | **Descrição**                                                |\n",
    "| :-----: | ------------------------------------------------------------ |\n",
    "|    1    | Salvar Notebook                                              |\n",
    "|    2    | Adicionar uma nova célula abaixo                             |\n",
    "|    3    | Recortar uma célula                                          |\n",
    "|    4    | Copiar uma célula                                            |\n",
    "|    5    | Colar uma célula                                             |\n",
    "|    6    | Executar (Compilar) uma célula e ir para a próxima célula    |\n",
    "|    7    | Parar a execução do código (Muito importante quando seu código trava!) |\n",
    "|    8    | Mudar do modo código para o modo texto (Markdown)            |\n",
    "|    9    | Area de seleção de células                                   |"
   ]
  },
  {
   "cell_type": "markdown",
   "metadata": {},
   "source": [
    "\n",
    "**Tarefa:**\n",
    "\n",
    "Vamos à um exemplo. Considere os códigos abaixo, **não se preocupe em entendê-los agora**. Considere os códigos abaixo:\n",
    "\n",
    "**Célula 1:** Modo texto - Markdown\n",
    "\n",
    "```\n",
    "# Atividade 1\n",
    "----\n",
    "```\n",
    "\n",
    "**Célula 2:** Modo código - Python\n",
    "\n",
    "```python\n",
    "# Está célula está em Python.\n",
    "# Iremos escrever nossa primeira célula\n",
    "print(\"Olá mundo\")\n",
    "```\n",
    "\n",
    "**Célula 3:** Modo texto - Markdown\n",
    "\n",
    "```markdown\n",
    "Esta célula está em Markdown e apresenta uma função quadrática:\n",
    "$$y(t)=t^2+2t+3$$\n",
    "```\n",
    "\n",
    "**Célula 4:** Modo código - Python\n",
    "\n",
    "```python\n",
    "# Esta célula está em Python e está plotando a equação acima\n",
    "\n",
    "import matplotlib.pyplot as plt\n",
    "import numpy as np\n",
    "t = np.linspace(-12, 10, num=100)\n",
    "y = t**2+2*t+3 \n",
    "plt.plot(t, y) \n",
    "plt.xlabel('t - Tempo (s)') \n",
    "plt.ylabel('y - Saída') \n",
    "plt.title('Função quadrática') \n",
    "plt.show() \n",
    "```\n",
    "\n",
    "Copie e cole-os no seu Notebook de acordo com a linguagem indicada e depois execute-os.\n",
    "\n",
    "> **Dicas**: \n",
    ">\n",
    "> - Para executar a célula e avançar para a próxima célula pressione no botão `▶` (Número 6 na Figura 1.1).\n",
    "> - Se necessário, pode-se adicionar uma célula abaixo clicando no `+`, representado pelo `número 2` na Figura 1.1.\n",
    "> - Se necessário é possível mover as células na região `9` da Figura 1.1."
   ]
  },
  {
   "cell_type": "markdown",
   "metadata": {},
   "source": [
    "## Copiar e colar células\n",
    "\n",
    "Crie um novo Notebook, nomeie como `interface-do-jupyter-aux`, recorte a célula 1 do seu primeiro Notebook e cole no Notebook `interface-do-jupyter-aux`."
   ]
  },
  {
   "cell_type": "markdown",
   "metadata": {},
   "source": [
    "## Ordem de execução das células\n",
    "\n",
    "Toda vez que uma célula de código é executada, os valores das variáveis finais das variáveis são salvas na memória. Desta forma, ao executar uma célula nem sempre o resultado vai ser o mesmo. \n",
    "\n",
    "**Tarefa:**\n",
    "\n",
    "Para deixar mais claro este conceito considere as três células abaixo:\n",
    "\n",
    "**Célula 1:** Bloco de atribuição da variável `x`:\n",
    "\n",
    "```python\n",
    "# Atribua o valor 0 à variável 'x'\n",
    "x=0\n",
    "```\n",
    "\n",
    "**Célula 2:** Incremente a variável `x` em `1`\n",
    "\n",
    "```python\n",
    "# Incremente esta variável em 1\n",
    "x=x+1\n",
    "```\n",
    "\n",
    "**Célula 3:** Imprima o valor da variável `x`\n",
    "\n",
    "```python\n",
    "# Mostre o valor de 'x'\n",
    "x\n",
    "```\n",
    "\n",
    "![Exemplo de exercício para o Kernel](https://github.com/cursopythonUFAC/cursopythonUFAC.github.io/blob/master/notebooks/cap1/images/atribuicao_kernel.png?raw=true)\n",
    "\n",
    "Para ficar claro, copie as três células e faça a seguinte sequência de execução:\n",
    "\n",
    "​\tCélula 1 $\\rightarrow$ Célula 2 $\\rightarrow$ Célula 2 $\\rightarrow$ Célula 2 $\\rightarrow$ Célula 3 $\\rightarrow$  Célula 2 $\\rightarrow$ Célula 3 $\\rightarrow$  Célula 1 $\\rightarrow$ Célula 3 \n",
    "\n",
    "> **Dicas:** \n",
    ">\n",
    "> - Selecione a célula e utilize o atalho `Ctrl+Enter` para executar a célula pelo teclado.\n",
    "> - Use as teclas &uarr; e &darr; para movimentar entre as células.\n",
    "\n",
    "Observe que toda vez que uma célula é executada há um aumento da numeração do lado direito da célula. Esta numeração indica a ordem que as células foram executada. \n",
    "\n",
    "### Resentando o Kernel\n",
    "\n",
    "Muitas vezes queremos limpar a memória. Para isso o podemos recorrer ao menu do `Kernel` , o servidor que roda o código em Python. Neste menu temos opção `Restart Kernel...` que apaga todas as variáveis da memória. Além disso existe outras opções como:\n",
    "\n",
    "|                Opção                 | Função                                                |\n",
    "| :----------------------------------: | ----------------------------------------------------- |\n",
    "|          Restart Kernel...           | Reinicia o kernel (Apaga todas as variáveis)          |\n",
    "| Restart Kernel and Clean All Outputs | Reinicia o kernel e limpa todas as saídas das células |\n",
    "|   Restart Kernel and Run All Cells   | Reinicia o kernel e roda todo o Notebook              |\n",
    "\n",
    "![Menu do Kernel](https://github.com/cursopythonUFAC/cursopythonUFAC.github.io/blob/master/notebooks/cap1/images/menu_kernel.png?raw=trueg)\n",
    "\n",
    "Finalmente, reinicie o servidor e tente a célula 2. Observe que aconteceu um erro, pois a variável x que deveria ser inicializada na célula 1 não está mais na memória, pois o Kernel foi reiniciado."
   ]
  },
  {
   "cell_type": "markdown",
   "metadata": {},
   "source": [
    "##  Atalhos\n",
    "\n",
    "O Jupyter permite o uso de vários atalhos que podem facilitar a nossa vida. No menu `Run` podemos ver alguns atalhos:\n",
    "\n",
    "![Rode](https://github.com/cursopythonUFAC/cursopythonUFAC.github.io/blob/master/notebooks/cap1/images/atalhos_run.png?raw=true)\n",
    "\n",
    "|   Atalho    | Função                                       |\n",
    "| :---------: | -------------------------------------------- |\n",
    "| Shift+Enter | Rode a célula e avance para a próxima célula |\n",
    "| Ctrl+Enter  | Rode a célula, mas não avance                |\n",
    "|  Alt+Enter  | Rode a célula e insira outra célula abaixo   |\n",
    "\n",
    "### Modo de edição e modo de comando\n",
    "\n",
    "Existem alguns atalhos que só podem ser acessados no modo de comando. De forma resumida:\n",
    "> No modo de edição você pode editar as células e no modo de comando você pode utilizar alguns atalhos relacionado às células.\n",
    "\n",
    "É possível ver se a célula está no modo de comando ou de edição na barra de status:\n",
    "\n",
    "![Modo de comando e edição](https://github.com/cursopythonUFAC/cursopythonUFAC.github.io/blob/master/notebooks/cap1/images/modo_comando_edicao.png?raw=true)\n",
    "\n",
    "Para acessar o **modo de comando** clique na região esquerda fora da célula ou simplesmente aperte o botão `Esc`, e para acessar o **modo de edição** clique dentro da célula ou aperte `Enter`. No modo de comando é possível utilizar os seguintes atalhos:\n",
    "\n",
    "|            Atalho             | Função                             |\n",
    "| :---------------------------: | ---------------------------------- |\n",
    "|      D, D (D duas vezes)      | Apaga a célula                     |\n",
    "|     Setas &uarr; e &darr;     | Navegue entre as células           |\n",
    "|               A               | Adiciona uma célula acima (Above)  |\n",
    "|               B               | Adiciona uma célula abaixo (Below) |\n",
    "| Shift + Setas &uarr; e &darr; | Seleciona mais de uma célula       |\n",
    "\n",
    "Além disso, é possível selecionar várias células pressionando `Shift` e clicando com o mouse."
   ]
  }
 ],
 "metadata": {
  "language_info": {
   "name": "python"
  }
 },
 "nbformat": 4,
 "nbformat_minor": 2
}
