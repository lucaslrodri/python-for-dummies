{
 "cells": [
  {
   "cell_type": "markdown",
   "metadata": {},
   "source": [
    "Ao abrir o programa pela primeira vez você irá encontrar uma interface parecida com essa:\n",
    "\n",
    "![Imagem retirada do site oficial do Jupyter Notebook](../assets/primeiros-passos/jupyter-lab.webp)"
   ]
  }
 ],
 "metadata": {
  "language_info": {
   "name": "python"
  }
 },
 "nbformat": 4,
 "nbformat_minor": 2
}
