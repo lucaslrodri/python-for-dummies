{
 "cells": [
  {
   "cell_type": "markdown",
   "metadata": {},
   "source": [
    "# Introdução ao Markdown"
   ]
  },
  {
   "cell_type": "markdown",
   "metadata": {},
   "source": [
    "Notebooks, como o Jupyter Notebook, permitem a inclusão de células em Markdown, possibilitando que os usuários adicionem texto formatado, explicações, títulos e outros elementos de documentação diretamente ao lado do código. Isso facilita a criação de documentos interativos e bem estruturados, combinando código executável com descrições detalhadas e visualizações.\n",
    "\n",
    "A linguagem Markdown, desenvolvida por John Gruber e Aaron Swartz, é amplamente utilizada nesses notebooks devido à sua simplicidade e eficiência. Projetada para converter texto em HTML (HyperText Markup Language), ela permite que os usuários formatem conteúdos de maneira intuitiva, tornando a documentação mais clara e acessível.\n",
    "\n",
    "> **Curiosidade:** \n",
    ">\n",
    "> A linguagem Markdown foi desenvolvida por Aaron Swartz, um os fundadores do Reddit. Ela é amplamente utilizada em foruns, blogs, páginas web, aplicativos como Slack, aplicativos de notação como Obsidian e na escrita de documentos. "
   ]
  },
  {
   "cell_type": "markdown",
   "metadata": {},
   "source": [
    "**Tarefa:**\n",
    "\n",
    "Todo o texto deste Notebook está escrito em Markdown. Clique duas vezes sobre o texto e verá o código em Markdown."
   ]
  },
  {
   "cell_type": "markdown",
   "metadata": {},
   "source": [
    "## Título"
   ]
  },
  {
   "cell_type": "markdown",
   "metadata": {},
   "source": [
    "Inicialmente temos os `Headings`, ou Títulos. \n",
    "\n",
    "Existe uma herança de títulos, em que diferem não só o tamanho da fonte, como também semânticamente. Ou seja, o título número 1 é mais importante que o título número 2, que por sua vez é mais importante que o número 3, e assim por diante.\n",
    "\n",
    "Existem 6 títulos, que vai do título 1 (mais importante e por conseguinte maior e mais destacado) até o título 6 (menos importante e por conseguinte menor e menos destacado).\n",
    "\n",
    "A sintaxe é simples:\n",
    "\n",
    "```markdown\n",
    "# Título 1\n",
    "## Título 2\n",
    "### Título 3\n",
    "#### Título 4\n",
    "##### Título 5\n",
    "###### Título 6\n",
    "```\n",
    "\n",
    "Em resumo, vai de acordo com a quantidade de `#`."
   ]
  },
  {
   "cell_type": "markdown",
   "metadata": {},
   "source": [
    "## Comentários\n",
    "\n",
    "Comentários são parte de códigos que não aparecem no trecho final. \n",
    "\n",
    "```markdown\n",
    "<!--Esta frase não vai aparecer pois é um comentário.-->\n",
    "\n",
    "Esta frase vai aparecer, pois não é um comentário.\n",
    "```\n",
    "\n",
    "Resulta em:\n",
    "\n",
    "> Esta frase vai aparecer, pois não é um comentário.\n",
    "\n",
    "Observe que a parte do texto que estava entre `<!--` e `-->` não aparece no seu texto final, pois é um comentário. Somente a frase de baixo, que não é um comentário, aparece."
   ]
  },
  {
   "cell_type": "markdown",
   "metadata": {},
   "source": [
    "### Comentários multi-linha"
   ]
  },
  {
   "cell_type": "markdown",
   "metadata": {},
   "source": [
    "Podemos escrever comentários em mais de uma linha. utilizando entre o comentário os delimitadores `<!---` e `-->`:\n",
    "\n",
    "```markdown\n",
    "<!---  \n",
    "Este é um comentário multi-linha.\n",
    "Portanto eu posso pular uma linha e continuar escrevendo o comentário.\n",
    "-->\n",
    "Esta frase vai aparecer, pois não é um comentário.\n",
    "```\n",
    "Resulta em:\n",
    "\n",
    "> Esta frase vai aparecer, pois não é um comentário.\n",
    "\n",
    "\n",
    "> **Curiosidade:**  \n",
    ">\n",
    "> A notação de comentário apresentada é uma notação da linguagem de marcação de texto HTML. Utilizamos a notação em  HTML sempre que queremos fazer algo que não é possível no Markdown nativamente."
   ]
  },
  {
   "cell_type": "markdown",
   "metadata": {},
   "source": [
    "## Quebra linha\n",
    "\n",
    "Para quebrar uma linha em Markdown devemos utilizar **dois espaços** no final da frase. Podemos utilizar, também, um espaçamento de uma linha entre uma frase e outra. "
   ]
  },
  {
   "cell_type": "markdown",
   "metadata": {},
   "source": [
    "**Tarefa:**\n",
    "\n",
    "```markdown\n",
    "<!--- \n",
    "Vamos tentar escrever duas palavras embaixo da outra sem nada adicional:\n",
    "-->\n",
    "Arroz\n",
    "Feijão\n",
    "\n",
    "<!--- \n",
    "Por fim, vamos utilizar o primeiro exemplo. Porém vamos adicionar dois spaços depois de \"Arroz\", resultando em \"Arroz  \"\n",
    "-->\n",
    "Arroz  \n",
    "Feijão\n",
    "​```"
   ]
  },
  {
   "cell_type": "markdown",
   "metadata": {},
   "source": [
    "### Novo parágrafo\n",
    "\n",
    "Para criar um novo parágrafo é simples, basta adicionar mais de um quebra linha entre duas frase. Veja o exemplo:\n",
    "\n",
    "```markdown\n",
    "Estou criando o primeiro parágrafo para o meu texto.\n",
    "\n",
    "Agora vou criar mais um parágrafo para o meu texto.\n",
    "```\n",
    "\n",
    "Resulta em:\n",
    "\n",
    "> Estou criando o primeiro parágrafo para o meu texto.\n",
    ">\n",
    "> Agora vou criar mais um parágrafo para o meu texto."
   ]
  },
  {
   "cell_type": "markdown",
   "metadata": {},
   "source": [
    "**Tarefa:** Tente reproduzir a sentença abaixo:\n",
    "\n",
    "> Animais que começam com \"i\":\n",
    ">\n",
    "> Índio  \n",
    "> \n",
    "> Igreja  \n",
    ">\n",
    "> Ira"
   ]
  },
  {
   "cell_type": "markdown",
   "metadata": {},
   "source": [
    "## Ênfase\n",
    "\n",
    "Você pode adicionar ênfase ao seu texto, como por exemplo o **negrito**, o _itálico_, ou até mesmo _**negrito e itálico**_. Lembre-se que além da aparência do seu texto, existe a semântica para ser seguida. Textos em negrito devem ser lidos com força, intensidade, e o itálico significa uma ênfase maior.\n",
    "\n"
   ]
  },
  {
   "cell_type": "markdown",
   "metadata": {},
   "source": [
    "### Negrito\n",
    "\n",
    "Sintaxe do **negrito**:\n",
    "\n",
    "```markdown\n",
    "Este é **Negrito**\n",
    "Este também é __negrito__\n",
    "```\n",
    "Resulta em:\n",
    "\n",
    "> Este é **Negrito** \\\n",
    "> Este também é __negrito__\n",
    "\n",
    "Em resumo, envolve-se o termo por dois asteriscos (`**`) ou por dois underlines (`__`)."
   ]
  },
  {
   "cell_type": "markdown",
   "metadata": {
    "vscode": {
     "languageId": "plaintext"
    }
   },
   "source": [
    "**Tarefa:** Tentando escrever as frases em Markdown:\n",
    "\n",
    "> O **rato** roeu a **roupa** do **rei** de **roma**.   \n",
    "> Eu **gosto** de **pizza**\n",
    "\n",
    "> **Dica:** \n",
    ">\n",
    "> Lembre-se de usar o quebra linha (Dois espaços)."
   ]
  },
  {
   "cell_type": "markdown",
   "metadata": {},
   "source": [
    "### Itálico\n",
    "\n",
    "Sintaxe de _itálico_:\n",
    "\n",
    "```markdown\n",
    "Este é *itálico*\n",
    "Este também é _itálico_\n",
    "```\n",
    "\n",
    "Resulta em:\n",
    "\n",
    "> Este é *itálico*  \n",
    "> Este também é _itálico_ \n",
    "\n",
    "Isto é, envolve-se o termo por um asterisco (`*`) ou um underline (`_`)."
   ]
  },
  {
   "cell_type": "markdown",
   "metadata": {},
   "source": [
    "**Tarefa:**\n",
    "\n",
    "\n",
    "Normalmente colocamos palavras estrangeiras em itálico. Coloque a palavra `software` em itálico.\n",
    "\n",
    "```markdown\n",
    "Engenharia de software é uma profissão que tem crescido na última década.\n",
    "```"
   ]
  },
  {
   "cell_type": "markdown",
   "metadata": {},
   "source": [
    "### Negrito e itálico\n",
    "\n",
    "Podemos combinar a notação de negrito e itálico:\n",
    "\n",
    "```markdown\n",
    "Está em _**negrito e itálico**_\n",
    "Isto também está em *__negrito e itálico__*\n",
    "```\n",
    "\n",
    "**Tarefa:**\n",
    "\n",
    "Coloque todo texto em negrito e a palavra `software` em itálico.\n",
    "\n",
    "```markdown\n",
    "Engenharia de software é uma profissão que tem crescido na última década.\n",
    "```"
   ]
  },
  {
   "cell_type": "markdown",
   "metadata": {
    "vscode": {
     "languageId": "plaintext"
    }
   },
   "source": [
    "## Linha divisória\n",
    "\n",
    "Você pode adicionar linhas horizontais para deixar o texto mais organizado e apresentável. Usando três hífens, três asteriscos ou três underscore:\n",
    "\n",
    "```markdown\n",
    "Hífens\n",
    "\n",
    "---\n",
    "\n",
    "Asteriscos\n",
    "\n",
    "***\n",
    "\n",
    "Underscore\n",
    "\n",
    "___\n",
    "```"
   ]
  },
  {
   "cell_type": "markdown",
   "metadata": {
    "vscode": {
     "languageId": "plaintext"
    }
   },
   "source": [
    "## Código\n",
    "\n",
    "### Código em linha\n",
    "\n",
    "Podemos escrever um trecho de código em uma frase utilizando o caractere crase. \n",
    "\n",
    "```markdown\n",
    "Para imprimir \"Olá mundo!\" em python utilizamos o \"comando\" `print(\"Olá mundo\")`.\n",
    "```\n",
    "\n",
    "Resulta em:\n",
    "\n",
    "Para imprimir \"Olá mundo!\" em python utilizamos o \"comando\" `print(\"Olá mundo\")`.\n",
    "\n",
    "Observe que o comando \"print(\"Olá mundo\")\" é apresentado em um fundo diferente, indicando que é um código."
   ]
  },
  {
   "cell_type": "markdown",
   "metadata": {},
   "source": [
    "**Tarefa:** \n",
    "\n",
    "Reproduza a frase abaixo:\n",
    "\n",
    "   \"Um triângulo é formados por 3 lados, os lados `a`, `b` e `c`.\""
   ]
  },
  {
   "cell_type": "markdown",
   "metadata": {},
   "source": [
    "### Código multi-linha\n",
    "\n",
    "Podemos criar um código que funciona em mais de uma linha. Para isso vamos utilizar a seguinte notação \n",
    "\n",
    "Fizemos acima um código genérico. Se quisermos especificar a linguagem de programação devemos usar: \n",
    "\n",
    "```\n",
    "```linguagem\n",
    "Aqui vai mostrar o código no modo texto\n",
    "​```\n",
    "```\n",
    "\n",
    "Por exemplo, se considerarmos a linguagem Markdown:\n",
    "\n",
    "```\n",
    "```markdown\n",
    "<!---\n",
    "Isto aqui é um comentário multi-linha.\n",
    "E esta é a segunda linha do comentário\n",
    "-->  \n",
    "Se eu executar esta célula o comando de **negrito** irá aparecer. \n",
    "​```\n",
    "```"
   ]
  },
  {
   "cell_type": "markdown",
   "metadata": {},
   "source": [
    "**Tarefa:**\n",
    "\n",
    "Agora tente criar um bloco de código no Markdown com a linguagem Python:\n",
    "\n",
    "```python\n",
    "# Este código será apresentado na forma de texto, em Markdown\n",
    "ling = \"python\"\n",
    "\n",
    "if ling != \"python\":\n",
    "    print(\"Não é uma boa linguagem.\")\n",
    "else:\n",
    "    print(\"Melhor linguagem.\")\n",
    "```"
   ]
  },
  {
   "cell_type": "markdown",
   "metadata": {
    "vscode": {
     "languageId": "plaintext"
    }
   },
   "source": [
    "### Código multi-linha sem ênfase\n",
    "\n",
    "A especificação da linguagem permite realçar algumas notações de sintaxe da linguagem, facilitando a visualização no seu texto final. Porém é possível criar um bloco de código multi-linha sem realçe. Para isso basta não colocar não colocar o nome da linguagem. Como mostra abaixo:\n",
    "\n",
    "```\n",
    "# Este código será apresentado na forma de texto, em Markdown\n",
    "ling = \"python\"\n",
    "\n",
    "if ling != \"python\":\n",
    " print(\"Não é uma boa linguagem.\")\n",
    "else:\n",
    " print(\"Melhor linguagem.\")\n",
    "```"
   ]
  },
  {
   "cell_type": "markdown",
   "metadata": {},
   "source": [
    "## Citações"
   ]
  },
  {
   "cell_type": "markdown",
   "metadata": {},
   "source": [
    "Podemos escrever citações ao utilizar o sinal de maior (`>`). Veja como:\n",
    "\n",
    "```markdown\n",
    "> Agir, eis a inteligência verdadeira. \n",
    "> Serei o que quiser. Mas tenho que querer o que for. \n",
    "> O êxito está em ter êxito, e não em ter condições de êxito. \n",
    "> Condições de palácio tem qualquer terra larga, \n",
    "> mas onde estará o palácio se não o fizerem ali?\n",
    "```\n",
    "\n",
    "Resulta em:\n",
    "\n",
    "> Agir, eis a inteligência verdadeira.  \n",
    "> Serei o que quiser. Mas tenho que querer o que for.  \n",
    "> O êxito está em ter êxito, e não em ter condições de êxito.  \n",
    "> Condições de palácio tem qualquer terra larga,  \n",
    "> mas onde estará o palácio se não o fizerem ali?"
   ]
  },
  {
   "cell_type": "markdown",
   "metadata": {},
   "source": [
    "**Tarefa:**\n",
    "\n",
    "Reproduza a seguinte frase dentro de uma citação:\n",
    "\n",
    "Água mole pedra dura tanto bate até que fura"
   ]
  },
  {
   "cell_type": "markdown",
   "metadata": {},
   "source": [
    "## Listas"
   ]
  },
  {
   "cell_type": "markdown",
   "metadata": {},
   "source": [
    "### Listas não ordenada\n",
    "\n",
    "Para trabalhar com listas não ordenadas podemos utilizar o sinal `-` ou `+` antes da frase:\n",
    "\n",
    "```markdown\n",
    "- item 1\n",
    "- item 2\n",
    "- item 3\n",
    "```\n",
    "\n",
    "Resulta em:\n",
    "\n",
    "> - item 1\n",
    "> - item 2\n",
    "> - item 3\n",
    "\n",
    "Ou ainda:\n",
    "\n",
    "```markdown\n",
    "+ item 1\n",
    "+ item 2\n",
    "+ item 3\n",
    "```"
   ]
  },
  {
   "cell_type": "markdown",
   "metadata": {},
   "source": [
    "**Tarefa:**\n",
    "\n",
    "Faça uma lista de compras de supermercado."
   ]
  },
  {
   "cell_type": "markdown",
   "metadata": {},
   "source": [
    "### Lista ordenada\n",
    "\n",
    "Veja como faz uma lista ordenada:\n",
    "\n",
    "```markdown\n",
    "**Lista ordenada:**\n",
    "1. Elemento 1\n",
    "2. Elemento 2\n",
    "3. Elemento 3\n",
    "```\n",
    "\n",
    "Resulta em:\n",
    "\n",
    "> **Lista ordenada:**\n",
    "> 1. Elemento 1\n",
    "> 2. Elemento 2\n",
    "> 3. Elemento 3"
   ]
  },
  {
   "cell_type": "markdown",
   "metadata": {
    "vscode": {
     "languageId": "plaintext"
    }
   },
   "source": [
    "**Tarefa:** \n",
    "\n",
    "Crie uma lista ordenada, considerando a numeração como ordem de prioridade. \n",
    "\n",
    "> **Dica:**\n",
    ">\n",
    "> Músicas favoritas, filmes favoritos, série favoritos, linguagens de programação favoritas, etc"
   ]
  },
  {
   "cell_type": "markdown",
   "metadata": {},
   "source": [
    "### Lista dentro de lista\n",
    "\n",
    "Podemos criar uma lista dentro de uma lista adicionando uma **endentação**, como mostra abaixo:\n",
    "\n",
    "```markdown\n",
    "1. item 1\n",
    "   - item 1.1\n",
    "   - item 1.2\n",
    "   - item 1.3\n",
    "2. item 2\n",
    "   - item 2.1\n",
    "   - item 2.2\n",
    "   - item 3.3\n",
    "3. item 3\n",
    "```\n",
    "\n",
    "Resulta em:\n",
    "\n",
    "> 1. item 1\n",
    ">  - item 1.1\n",
    ">  - item 1.2\n",
    ">  - item 1.3\n",
    "> 2. item 2\n",
    ">  - item 2.1\n",
    ">  - item 2.2\n",
    ">  - item 3.3\n",
    "> 3. item 3"
   ]
  },
  {
   "cell_type": "markdown",
   "metadata": {
    "vscode": {
     "languageId": "plaintext"
    }
   },
   "source": [
    "**Tarefa:**\n",
    "\n",
    "Abaixo tem uma receita de bolo. Tente reproduzir em Markdown o exemplo abaixo:\n",
    "\n",
    "1. Ingredientes:\n",
    "   - Ovo\n",
    "   - Farinha de trigo\n",
    "   - Leite\n",
    "   - Fermento\n",
    "2. Modo de preparo:\n",
    "   - Bata no liquidificador o leite com o ovo\n",
    "   - Jogue a farinha de trigo na mistura\n",
    "   - Bote para assar"
   ]
  },
  {
   "cell_type": "markdown",
   "metadata": {},
   "source": [
    "## Criando um cabeçalho\n",
    "\n",
    "Utilizando todos os conhecimentos que você aprendeu em Markdown crie um cabeçalho na primeira célula, logo após título principal.\n",
    "\n",
    "\n",
    "> **Dica:** \n",
    ">\n",
    "> Clique na primeira célula, entre no modo de comando e aperte `A` de Above.\n",
    "\n",
    "Agora crie o seu cabeçalho.\n",
    "\n",
    "> **Dica:** \n",
    "> \n",
    "> Não se esqueça dos dois espaços para quebrar a linha.\n",
    "\n",
    "O meu ficou assim:\n",
    "\n",
    "```\n",
    "---\n",
    "__Nome do(a) aluno(a)__: Lucas Lima  \n",
    "__Instituição__: UFAC  \n",
    "---\n",
    "``` \n",
    "\n",
    "> **Dicas:** \n",
    "> Se você conhece, você pode usar em HTML e CSS para deixar o seu texto ainda mais rico. Mais informações [aqui](https://www.w3schools.com/html/html_basic.asp).\n",
    "> Evite usar muitos títulos no seu cabeçalho (`#`,  `##`, etc) no seu cabeçalho pois isso pode atrapalhar na geração de índice ao exportar seu Notebook para pdf, LaTeX ou HTML.\n",
    "\n",
    "**Ah, não se esqueça de criar os títulos e cabeçalhos das próximas atividades 😉**"
   ]
  }
 ],
 "metadata": {
  "language_info": {
   "name": "python"
  }
 },
 "nbformat": 4,
 "nbformat_minor": 2
}
