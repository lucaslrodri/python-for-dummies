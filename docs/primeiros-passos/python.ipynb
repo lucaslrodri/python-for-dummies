{
 "cells": [
  {
   "cell_type": "markdown",
   "metadata": {},
   "source": [
    "# Introdução ao Python"
   ]
  },
  {
   "cell_type": "markdown",
   "metadata": {},
   "source": [
    "## Parte 1: Comentários"
   ]
  },
  {
   "cell_type": "markdown",
   "metadata": {},
   "source": [
    "Digite em seu notebook o seguinte código:\n",
    "\n",
    "```python\n",
    "# aqui vamos refazer o cabeçalho utilizando variáveis\n",
    "# aliás, você sabe quem sou eu?\n",
    "\n",
    "'''\n",
    "Eu sou um comentário em Python.\n",
    "No meu caso, sou de várias linhas.\n",
    "Mas o meu colega ali em cima, é de apenas uma.\n",
    "Sacou? :D\n",
    "'''\n",
    "\n",
    "titulo_1 = \"Aula 1 - Primeiros passos.\"\n",
    "titulo_2 = \"Data: 11 de setembro de 2020.\"\n",
    "titulo_3 = \"E-mail: senseidopython@gmail.com\"\n",
    "titulo_4 = \"Telefone: (68) 9 9250-6776\"\n",
    "comentario = # \"eu sou um comentario e nao posso ser executado.\"\n",
    "```\n",
    "\n",
    "Execute o código. Você pode ir até \"Run\" ou use o atalho `Ctrl + Enter`.\n",
    "\n",
    "Agora use sua imaginação e crie o seu próprio cabeçalho em utilizando comentários.\n",
    "\n",
    "> **Dica:** Use o comentário multi-linha para criar o seu cabeçalho.\n",
    "\n"
   ]
  },
  {
   "cell_type": "markdown",
   "metadata": {},
   "source": [
    "## Parte 2: Operadores"
   ]
  },
  {
   "cell_type": "markdown",
   "metadata": {},
   "source": [
    "Em Python, podemos escrever expressões matemáticas como em qualquer outra calculadora (Como o MatLab, por exemplo). Expressões consistem de valores, como `2` e operadores, como o `+`.\n",
    "\n",
    "Escreveremos `2+2` na célula abaixo, e vemos que a expressão irá assumir o valor final de `4`. \n"
   ]
  },
  {
   "cell_type": "code",
   "execution_count": 3,
   "metadata": {},
   "outputs": [
    {
     "data": {
      "text/plain": [
       "4"
      ]
     },
     "execution_count": 3,
     "metadata": {},
     "output_type": "execute_result"
    }
   ],
   "source": [
    "2+2"
   ]
  },
  {
   "cell_type": "markdown",
   "metadata": {},
   "source": [
    "\n",
    "Podemos usar diversos operadores para computar diversas expressões como quisermos, como listado na tabela abaixo.\n",
    "\n",
    "| Operador |    Operação     | Exemplo | Resulta em |\n",
    "| :------: | :-------------: | :-----: | :--------: |\n",
    "|    **    |    Expoente     | 2 ** 3  |     8      |\n",
    "|    %     |      Resto      | 22 % 8  |     6      |\n",
    "|    //    | Divisão inteira | 22 // 8 |     2      |\n",
    "|    /     |     Divisão     | 22 / 8  |    2.75    |\n",
    "|    *     |  Multiplicação  |  3 * 5  |     15     |\n",
    "|    -     |    Subtração    |  5 - 2  |     3      |\n",
    "|    +     |     Adição      |  2 + 2  |     4      |\n",
    "\n",
    "A ordem dos operadores da matemática do Python é similar à usada na matemática comum, ou seja, primeiro as potências (`**`), depois multiplicações e divisões (`*` e `/`) e por fim as somas e subtrações (`+` e `-`), da esquerda para a direita. Podemos também usar parênteses. Agora, vamos tentar calcular o valor de algumas operações para exercitar o que foi aprendido. A seguir execute as seguintes operações:"
   ]
  },
  {
   "cell_type": "code",
   "execution_count": 4,
   "metadata": {},
   "outputs": [
    {
     "data": {
      "text/plain": [
       "20"
      ]
     },
     "execution_count": 4,
     "metadata": {},
     "output_type": "execute_result"
    }
   ],
   "source": [
    "2+3*6"
   ]
  },
  {
   "cell_type": "code",
   "execution_count": 5,
   "metadata": {},
   "outputs": [
    {
     "data": {
      "text/plain": [
       "256"
      ]
     },
     "execution_count": 5,
     "metadata": {},
     "output_type": "execute_result"
    }
   ],
   "source": [
    "2**8"
   ]
  },
  {
   "cell_type": "code",
   "execution_count": 6,
   "metadata": {},
   "outputs": [
    {
     "data": {
      "text/plain": [
       "3.2857142857142856"
      ]
     },
     "execution_count": 6,
     "metadata": {},
     "output_type": "execute_result"
    }
   ],
   "source": [
    "23/7"
   ]
  },
  {
   "cell_type": "code",
   "execution_count": 7,
   "metadata": {},
   "outputs": [
    {
     "data": {
      "text/plain": [
       "3"
      ]
     },
     "execution_count": 7,
     "metadata": {},
     "output_type": "execute_result"
    }
   ],
   "source": [
    "23//7"
   ]
  },
  {
   "cell_type": "code",
   "execution_count": 8,
   "metadata": {},
   "outputs": [
    {
     "data": {
      "text/plain": [
       "2"
      ]
     },
     "execution_count": 8,
     "metadata": {},
     "output_type": "execute_result"
    }
   ],
   "source": [
    "23%7"
   ]
  },
  {
   "cell_type": "code",
   "execution_count": 9,
   "metadata": {},
   "outputs": [
    {
     "data": {
      "text/plain": [
       "20.0"
      ]
     },
     "execution_count": 9,
     "metadata": {},
     "output_type": "execute_result"
    }
   ],
   "source": [
    "(5-1)*((7+3)/(3-1))"
   ]
  },
  {
   "cell_type": "markdown",
   "metadata": {},
   "source": [
    "\n",
    "Agora tente calcular as seguintes operações:\n",
    "\n",
    "- $$\n",
    "\\frac{8}{2}\\times (2+2)\n",
    "$$\n",
    "- $(2+3)\\times 3^3$\n",
    "- $7+7\\div 7 + 7 \\times 7 -7$\n",
    "- $\\sqrt{9^2-4\\times3}$\n",
    "\n",
    "> **Dica:** Use $x^{0,5}$ para calcular $\\sqrt{x}$.\n",
    "\n",
    "- \\(-\\frac{8}{2} \\times (2+2)\\)\n",
    "- \\((2+3) \\times 3^3\\)\n",
    "- \\(7 + 7 \\div 7 + 7 \\times 7 - 7\\)\n",
    "- \\(\\sqrt{9^2 - 4 \\times 3}\\)\n",
    "\n",
    "\n",
    "O python não reconhece expressões que não fazem sentido, como a expressão abaixo. Tente rodar a seguinte célula. Por exemplo, tente rodar o código abaixo:\n",
    "\n",
    "![Cinco_mais](images/rode_5_mais.png)\n",
    "\n",
    "### Parte 3: Tipos de dados\n",
    "\n",
    "Existem diversos tipos de dados em Python que se comportam de diferente formas em expressões, os três tipos mais básicos são:\n",
    "\n",
    "|       Data type        |                      Exemplo                      |\n",
    "| :--------------------: | :-----------------------------------------------: |\n",
    "|        Integers        |             -2, -1, 0, 1, 2, 3, 4, 5              |\n",
    "| Floating-point numbers |      -1.25, -1.0, -0.5, 0.0, 0.5, 1.0, 1.25       |\n",
    "|        Strings         | 'a', 'aa', 'aaa', 'Hello!', 'curso de python', '' |\n",
    "\n",
    "Integers (`int`) se refere aos números inteiros, floating-point numbers (`float`) se refere a números com casa decimal e strings são textos.\n",
    "\n",
    "Note que as strings tem sempre aspas simples em suas extremidades como `'Isso é uma string'`\n",
    "\n",
    "Note, que você pode somar dois inteiros, como `3+5`, mas não pode somar um inteiro e uma string, como na célula abaixo.\n",
    "\n",
    "![Célula que dá erro](images/celula_da_erro.png)\n",
    "\n",
    "No entanto, podemos utilizar os operadores de `+`e de `*` para concatenar strings, por exemplo.\n",
    "\n",
    "![6 vezes abacaxi](images/6vezes_abacaxi.png)\n",
    "\n",
    "### Parte 4: Variáveis\n",
    "\n",
    "Em Python, podemos armazenar nossos dados em variáveis. Variáveis funcionam como caixas em que podemos guardar o que quisermos utilizando o operador `=`. Vamos praticar escrevendo os exemplos abaixo:\n",
    "\n",
    "![Atribuição](images/atribuicao.png)\n",
    "\n",
    "Os nomes de variáveis só podem ser uma palavra, com números e underline `_`. Nomes de variáveis não podem começar com números. Tente os seguintes exemplos abaixo:\n",
    "\n",
    "![Nomes de variáveis](images/primeira_variavel.png)\n",
    "\n",
    "### Parte 5: Entrada & saída\n",
    "\n",
    "**print()**:\n",
    "\n",
    "A função `print()` tem o objetivo de imprimir na tela o valor que estiver sendo passado, como você pôde perceber no exemplo anterior. Escreva o código abaixo e execute.\n",
    "\n",
    "![Imprimir](images/print.png)\n",
    "\n",
    "**input()**:\n",
    "\n",
    "A função `input()` tem o objetivo de pedir ao usuário algum dado para ser manualmente entrado no terminal. Agora siga o exemplo e execute\n",
    "\n",
    "![Entrada](images/input.png)\n",
    "\n",
    "Note que os dados coletados pela função `input()` são sempre do tipo `string`. Veremos no próximo exemplo como transformar esses dados.\n",
    "\n",
    "### Parte 6: Transformação de dados\n",
    "\n",
    "Algumas vezes será necessário converter de um tipo de dado para outro para podemos operar. A função `Input()`, por exemplo, sempre resulta em uma `string`, mas podemos usar outras funções para podermos transformar esse dado em um número. Essas funções são `str()`, `int()` e `float()`. Escreva o código abaixo, execute e veja o que acontece:\n",
    "\n",
    "![Imprimir entrada](images/exercicio_print_input.png)\n",
    "\n",
    "### Parte 7: Atribuição múltipla\n",
    "\n",
    "No Python é possível atribuir vários valores de variáveis numa mesma expressão. Desta forma, teremos em ambos os lados do operador um conjunto de variáveis e de valores. Para praticar execute o código abaixo:\n",
    "\n",
    "![Atribuição Múltipla](images/atribuicao_multipla.png)\n",
    "\n",
    "Agora, utilizando a mesma lógica crie um código capaz de atribuir três variáveis $a=6$, $b=7$ e $c=10$.\n",
    "\n",
    "# Prática 4: Para casa\n",
    "\n",
    "### Parte 1: Complete a frase\n",
    "\n",
    "Crie pequeno programa (uma ou mais células) capaz de produzir a seguinte frase:\n",
    "\n",
    "> \"Olá, meu nome é \\_\\_\\_\\_\\_\\_, tenho \\_\\_\\_ anos, e minha idade daqui a 5 anos será \\_\\_\\_.\"\n",
    "\n",
    "Tente construir a seguinte frase, utilizando `input()`, `print()` e conversão de dados.\n",
    "\n",
    "Além disso, utilize o Markdown para desenvolver um pequeno enunciado para o programa.\n",
    "\n",
    "### Parte 2: Pergunta teórica\n",
    "\n",
    "Por que a expressão abaixo causa erro? \n",
    "\n",
    "```python\n",
    "print('Eu saí de casa ' + 10 + ' vezes na semana passada')\n",
    "```\n",
    "\n",
    "> **Dica:** Responda esta pergunta utilizando o modo texto (Markdown).\n",
    "\n",
    "### Parte 3: Fórmula de báskara\n",
    "\n",
    "Crie pequeno programa (uma célula) capaz de resolver qualquer equação de segundo:\n",
    "$$\n",
    "ax^2+bx+c=0\n",
    "$$\n",
    "O usuário deve entrar com os parâmetros $a$, $b$ e $c$. Utilize a função input para capturar os dados de entrada.\n",
    "\n",
    "> **Dica:**\n",
    ">\n",
    "> Para resolver a equação de segundo grau você pode utilizar a fórmula de Baskara:  \n",
    ">  \n",
    "> $${x_1,x_2}=\\frac{-b\\pm\\sqrt{\\Delta}}{2a}$$\n",
    ">\n",
    "> $$\\Delta=b^2-4ac$$\n",
    "> \n",
    "\n",
    "Está equação retorna duas soluções, $x_1$ e $x_2$. Você deve usar a função `print()` para imprimir o resultado das variáveis $x_1$ e $x_2$ na tela na tela. \n",
    "\n",
    "### Parte 4: Trocando valores de duas variáveis\n",
    "\n",
    "Crie uma pequeno programa capaz de trocar o valor entre duas variáveis sem a necessidade de criar uma terceira variável. \n",
    "\n",
    ">  **Dica:** Utilize o conceito de atribuição múltipla para fazer a troca das variáveis. "
   ]
  },
  {
   "cell_type": "markdown",
   "metadata": {},
   "source": []
  }
 ],
 "metadata": {
  "kernelspec": {
   "display_name": "base",
   "language": "python",
   "name": "python3"
  },
  "language_info": {
   "codemirror_mode": {
    "name": "ipython",
    "version": 3
   },
   "file_extension": ".py",
   "mimetype": "text/x-python",
   "name": "python",
   "nbconvert_exporter": "python",
   "pygments_lexer": "ipython3",
   "version": "3.11.9"
  }
 },
 "nbformat": 4,
 "nbformat_minor": 2
}
